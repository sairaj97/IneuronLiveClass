{
 "cells": [
  {
   "cell_type": "code",
   "execution_count": 19,
   "id": "bb9dbffd",
   "metadata": {},
   "outputs": [],
   "source": [
    "class xyz:\n",
    "    def __init__(self,a,b,c):\n",
    "        self.a = a\n",
    "        self.b = b \n",
    "        self.c = c\n",
    "        \n",
    "    def test(self):\n",
    "        print(\"this is my 1st test method of xyz class\")\n",
    "        \n",
    "    def test1(self):\n",
    "        print(\"this is my 2nd test method of xyz class\")\n",
    "        \n",
    "    def test2(self):\n",
    "        print(\"this is my 3rd test method of xyz class\")\n",
    "        "
   ]
  },
  {
   "cell_type": "code",
   "execution_count": 24,
   "id": "80f4fbdc",
   "metadata": {},
   "outputs": [],
   "source": [
    "class xyz1(xyz):\n",
    "    pass"
   ]
  },
  {
   "cell_type": "code",
   "execution_count": 25,
   "id": "8bd4015c",
   "metadata": {},
   "outputs": [],
   "source": [
    "p = xyz(1,2,3)"
   ]
  },
  {
   "cell_type": "code",
   "execution_count": 26,
   "id": "0fdad52e",
   "metadata": {},
   "outputs": [
    {
     "data": {
      "text/plain": [
       "1"
      ]
     },
     "execution_count": 26,
     "metadata": {},
     "output_type": "execute_result"
    }
   ],
   "source": [
    "p.a"
   ]
  },
  {
   "cell_type": "code",
   "execution_count": 27,
   "id": "e5625e72",
   "metadata": {},
   "outputs": [
    {
     "ename": "TypeError",
     "evalue": "__init__() missing 3 required positional arguments: 'a', 'b', and 'c'",
     "output_type": "error",
     "traceback": [
      "\u001b[0;31m---------------------------------------------------------------------------\u001b[0m",
      "\u001b[0;31mTypeError\u001b[0m                                 Traceback (most recent call last)",
      "\u001b[0;32m/var/folders/3q/67zhfv792zl9x8lxwtq3yym80000gp/T/ipykernel_4238/2225742902.py\u001b[0m in \u001b[0;36m<module>\u001b[0;34m\u001b[0m\n\u001b[0;32m----> 1\u001b[0;31m \u001b[0mq\u001b[0m \u001b[0;34m=\u001b[0m \u001b[0mxyz1\u001b[0m\u001b[0;34m(\u001b[0m\u001b[0;34m)\u001b[0m\u001b[0;34m\u001b[0m\u001b[0;34m\u001b[0m\u001b[0m\n\u001b[0m",
      "\u001b[0;31mTypeError\u001b[0m: __init__() missing 3 required positional arguments: 'a', 'b', and 'c'"
     ]
    }
   ],
   "source": [
    "q = xyz1()"
   ]
  },
  {
   "cell_type": "code",
   "execution_count": 28,
   "id": "f731716b",
   "metadata": {},
   "outputs": [],
   "source": [
    "q = xyz1(4,5,6)"
   ]
  },
  {
   "cell_type": "code",
   "execution_count": 29,
   "id": "048000bd",
   "metadata": {},
   "outputs": [
    {
     "name": "stdout",
     "output_type": "stream",
     "text": [
      "this is my 3rd test method of xyz class\n"
     ]
    }
   ],
   "source": [
    "q.test2()"
   ]
  },
  {
   "cell_type": "code",
   "execution_count": 30,
   "id": "8dea1529",
   "metadata": {},
   "outputs": [],
   "source": [
    "class xyz1(xyz):\n",
    "    def test(self):\n",
    "        print(\"this is test in xyz1\")"
   ]
  },
  {
   "cell_type": "code",
   "execution_count": 31,
   "id": "d6f26b01",
   "metadata": {},
   "outputs": [],
   "source": [
    "q = xyz1(4,5,6)"
   ]
  },
  {
   "cell_type": "code",
   "execution_count": 32,
   "id": "3f8b2c49",
   "metadata": {},
   "outputs": [
    {
     "name": "stdout",
     "output_type": "stream",
     "text": [
      "this is test in xyz1\n"
     ]
    }
   ],
   "source": [
    "q.test()"
   ]
  },
  {
   "cell_type": "code",
   "execution_count": 33,
   "id": "40dfb03e",
   "metadata": {},
   "outputs": [],
   "source": [
    "class xyz1:\n",
    "    def __init__(self,d,e):\n",
    "        self.d = d\n",
    "        self.e = e\n",
    "        \n",
    "    def test(self):\n",
    "        print(\"this is test in xyz1\")"
   ]
  },
  {
   "cell_type": "code",
   "execution_count": 34,
   "id": "e17c5687",
   "metadata": {},
   "outputs": [
    {
     "ename": "TypeError",
     "evalue": "__init__() takes 3 positional arguments but 6 were given",
     "output_type": "error",
     "traceback": [
      "\u001b[0;31m---------------------------------------------------------------------------\u001b[0m",
      "\u001b[0;31mTypeError\u001b[0m                                 Traceback (most recent call last)",
      "\u001b[0;32m/var/folders/3q/67zhfv792zl9x8lxwtq3yym80000gp/T/ipykernel_4238/2037818748.py\u001b[0m in \u001b[0;36m<module>\u001b[0;34m\u001b[0m\n\u001b[0;32m----> 1\u001b[0;31m \u001b[0mq\u001b[0m \u001b[0;34m=\u001b[0m \u001b[0mxyz1\u001b[0m\u001b[0;34m(\u001b[0m\u001b[0;36m4\u001b[0m\u001b[0;34m,\u001b[0m\u001b[0;36m5\u001b[0m\u001b[0;34m,\u001b[0m\u001b[0;36m6\u001b[0m\u001b[0;34m,\u001b[0m\u001b[0;36m7\u001b[0m\u001b[0;34m,\u001b[0m\u001b[0;36m8\u001b[0m\u001b[0;34m)\u001b[0m\u001b[0;34m\u001b[0m\u001b[0;34m\u001b[0m\u001b[0m\n\u001b[0m",
      "\u001b[0;31mTypeError\u001b[0m: __init__() takes 3 positional arguments but 6 were given"
     ]
    }
   ],
   "source": [
    "q = xyz1(4,5,6,7,8)"
   ]
  },
  {
   "cell_type": "code",
   "execution_count": 1,
   "id": "5015a895",
   "metadata": {},
   "outputs": [],
   "source": [
    "class xyz:\n",
    "    def __init__(self,a,b,c):\n",
    "        self.a = a\n",
    "        self.b = b \n",
    "        self.c = c\n",
    "        \n",
    "    def test(self):\n",
    "        print(\"this is my 1st test method of xyz class\")"
   ]
  },
  {
   "cell_type": "code",
   "execution_count": 2,
   "id": "3ebaf0b3",
   "metadata": {},
   "outputs": [],
   "source": [
    "class xyz1:\n",
    "    def __init__(self,d,e,f,g):\n",
    "        self.d = d\n",
    "        self.e = e\n",
    "        self.f = f\n",
    "        self.g = g\n",
    "        \n",
    "    def test(self):\n",
    "        print(\"this is my 1st test method of xyz1 class\")\n",
    "\n",
    "    def test1(self):\n",
    "        print(\"this is my 2nd test method of xyz1 class\")\n",
    "    "
   ]
  },
  {
   "cell_type": "code",
   "execution_count": 6,
   "id": "92b651ea",
   "metadata": {},
   "outputs": [],
   "source": [
    "class xyz2:\n",
    "    def __init__(self,h,i):\n",
    "        self.h = h\n",
    "        self.i = i\n",
    "        \n",
    "    def test(self):\n",
    "        print(\"this is my 1st test method of xyz1 class\")\n",
    "\n",
    "    def test1(self):\n",
    "        print(\"this is my 2nd test method of xyz1 class\")"
   ]
  },
  {
   "cell_type": "code",
   "execution_count": 69,
   "id": "ae4b7d4b",
   "metadata": {},
   "outputs": [],
   "source": [
    "class child(xyz1,xyz):\n",
    "    pass"
   ]
  },
  {
   "cell_type": "code",
   "execution_count": 71,
   "id": "0e18e1df",
   "metadata": {},
   "outputs": [
    {
     "ename": "TypeError",
     "evalue": "__init__() missing 1 required positional argument: 'g'",
     "output_type": "error",
     "traceback": [
      "\u001b[0;31m---------------------------------------------------------------------------\u001b[0m",
      "\u001b[0;31mTypeError\u001b[0m                                 Traceback (most recent call last)",
      "\u001b[0;32m/var/folders/3q/67zhfv792zl9x8lxwtq3yym80000gp/T/ipykernel_4238/2389704224.py\u001b[0m in \u001b[0;36m<module>\u001b[0;34m\u001b[0m\n\u001b[0;32m----> 1\u001b[0;31m \u001b[0ma\u001b[0m \u001b[0;34m=\u001b[0m \u001b[0mchild\u001b[0m\u001b[0;34m(\u001b[0m\u001b[0;36m1\u001b[0m\u001b[0;34m,\u001b[0m\u001b[0;36m2\u001b[0m\u001b[0;34m,\u001b[0m\u001b[0;36m3\u001b[0m\u001b[0;34m)\u001b[0m\u001b[0;34m\u001b[0m\u001b[0;34m\u001b[0m\u001b[0m\n\u001b[0m",
      "\u001b[0;31mTypeError\u001b[0m: __init__() missing 1 required positional argument: 'g'"
     ]
    }
   ],
   "source": [
    "a = child(1,2,3)"
   ]
  },
  {
   "cell_type": "code",
   "execution_count": 72,
   "id": "e8e20c1f",
   "metadata": {},
   "outputs": [],
   "source": [
    "class child(xyz,xyz1):\n",
    "    pass"
   ]
  },
  {
   "cell_type": "code",
   "execution_count": 73,
   "id": "c3e0842b",
   "metadata": {},
   "outputs": [
    {
     "ename": "TypeError",
     "evalue": "__init__() takes 4 positional arguments but 6 were given",
     "output_type": "error",
     "traceback": [
      "\u001b[0;31m---------------------------------------------------------------------------\u001b[0m",
      "\u001b[0;31mTypeError\u001b[0m                                 Traceback (most recent call last)",
      "\u001b[0;32m/var/folders/3q/67zhfv792zl9x8lxwtq3yym80000gp/T/ipykernel_4238/3709457692.py\u001b[0m in \u001b[0;36m<module>\u001b[0;34m\u001b[0m\n\u001b[0;32m----> 1\u001b[0;31m \u001b[0ma\u001b[0m \u001b[0;34m=\u001b[0m \u001b[0mchild\u001b[0m\u001b[0;34m(\u001b[0m\u001b[0;36m1\u001b[0m\u001b[0;34m,\u001b[0m\u001b[0;36m2\u001b[0m\u001b[0;34m,\u001b[0m\u001b[0;36m3\u001b[0m\u001b[0;34m,\u001b[0m\u001b[0;36m4\u001b[0m\u001b[0;34m,\u001b[0m\u001b[0;36m5\u001b[0m\u001b[0;34m)\u001b[0m\u001b[0;34m\u001b[0m\u001b[0;34m\u001b[0m\u001b[0m\n\u001b[0m",
      "\u001b[0;31mTypeError\u001b[0m: __init__() takes 4 positional arguments but 6 were given"
     ]
    }
   ],
   "source": [
    "a = child(1,2,3,4,5)"
   ]
  },
  {
   "cell_type": "code",
   "execution_count": 74,
   "id": "19765cae",
   "metadata": {},
   "outputs": [],
   "source": [
    "a = child(1,2,3)"
   ]
  },
  {
   "cell_type": "code",
   "execution_count": 76,
   "id": "8674e452",
   "metadata": {},
   "outputs": [
    {
     "name": "stdout",
     "output_type": "stream",
     "text": [
      "this is my 1st test method of xyz class\n"
     ]
    }
   ],
   "source": [
    "a.test()"
   ]
  },
  {
   "cell_type": "code",
   "execution_count": 77,
   "id": "ad8c3d8a",
   "metadata": {},
   "outputs": [
    {
     "ename": "TypeError",
     "evalue": "__init__() missing 3 required positional arguments: 'e', 'f', and 'g'",
     "output_type": "error",
     "traceback": [
      "\u001b[0;31m---------------------------------------------------------------------------\u001b[0m",
      "\u001b[0;31mTypeError\u001b[0m                                 Traceback (most recent call last)",
      "\u001b[0;32m/var/folders/3q/67zhfv792zl9x8lxwtq3yym80000gp/T/ipykernel_4238/4220169299.py\u001b[0m in \u001b[0;36m<module>\u001b[0;34m\u001b[0m\n\u001b[0;32m----> 1\u001b[0;31m \u001b[0;32mclass\u001b[0m \u001b[0mchild\u001b[0m\u001b[0;34m(\u001b[0m\u001b[0mxyz1\u001b[0m\u001b[0;34m(\u001b[0m\u001b[0mxyz\u001b[0m\u001b[0;34m)\u001b[0m\u001b[0;34m)\u001b[0m\u001b[0;34m:\u001b[0m\u001b[0;34m\u001b[0m\u001b[0;34m\u001b[0m\u001b[0m\n\u001b[0m\u001b[1;32m      2\u001b[0m     \u001b[0;32mpass\u001b[0m\u001b[0;34m\u001b[0m\u001b[0;34m\u001b[0m\u001b[0m\n",
      "\u001b[0;31mTypeError\u001b[0m: __init__() missing 3 required positional arguments: 'e', 'f', and 'g'"
     ]
    }
   ],
   "source": [
    "class child(xyz1(xyz)):\n",
    "    pass"
   ]
  },
  {
   "cell_type": "code",
   "execution_count": 10,
   "id": "3c8723eb",
   "metadata": {},
   "outputs": [],
   "source": [
    "class child(xyz1, xyz):\n",
    "    def __init__(self, *args, **kwargs):\n",
    "        xyz.__init__(self, *args)\n",
    "        xyz1.__init__(self, **kwargs)\n",
    "        "
   ]
  },
  {
   "cell_type": "code",
   "execution_count": 11,
   "id": "8b855ff4",
   "metadata": {},
   "outputs": [],
   "source": [
    "n = child(4,5,6,d = 7,e = 8,f = 9,g = 10)"
   ]
  },
  {
   "cell_type": "code",
   "execution_count": 12,
   "id": "9583a567",
   "metadata": {},
   "outputs": [
    {
     "data": {
      "text/plain": [
       "9"
      ]
     },
     "execution_count": 12,
     "metadata": {},
     "output_type": "execute_result"
    }
   ],
   "source": [
    "n.f"
   ]
  },
  {
   "cell_type": "code",
   "execution_count": 3,
   "id": "205e111a",
   "metadata": {},
   "outputs": [],
   "source": [
    "class child(xyz1, xyz):\n",
    "    def __init__(self, **kwargs1):\n",
    "        xyz.__init__(self, **kwargs1)\n",
    "        xyz1.__init__(self, **kwargs1)"
   ]
  },
  {
   "cell_type": "code",
   "execution_count": 4,
   "id": "03b915f0",
   "metadata": {},
   "outputs": [
    {
     "ename": "TypeError",
     "evalue": "__init__() takes 1 positional argument but 4 were given",
     "output_type": "error",
     "traceback": [
      "\u001b[0;31m---------------------------------------------------------------------------\u001b[0m",
      "\u001b[0;31mTypeError\u001b[0m                                 Traceback (most recent call last)",
      "\u001b[0;32m/var/folders/3q/67zhfv792zl9x8lxwtq3yym80000gp/T/ipykernel_1225/1308109695.py\u001b[0m in \u001b[0;36m<module>\u001b[0;34m\u001b[0m\n\u001b[0;32m----> 1\u001b[0;31m \u001b[0mn\u001b[0m \u001b[0;34m=\u001b[0m \u001b[0mchild\u001b[0m\u001b[0;34m(\u001b[0m\u001b[0;36m4\u001b[0m\u001b[0;34m,\u001b[0m\u001b[0;36m5\u001b[0m\u001b[0;34m,\u001b[0m\u001b[0;36m6\u001b[0m\u001b[0;34m,\u001b[0m\u001b[0md\u001b[0m \u001b[0;34m=\u001b[0m \u001b[0;36m7\u001b[0m\u001b[0;34m,\u001b[0m\u001b[0me\u001b[0m \u001b[0;34m=\u001b[0m \u001b[0;36m8\u001b[0m\u001b[0;34m,\u001b[0m\u001b[0mf\u001b[0m \u001b[0;34m=\u001b[0m \u001b[0;36m9\u001b[0m\u001b[0;34m,\u001b[0m\u001b[0mg\u001b[0m \u001b[0;34m=\u001b[0m \u001b[0;36m10\u001b[0m\u001b[0;34m)\u001b[0m\u001b[0;34m\u001b[0m\u001b[0;34m\u001b[0m\u001b[0m\n\u001b[0m",
      "\u001b[0;31mTypeError\u001b[0m: __init__() takes 1 positional argument but 4 were given"
     ]
    }
   ],
   "source": [
    "n = child(4,5,6,d = 7,e = 8,f = 9,g = 10)"
   ]
  },
  {
   "cell_type": "code",
   "execution_count": 5,
   "id": "6bf1ec49",
   "metadata": {},
   "outputs": [
    {
     "ename": "TypeError",
     "evalue": "__init__() got an unexpected keyword argument 'd'",
     "output_type": "error",
     "traceback": [
      "\u001b[0;31m---------------------------------------------------------------------------\u001b[0m",
      "\u001b[0;31mTypeError\u001b[0m                                 Traceback (most recent call last)",
      "\u001b[0;32m/var/folders/3q/67zhfv792zl9x8lxwtq3yym80000gp/T/ipykernel_1225/79831134.py\u001b[0m in \u001b[0;36m<module>\u001b[0;34m\u001b[0m\n\u001b[0;32m----> 1\u001b[0;31m \u001b[0mn\u001b[0m \u001b[0;34m=\u001b[0m \u001b[0mchild\u001b[0m\u001b[0;34m(\u001b[0m\u001b[0ma\u001b[0m \u001b[0;34m=\u001b[0m \u001b[0;36m4\u001b[0m\u001b[0;34m,\u001b[0m\u001b[0mb\u001b[0m \u001b[0;34m=\u001b[0m \u001b[0;36m5\u001b[0m\u001b[0;34m,\u001b[0m\u001b[0mc\u001b[0m \u001b[0;34m=\u001b[0m \u001b[0;36m6\u001b[0m\u001b[0;34m,\u001b[0m\u001b[0md\u001b[0m \u001b[0;34m=\u001b[0m \u001b[0;36m7\u001b[0m\u001b[0;34m,\u001b[0m\u001b[0me\u001b[0m \u001b[0;34m=\u001b[0m \u001b[0;36m8\u001b[0m\u001b[0;34m,\u001b[0m\u001b[0mf\u001b[0m \u001b[0;34m=\u001b[0m \u001b[0;36m9\u001b[0m\u001b[0;34m,\u001b[0m\u001b[0mg\u001b[0m \u001b[0;34m=\u001b[0m \u001b[0;36m10\u001b[0m\u001b[0;34m)\u001b[0m\u001b[0;34m\u001b[0m\u001b[0;34m\u001b[0m\u001b[0m\n\u001b[0m",
      "\u001b[0;32m/var/folders/3q/67zhfv792zl9x8lxwtq3yym80000gp/T/ipykernel_1225/2201663808.py\u001b[0m in \u001b[0;36m__init__\u001b[0;34m(self, **kwargs1)\u001b[0m\n\u001b[1;32m      1\u001b[0m \u001b[0;32mclass\u001b[0m \u001b[0mchild\u001b[0m\u001b[0;34m(\u001b[0m\u001b[0mxyz1\u001b[0m\u001b[0;34m,\u001b[0m \u001b[0mxyz\u001b[0m\u001b[0;34m)\u001b[0m\u001b[0;34m:\u001b[0m\u001b[0;34m\u001b[0m\u001b[0;34m\u001b[0m\u001b[0m\n\u001b[1;32m      2\u001b[0m     \u001b[0;32mdef\u001b[0m \u001b[0m__init__\u001b[0m\u001b[0;34m(\u001b[0m\u001b[0mself\u001b[0m\u001b[0;34m,\u001b[0m \u001b[0;34m**\u001b[0m\u001b[0mkwargs1\u001b[0m\u001b[0;34m)\u001b[0m\u001b[0;34m:\u001b[0m\u001b[0;34m\u001b[0m\u001b[0;34m\u001b[0m\u001b[0m\n\u001b[0;32m----> 3\u001b[0;31m         \u001b[0mxyz\u001b[0m\u001b[0;34m.\u001b[0m\u001b[0m__init__\u001b[0m\u001b[0;34m(\u001b[0m\u001b[0mself\u001b[0m\u001b[0;34m,\u001b[0m \u001b[0;34m**\u001b[0m\u001b[0mkwargs1\u001b[0m\u001b[0;34m)\u001b[0m\u001b[0;34m\u001b[0m\u001b[0;34m\u001b[0m\u001b[0m\n\u001b[0m\u001b[1;32m      4\u001b[0m         \u001b[0mxyz1\u001b[0m\u001b[0;34m.\u001b[0m\u001b[0m__init__\u001b[0m\u001b[0;34m(\u001b[0m\u001b[0mself\u001b[0m\u001b[0;34m,\u001b[0m \u001b[0;34m**\u001b[0m\u001b[0mkwargs1\u001b[0m\u001b[0;34m)\u001b[0m\u001b[0;34m\u001b[0m\u001b[0;34m\u001b[0m\u001b[0m\n",
      "\u001b[0;31mTypeError\u001b[0m: __init__() got an unexpected keyword argument 'd'"
     ]
    }
   ],
   "source": [
    "n = child(a = 4,b = 5,c = 6,d = 7,e = 8,f = 9,g = 10)"
   ]
  },
  {
   "cell_type": "code",
   "execution_count": 13,
   "id": "134d887a",
   "metadata": {},
   "outputs": [],
   "source": [
    "class xyz:\n",
    "    def __init__(self,a,b,c):\n",
    "        self.a = a\n",
    "        self.b = b \n",
    "        self.c = c\n",
    "        \n",
    "    def test(self):\n",
    "        print(\"this is my 1st test method of xyz class\")\n",
    "        \n",
    "class xyz1(xyz):\n",
    "    def test1(self):\n",
    "        print(\"this is my 1st test method of xyz1 class\")\n",
    "        \n",
    "class xyz2(xyz1):\n",
    "    def test1(self):\n",
    "        print(\"this is my 1st test method of xyz2 class\")\n",
    "        \n",
    "class xyz3(xyz2):\n",
    "    def test2(self):\n",
    "        print(\"this is my 1st test method of xyz3 class\")"
   ]
  },
  {
   "cell_type": "code",
   "execution_count": 14,
   "id": "50a7d77c",
   "metadata": {},
   "outputs": [
    {
     "ename": "TypeError",
     "evalue": "__init__() missing 3 required positional arguments: 'a', 'b', and 'c'",
     "output_type": "error",
     "traceback": [
      "\u001b[0;31m---------------------------------------------------------------------------\u001b[0m",
      "\u001b[0;31mTypeError\u001b[0m                                 Traceback (most recent call last)",
      "\u001b[0;32m/var/folders/3q/67zhfv792zl9x8lxwtq3yym80000gp/T/ipykernel_1225/1459876252.py\u001b[0m in \u001b[0;36m<module>\u001b[0;34m\u001b[0m\n\u001b[0;32m----> 1\u001b[0;31m \u001b[0mn\u001b[0m \u001b[0;34m=\u001b[0m \u001b[0mxyz3\u001b[0m\u001b[0;34m(\u001b[0m\u001b[0;34m)\u001b[0m\u001b[0;34m\u001b[0m\u001b[0;34m\u001b[0m\u001b[0m\n\u001b[0m",
      "\u001b[0;31mTypeError\u001b[0m: __init__() missing 3 required positional arguments: 'a', 'b', and 'c'"
     ]
    }
   ],
   "source": [
    "n = xyz3()"
   ]
  },
  {
   "cell_type": "code",
   "execution_count": 15,
   "id": "d8eb0300",
   "metadata": {},
   "outputs": [],
   "source": [
    "n = xyz3(1,2,3)"
   ]
  },
  {
   "cell_type": "code",
   "execution_count": 16,
   "id": "fad77f6a",
   "metadata": {},
   "outputs": [
    {
     "name": "stdout",
     "output_type": "stream",
     "text": [
      "this is my 1st test method of xyz2 class\n"
     ]
    }
   ],
   "source": [
    "n.test1()"
   ]
  },
  {
   "cell_type": "code",
   "execution_count": 17,
   "id": "e98d197f",
   "metadata": {},
   "outputs": [],
   "source": [
    "n = xyz2(1,2,3)"
   ]
  },
  {
   "cell_type": "code",
   "execution_count": 18,
   "id": "2834b15d",
   "metadata": {},
   "outputs": [
    {
     "name": "stdout",
     "output_type": "stream",
     "text": [
      "this is my 1st test method of xyz2 class\n"
     ]
    }
   ],
   "source": [
    "n.test1()"
   ]
  },
  {
   "cell_type": "code",
   "execution_count": 23,
   "id": "14257f08",
   "metadata": {},
   "outputs": [],
   "source": [
    "class file:\n",
    "    def __init__(self, path):\n",
    "        self.path = path\n",
    "        \n",
    "    def read(self):\n",
    "        f = open(self.path)\n",
    "        return f.read()\n",
    "    \n",
    "    def write(self, content):\n",
    "        f = open(self.path, \"w\")\n",
    "        f.write(content)        "
   ]
  },
  {
   "cell_type": "code",
   "execution_count": 24,
   "id": "daf3ece3",
   "metadata": {},
   "outputs": [],
   "source": [
    "a = file(\"text2.txt\")"
   ]
  },
  {
   "cell_type": "code",
   "execution_count": 25,
   "id": "5043b3e0",
   "metadata": {},
   "outputs": [
    {
     "data": {
      "text/plain": [
       "'text2.txt'"
      ]
     },
     "execution_count": 25,
     "metadata": {},
     "output_type": "execute_result"
    }
   ],
   "source": [
    "a.path"
   ]
  },
  {
   "cell_type": "code",
   "execution_count": 26,
   "id": "4c655109",
   "metadata": {},
   "outputs": [
    {
     "data": {
      "text/plain": [
       "'this is shortcut to open and write in file without closing it\\n'"
      ]
     },
     "execution_count": 26,
     "metadata": {},
     "output_type": "execute_result"
    }
   ],
   "source": [
    "a.read()"
   ]
  },
  {
   "cell_type": "code",
   "execution_count": 27,
   "id": "0492fcb3",
   "metadata": {},
   "outputs": [],
   "source": [
    "a.write(\"deh devache mandir aat aatm parmeshwar ho\")"
   ]
  },
  {
   "cell_type": "code",
   "execution_count": 28,
   "id": "a82062c8",
   "metadata": {},
   "outputs": [
    {
     "data": {
      "text/plain": [
       "'deh devache mandir aat aatm parmeshwar ho'"
      ]
     },
     "execution_count": 28,
     "metadata": {},
     "output_type": "execute_result"
    }
   ],
   "source": [
    "a.read()"
   ]
  },
  {
   "cell_type": "code",
   "execution_count": 46,
   "id": "201603b3",
   "metadata": {},
   "outputs": [],
   "source": [
    "class file1(file):\n",
    "    def close(self):\n",
    "        f = open(self.path)\n",
    "        print(f.read())\n",
    "        f.close()"
   ]
  },
  {
   "cell_type": "code",
   "execution_count": 53,
   "id": "21118596",
   "metadata": {},
   "outputs": [],
   "source": [
    "b = file1(\"text2.txt\")"
   ]
  },
  {
   "cell_type": "code",
   "execution_count": 54,
   "id": "a21a46e6",
   "metadata": {},
   "outputs": [
    {
     "data": {
      "text/plain": [
       "'text2.txt'"
      ]
     },
     "execution_count": 54,
     "metadata": {},
     "output_type": "execute_result"
    }
   ],
   "source": [
    "b.path"
   ]
  },
  {
   "cell_type": "code",
   "execution_count": 55,
   "id": "89b79ec8",
   "metadata": {},
   "outputs": [
    {
     "data": {
      "text/plain": [
       "'deh devache mandir aat aatm parmeshwar ho'"
      ]
     },
     "execution_count": 55,
     "metadata": {},
     "output_type": "execute_result"
    }
   ],
   "source": [
    "b.read()"
   ]
  },
  {
   "cell_type": "code",
   "execution_count": 56,
   "id": "f06eed7b",
   "metadata": {},
   "outputs": [
    {
     "name": "stdout",
     "output_type": "stream",
     "text": [
      "deh devache mandir aat aatm parmeshwar ho\n"
     ]
    }
   ],
   "source": [
    "b.close()"
   ]
  },
  {
   "cell_type": "code",
   "execution_count": 57,
   "id": "6ab0c258",
   "metadata": {},
   "outputs": [],
   "source": [
    "b.write(\"fgffgfgfdgfgfg\")"
   ]
  },
  {
   "cell_type": "code",
   "execution_count": 58,
   "id": "bf5c16d6",
   "metadata": {},
   "outputs": [
    {
     "data": {
      "text/plain": [
       "'fgffgfgfdgfgfg'"
      ]
     },
     "execution_count": 58,
     "metadata": {},
     "output_type": "execute_result"
    }
   ],
   "source": [
    "b.read()"
   ]
  },
  {
   "cell_type": "code",
   "execution_count": 59,
   "id": "e7a694c3",
   "metadata": {},
   "outputs": [],
   "source": [
    "class test:\n",
    "    def __init__(self,a,b,c):\n",
    "        self.a = a\n",
    "        self.b = b \n",
    "        self.c = c\n",
    "        \n",
    "class test1(test):\n",
    "    pass"
   ]
  },
  {
   "cell_type": "code",
   "execution_count": 60,
   "id": "13435abe",
   "metadata": {},
   "outputs": [],
   "source": [
    "n = test1(1,2,3)"
   ]
  },
  {
   "cell_type": "code",
   "execution_count": 61,
   "id": "351b98cf",
   "metadata": {},
   "outputs": [
    {
     "data": {
      "text/plain": [
       "1"
      ]
     },
     "execution_count": 61,
     "metadata": {},
     "output_type": "execute_result"
    }
   ],
   "source": [
    "n.a"
   ]
  },
  {
   "cell_type": "code",
   "execution_count": 62,
   "id": "f44240a8",
   "metadata": {},
   "outputs": [
    {
     "data": {
      "text/plain": [
       "2"
      ]
     },
     "execution_count": 62,
     "metadata": {},
     "output_type": "execute_result"
    }
   ],
   "source": [
    "n.b"
   ]
  },
  {
   "cell_type": "code",
   "execution_count": 63,
   "id": "3101da67",
   "metadata": {},
   "outputs": [],
   "source": [
    "m = test(4,5,6)"
   ]
  },
  {
   "cell_type": "code",
   "execution_count": 64,
   "id": "865dd91e",
   "metadata": {},
   "outputs": [
    {
     "data": {
      "text/plain": [
       "4"
      ]
     },
     "execution_count": 64,
     "metadata": {},
     "output_type": "execute_result"
    }
   ],
   "source": [
    "m.a"
   ]
  },
  {
   "cell_type": "code",
   "execution_count": 65,
   "id": "96fe65e0",
   "metadata": {},
   "outputs": [
    {
     "data": {
      "text/plain": [
       "1"
      ]
     },
     "execution_count": 65,
     "metadata": {},
     "output_type": "execute_result"
    }
   ],
   "source": [
    "n.a"
   ]
  },
  {
   "cell_type": "code",
   "execution_count": 66,
   "id": "37990413",
   "metadata": {},
   "outputs": [],
   "source": [
    "class test:\n",
    "    def __init__(self):\n",
    "        self.a = 4     \n",
    "        \n",
    "class test1(test):\n",
    "    def __init__(self):\n",
    "        self.a = 7"
   ]
  },
  {
   "cell_type": "code",
   "execution_count": 67,
   "id": "770aa9c4",
   "metadata": {},
   "outputs": [],
   "source": [
    "n = test()"
   ]
  },
  {
   "cell_type": "code",
   "execution_count": 68,
   "id": "9fe70841",
   "metadata": {},
   "outputs": [
    {
     "data": {
      "text/plain": [
       "4"
      ]
     },
     "execution_count": 68,
     "metadata": {},
     "output_type": "execute_result"
    }
   ],
   "source": [
    "n.a"
   ]
  },
  {
   "cell_type": "code",
   "execution_count": 69,
   "id": "a4f7a97a",
   "metadata": {},
   "outputs": [],
   "source": [
    "m = test1()"
   ]
  },
  {
   "cell_type": "code",
   "execution_count": 70,
   "id": "9ed33c67",
   "metadata": {},
   "outputs": [
    {
     "data": {
      "text/plain": [
       "7"
      ]
     },
     "execution_count": 70,
     "metadata": {},
     "output_type": "execute_result"
    }
   ],
   "source": [
    "m.a"
   ]
  },
  {
   "cell_type": "code",
   "execution_count": 71,
   "id": "8aa10e54",
   "metadata": {},
   "outputs": [
    {
     "data": {
      "text/plain": [
       "4"
      ]
     },
     "execution_count": 71,
     "metadata": {},
     "output_type": "execute_result"
    }
   ],
   "source": [
    "n.a"
   ]
  },
  {
   "cell_type": "code",
   "execution_count": 72,
   "id": "58b0fd23",
   "metadata": {},
   "outputs": [],
   "source": [
    "class test:\n",
    "    def __init__(self):\n",
    "        self.a = 4     \n",
    "        \n",
    "class test1(test):\n",
    "    def __init__(self):\n",
    "        test.__init__(self)\n",
    "        self.a = 7"
   ]
  },
  {
   "cell_type": "code",
   "execution_count": 73,
   "id": "430ccc64",
   "metadata": {},
   "outputs": [],
   "source": [
    "n =test()"
   ]
  },
  {
   "cell_type": "code",
   "execution_count": 74,
   "id": "016495c8",
   "metadata": {},
   "outputs": [
    {
     "data": {
      "text/plain": [
       "4"
      ]
     },
     "execution_count": 74,
     "metadata": {},
     "output_type": "execute_result"
    }
   ],
   "source": [
    "n.a"
   ]
  },
  {
   "cell_type": "code",
   "execution_count": 77,
   "id": "939f73f7",
   "metadata": {},
   "outputs": [],
   "source": [
    "m = test1()"
   ]
  },
  {
   "cell_type": "code",
   "execution_count": 78,
   "id": "81c3cc12",
   "metadata": {},
   "outputs": [
    {
     "data": {
      "text/plain": [
       "7"
      ]
     },
     "execution_count": 78,
     "metadata": {},
     "output_type": "execute_result"
    }
   ],
   "source": [
    "m.a"
   ]
  },
  {
   "cell_type": "code",
   "execution_count": 79,
   "id": "eb7b087d",
   "metadata": {},
   "outputs": [
    {
     "data": {
      "text/plain": [
       "4"
      ]
     },
     "execution_count": 79,
     "metadata": {},
     "output_type": "execute_result"
    }
   ],
   "source": [
    "n.a"
   ]
  },
  {
   "cell_type": "code",
   "execution_count": 1,
   "id": "bce2986b",
   "metadata": {},
   "outputs": [],
   "source": [
    "class test:\n",
    "    def __init__(self):\n",
    "        self._a = 4     \n",
    "        \n",
    "class test1(test):\n",
    "    def __init__(self):\n",
    "        self.a = 7"
   ]
  },
  {
   "cell_type": "code",
   "execution_count": 13,
   "id": "c8e053ff",
   "metadata": {},
   "outputs": [],
   "source": [
    "u = test()"
   ]
  },
  {
   "cell_type": "code",
   "execution_count": 14,
   "id": "75f5d087",
   "metadata": {},
   "outputs": [
    {
     "data": {
      "text/plain": [
       "4"
      ]
     },
     "execution_count": 14,
     "metadata": {},
     "output_type": "execute_result"
    }
   ],
   "source": [
    "u._a"
   ]
  },
  {
   "cell_type": "code",
   "execution_count": 15,
   "id": "c8ec45dd",
   "metadata": {},
   "outputs": [],
   "source": [
    "u = test1()"
   ]
  },
  {
   "cell_type": "code",
   "execution_count": 16,
   "id": "1954c025",
   "metadata": {},
   "outputs": [
    {
     "data": {
      "text/plain": [
       "7"
      ]
     },
     "execution_count": 16,
     "metadata": {},
     "output_type": "execute_result"
    }
   ],
   "source": [
    "u.a"
   ]
  },
  {
   "cell_type": "code",
   "execution_count": 17,
   "id": "23f29f37",
   "metadata": {},
   "outputs": [
    {
     "data": {
      "text/plain": [
       "4"
      ]
     },
     "execution_count": 17,
     "metadata": {},
     "output_type": "execute_result"
    }
   ],
   "source": [
    "u._a"
   ]
  },
  {
   "cell_type": "code",
   "execution_count": 18,
   "id": "77541ba0",
   "metadata": {},
   "outputs": [],
   "source": [
    "class test:\n",
    "    def __init__(self):\n",
    "        self.__a = 4     \n",
    "        \n",
    "class test1(test):\n",
    "    def __init__(self):\n",
    "        self.__a = 7"
   ]
  },
  {
   "cell_type": "code",
   "execution_count": 19,
   "id": "bb24e428",
   "metadata": {},
   "outputs": [],
   "source": [
    "u = test()"
   ]
  },
  {
   "cell_type": "code",
   "execution_count": 20,
   "id": "f719d3d2",
   "metadata": {},
   "outputs": [
    {
     "ename": "AttributeError",
     "evalue": "'test' object has no attribute '__a'",
     "output_type": "error",
     "traceback": [
      "\u001b[0;31m---------------------------------------------------------------------------\u001b[0m",
      "\u001b[0;31mAttributeError\u001b[0m                            Traceback (most recent call last)",
      "\u001b[0;32m/var/folders/3q/67zhfv792zl9x8lxwtq3yym80000gp/T/ipykernel_3730/3701111835.py\u001b[0m in \u001b[0;36m<module>\u001b[0;34m\u001b[0m\n\u001b[0;32m----> 1\u001b[0;31m \u001b[0mu\u001b[0m\u001b[0;34m.\u001b[0m\u001b[0m__a\u001b[0m\u001b[0;34m\u001b[0m\u001b[0;34m\u001b[0m\u001b[0m\n\u001b[0m",
      "\u001b[0;31mAttributeError\u001b[0m: 'test' object has no attribute '__a'"
     ]
    }
   ],
   "source": [
    "u.__a"
   ]
  },
  {
   "cell_type": "code",
   "execution_count": 21,
   "id": "d99542cf",
   "metadata": {},
   "outputs": [],
   "source": [
    "class test:\n",
    "    def __init__(self,a,b,c):\n",
    "        self._a = a   #protected\n",
    "        self.__b = b  #private\n",
    "        self.c = c    #public\n",
    "        \n",
    "class test1(test):\n",
    "    pass"
   ]
  },
  {
   "cell_type": "code",
   "execution_count": 22,
   "id": "947dde3b",
   "metadata": {},
   "outputs": [],
   "source": [
    "u = test(1,2,3)"
   ]
  },
  {
   "cell_type": "code",
   "execution_count": 23,
   "id": "6fa3232f",
   "metadata": {},
   "outputs": [
    {
     "data": {
      "text/plain": [
       "3"
      ]
     },
     "execution_count": 23,
     "metadata": {},
     "output_type": "execute_result"
    }
   ],
   "source": [
    "u.c"
   ]
  },
  {
   "cell_type": "code",
   "execution_count": 24,
   "id": "bfca2354",
   "metadata": {},
   "outputs": [
    {
     "data": {
      "text/plain": [
       "1"
      ]
     },
     "execution_count": 24,
     "metadata": {},
     "output_type": "execute_result"
    }
   ],
   "source": [
    "u._a"
   ]
  },
  {
   "cell_type": "code",
   "execution_count": 25,
   "id": "6fb0226e",
   "metadata": {},
   "outputs": [
    {
     "ename": "AttributeError",
     "evalue": "'test' object has no attribute '__b'",
     "output_type": "error",
     "traceback": [
      "\u001b[0;31m---------------------------------------------------------------------------\u001b[0m",
      "\u001b[0;31mAttributeError\u001b[0m                            Traceback (most recent call last)",
      "\u001b[0;32m/var/folders/3q/67zhfv792zl9x8lxwtq3yym80000gp/T/ipykernel_3730/341573333.py\u001b[0m in \u001b[0;36m<module>\u001b[0;34m\u001b[0m\n\u001b[0;32m----> 1\u001b[0;31m \u001b[0mu\u001b[0m\u001b[0;34m.\u001b[0m\u001b[0m__b\u001b[0m\u001b[0;34m\u001b[0m\u001b[0;34m\u001b[0m\u001b[0m\n\u001b[0m",
      "\u001b[0;31mAttributeError\u001b[0m: 'test' object has no attribute '__b'"
     ]
    }
   ],
   "source": [
    "u.__b"
   ]
  },
  {
   "cell_type": "code",
   "execution_count": 26,
   "id": "56e8d995",
   "metadata": {},
   "outputs": [
    {
     "data": {
      "text/plain": [
       "2"
      ]
     },
     "execution_count": 26,
     "metadata": {},
     "output_type": "execute_result"
    }
   ],
   "source": [
    "u._test__b"
   ]
  },
  {
   "cell_type": "code",
   "execution_count": 27,
   "id": "fdd6a069",
   "metadata": {},
   "outputs": [],
   "source": [
    "v = test1(4,5,6)"
   ]
  },
  {
   "cell_type": "code",
   "execution_count": 28,
   "id": "87d1f81b",
   "metadata": {},
   "outputs": [
    {
     "data": {
      "text/plain": [
       "3"
      ]
     },
     "execution_count": 28,
     "metadata": {},
     "output_type": "execute_result"
    }
   ],
   "source": [
    "u.c"
   ]
  },
  {
   "cell_type": "code",
   "execution_count": 29,
   "id": "d4df9969",
   "metadata": {},
   "outputs": [
    {
     "data": {
      "text/plain": [
       "6"
      ]
     },
     "execution_count": 29,
     "metadata": {},
     "output_type": "execute_result"
    }
   ],
   "source": [
    "v.c"
   ]
  },
  {
   "cell_type": "code",
   "execution_count": 30,
   "id": "9f65cea4",
   "metadata": {},
   "outputs": [
    {
     "data": {
      "text/plain": [
       "4"
      ]
     },
     "execution_count": 30,
     "metadata": {},
     "output_type": "execute_result"
    }
   ],
   "source": [
    "v._a"
   ]
  },
  {
   "cell_type": "code",
   "execution_count": 31,
   "id": "625c9665",
   "metadata": {},
   "outputs": [
    {
     "ename": "AttributeError",
     "evalue": "'test1' object has no attribute '__b'",
     "output_type": "error",
     "traceback": [
      "\u001b[0;31m---------------------------------------------------------------------------\u001b[0m",
      "\u001b[0;31mAttributeError\u001b[0m                            Traceback (most recent call last)",
      "\u001b[0;32m/var/folders/3q/67zhfv792zl9x8lxwtq3yym80000gp/T/ipykernel_3730/2806812484.py\u001b[0m in \u001b[0;36m<module>\u001b[0;34m\u001b[0m\n\u001b[0;32m----> 1\u001b[0;31m \u001b[0mv\u001b[0m\u001b[0;34m.\u001b[0m\u001b[0m__b\u001b[0m\u001b[0;34m\u001b[0m\u001b[0;34m\u001b[0m\u001b[0m\n\u001b[0m",
      "\u001b[0;31mAttributeError\u001b[0m: 'test1' object has no attribute '__b'"
     ]
    }
   ],
   "source": [
    "v.__b"
   ]
  },
  {
   "cell_type": "code",
   "execution_count": 32,
   "id": "edc56575",
   "metadata": {},
   "outputs": [
    {
     "ename": "AttributeError",
     "evalue": "'test1' object has no attribute '_test1__b'",
     "output_type": "error",
     "traceback": [
      "\u001b[0;31m---------------------------------------------------------------------------\u001b[0m",
      "\u001b[0;31mAttributeError\u001b[0m                            Traceback (most recent call last)",
      "\u001b[0;32m/var/folders/3q/67zhfv792zl9x8lxwtq3yym80000gp/T/ipykernel_3730/2245651001.py\u001b[0m in \u001b[0;36m<module>\u001b[0;34m\u001b[0m\n\u001b[0;32m----> 1\u001b[0;31m \u001b[0mv\u001b[0m\u001b[0;34m.\u001b[0m\u001b[0m_test1__b\u001b[0m\u001b[0;34m\u001b[0m\u001b[0;34m\u001b[0m\u001b[0m\n\u001b[0m",
      "\u001b[0;31mAttributeError\u001b[0m: 'test1' object has no attribute '_test1__b'"
     ]
    }
   ],
   "source": [
    "v._test1__b"
   ]
  },
  {
   "cell_type": "code",
   "execution_count": 33,
   "id": "2a1c9ed7",
   "metadata": {},
   "outputs": [
    {
     "data": {
      "text/plain": [
       "5"
      ]
     },
     "execution_count": 33,
     "metadata": {},
     "output_type": "execute_result"
    }
   ],
   "source": [
    "v._test__b"
   ]
  },
  {
   "cell_type": "code",
   "execution_count": 47,
   "id": "7fb05aea",
   "metadata": {},
   "outputs": [],
   "source": [
    "class bonuscalculator:\n",
    "    def __init__(self, empid, emprating, empmail):\n",
    "        self.empid = empid\n",
    "        self.emprating = emprating\n",
    "        self._empmail = empmail\n",
    "        self.__bonusratingforA = \"70%\"\n",
    "        self.__bonusratingforB = \"60%\"\n",
    "        self.__bonusratingforC = \"40%\"\n",
    "        \n",
    "    def bonuscal(self):\n",
    "        if self.emprating == \"A\":\n",
    "            bonus = self.__bonusratingforA\n",
    "            return bonus\n",
    "        elif self.emprating == \"B\":\n",
    "            bonus = self.__bonusratingforB\n",
    "            return bonus\n",
    "        elif self.emprating == \"C\":\n",
    "            bonus = self.__bonusratingforC\n",
    "            return bonus\n",
    "               "
   ]
  },
  {
   "cell_type": "code",
   "execution_count": 48,
   "id": "7deba299",
   "metadata": {},
   "outputs": [],
   "source": [
    "emp1 = bonuscalculator(100, \"A\", \"54y5@gmail.com\")\n",
    "emp2 = bonuscalculator(101, \"B\", \"545@gmail.com\")\n",
    "emp3 = bonuscalculator(102, \"C\", \"5y5@gmail.com\")"
   ]
  },
  {
   "cell_type": "code",
   "execution_count": 49,
   "id": "98e5b87a",
   "metadata": {},
   "outputs": [
    {
     "data": {
      "text/plain": [
       "100"
      ]
     },
     "execution_count": 49,
     "metadata": {},
     "output_type": "execute_result"
    }
   ],
   "source": [
    "emp1.empid"
   ]
  },
  {
   "cell_type": "code",
   "execution_count": 50,
   "id": "0edeae29",
   "metadata": {},
   "outputs": [
    {
     "data": {
      "text/plain": [
       "'A'"
      ]
     },
     "execution_count": 50,
     "metadata": {},
     "output_type": "execute_result"
    }
   ],
   "source": [
    "emp1.emprating"
   ]
  },
  {
   "cell_type": "code",
   "execution_count": 51,
   "id": "fa1cd9ca",
   "metadata": {},
   "outputs": [
    {
     "ename": "AttributeError",
     "evalue": "'bonuscalculator' object has no attribute 'empmail'",
     "output_type": "error",
     "traceback": [
      "\u001b[0;31m---------------------------------------------------------------------------\u001b[0m",
      "\u001b[0;31mAttributeError\u001b[0m                            Traceback (most recent call last)",
      "\u001b[0;32m/var/folders/3q/67zhfv792zl9x8lxwtq3yym80000gp/T/ipykernel_3730/2808928676.py\u001b[0m in \u001b[0;36m<module>\u001b[0;34m\u001b[0m\n\u001b[0;32m----> 1\u001b[0;31m \u001b[0memp1\u001b[0m\u001b[0;34m.\u001b[0m\u001b[0mempmail\u001b[0m\u001b[0;34m\u001b[0m\u001b[0;34m\u001b[0m\u001b[0m\n\u001b[0m",
      "\u001b[0;31mAttributeError\u001b[0m: 'bonuscalculator' object has no attribute 'empmail'"
     ]
    }
   ],
   "source": [
    "emp1.empmail"
   ]
  },
  {
   "cell_type": "code",
   "execution_count": 41,
   "id": "02f88529",
   "metadata": {},
   "outputs": [
    {
     "data": {
      "text/plain": [
       "'54y5@gmail.com'"
      ]
     },
     "execution_count": 41,
     "metadata": {},
     "output_type": "execute_result"
    }
   ],
   "source": [
    "emp1._empmail"
   ]
  },
  {
   "cell_type": "code",
   "execution_count": 42,
   "id": "9b3598c6",
   "metadata": {},
   "outputs": [],
   "source": [
    "emp1.empid = 200 "
   ]
  },
  {
   "cell_type": "code",
   "execution_count": 43,
   "id": "37be6b2c",
   "metadata": {},
   "outputs": [
    {
     "data": {
      "text/plain": [
       "200"
      ]
     },
     "execution_count": 43,
     "metadata": {},
     "output_type": "execute_result"
    }
   ],
   "source": [
    "emp1.empid"
   ]
  },
  {
   "cell_type": "code",
   "execution_count": 52,
   "id": "96f83b32",
   "metadata": {},
   "outputs": [],
   "source": [
    "emp1.empmail = \"tytytr\""
   ]
  },
  {
   "cell_type": "code",
   "execution_count": 53,
   "id": "cbc78fe1",
   "metadata": {},
   "outputs": [
    {
     "data": {
      "text/plain": [
       "'tytytr'"
      ]
     },
     "execution_count": 53,
     "metadata": {},
     "output_type": "execute_result"
    }
   ],
   "source": [
    "emp1.empmail"
   ]
  },
  {
   "cell_type": "code",
   "execution_count": 57,
   "id": "94cf7a27",
   "metadata": {},
   "outputs": [
    {
     "data": {
      "text/plain": [
       "'54y5@gmail.com'"
      ]
     },
     "execution_count": 57,
     "metadata": {},
     "output_type": "execute_result"
    }
   ],
   "source": [
    "emp1._empmail"
   ]
  },
  {
   "cell_type": "code",
   "execution_count": 58,
   "id": "d1d0015d",
   "metadata": {},
   "outputs": [],
   "source": [
    "emp1._empmail = \"tytytr\""
   ]
  },
  {
   "cell_type": "code",
   "execution_count": 59,
   "id": "4af51961",
   "metadata": {},
   "outputs": [
    {
     "data": {
      "text/plain": [
       "'tytytr'"
      ]
     },
     "execution_count": 59,
     "metadata": {},
     "output_type": "execute_result"
    }
   ],
   "source": [
    "emp1._empmail"
   ]
  },
  {
   "cell_type": "code",
   "execution_count": 75,
   "id": "12ceb11e",
   "metadata": {},
   "outputs": [],
   "source": [
    "emp1.bonusratingforC = \"90%\""
   ]
  },
  {
   "cell_type": "code",
   "execution_count": 76,
   "id": "435b85d1",
   "metadata": {},
   "outputs": [
    {
     "data": {
      "text/plain": [
       "'90%'"
      ]
     },
     "execution_count": 76,
     "metadata": {},
     "output_type": "execute_result"
    }
   ],
   "source": [
    "emp1.bonusratingforC"
   ]
  },
  {
   "cell_type": "code",
   "execution_count": 77,
   "id": "33a51996",
   "metadata": {},
   "outputs": [],
   "source": [
    "emp1.emprating = \"C\""
   ]
  },
  {
   "cell_type": "code",
   "execution_count": 78,
   "id": "259ff0f2",
   "metadata": {},
   "outputs": [
    {
     "data": {
      "text/plain": [
       "'80%'"
      ]
     },
     "execution_count": 78,
     "metadata": {},
     "output_type": "execute_result"
    }
   ],
   "source": [
    "emp1.bonuscal()"
   ]
  },
  {
   "cell_type": "code",
   "execution_count": 56,
   "id": "b9434bbb",
   "metadata": {},
   "outputs": [
    {
     "data": {
      "text/plain": [
       "'40%'"
      ]
     },
     "execution_count": 56,
     "metadata": {},
     "output_type": "execute_result"
    }
   ],
   "source": [
    "emp1._bonuscalculator__bonusratingforC"
   ]
  },
  {
   "cell_type": "code",
   "execution_count": 60,
   "id": "e80522b6",
   "metadata": {},
   "outputs": [],
   "source": [
    "emp1.__bonusratingforC = \"90%\""
   ]
  },
  {
   "cell_type": "code",
   "execution_count": 61,
   "id": "57b51bb6",
   "metadata": {},
   "outputs": [
    {
     "data": {
      "text/plain": [
       "'90%'"
      ]
     },
     "execution_count": 61,
     "metadata": {},
     "output_type": "execute_result"
    }
   ],
   "source": [
    "emp1.__bonusratingforC"
   ]
  },
  {
   "cell_type": "code",
   "execution_count": 62,
   "id": "78c8c955",
   "metadata": {},
   "outputs": [
    {
     "data": {
      "text/plain": [
       "'40%'"
      ]
     },
     "execution_count": 62,
     "metadata": {},
     "output_type": "execute_result"
    }
   ],
   "source": [
    "emp1._bonuscalculator__bonusratingforC"
   ]
  },
  {
   "cell_type": "code",
   "execution_count": 74,
   "id": "a2827c55",
   "metadata": {},
   "outputs": [],
   "source": [
    "emp1._bonuscalculator__bonusratingforC = \"80%\""
   ]
  },
  {
   "cell_type": "code",
   "execution_count": 64,
   "id": "26bbe3a9",
   "metadata": {},
   "outputs": [
    {
     "data": {
      "text/plain": [
       "'90%'"
      ]
     },
     "execution_count": 64,
     "metadata": {},
     "output_type": "execute_result"
    }
   ],
   "source": [
    "emp1._bonuscalculator__bonusratingforC"
   ]
  },
  {
   "cell_type": "code",
   "execution_count": 66,
   "id": "ba866d6d",
   "metadata": {},
   "outputs": [],
   "source": [
    "emp2._bonuscalculator__bonusratingforC = \"90%\""
   ]
  },
  {
   "cell_type": "code",
   "execution_count": 67,
   "id": "b70611d4",
   "metadata": {},
   "outputs": [
    {
     "data": {
      "text/plain": [
       "'90%'"
      ]
     },
     "execution_count": 67,
     "metadata": {},
     "output_type": "execute_result"
    }
   ],
   "source": [
    "emp2._bonuscalculator__bonusratingforC"
   ]
  },
  {
   "cell_type": "code",
   "execution_count": 68,
   "id": "b361857c",
   "metadata": {},
   "outputs": [],
   "source": [
    "emp2.emprating = \"C\""
   ]
  },
  {
   "cell_type": "code",
   "execution_count": 69,
   "id": "a74db0fc",
   "metadata": {},
   "outputs": [
    {
     "data": {
      "text/plain": [
       "'90%'"
      ]
     },
     "execution_count": 69,
     "metadata": {},
     "output_type": "execute_result"
    }
   ],
   "source": [
    "emp2.bonuscal()"
   ]
  },
  {
   "cell_type": "code",
   "execution_count": null,
   "id": "18733070",
   "metadata": {},
   "outputs": [],
   "source": []
  }
 ],
 "metadata": {
  "kernelspec": {
   "display_name": "Python 3 (ipykernel)",
   "language": "python",
   "name": "python3"
  },
  "language_info": {
   "codemirror_mode": {
    "name": "ipython",
    "version": 3
   },
   "file_extension": ".py",
   "mimetype": "text/x-python",
   "name": "python",
   "nbconvert_exporter": "python",
   "pygments_lexer": "ipython3",
   "version": "3.9.7"
  }
 },
 "nbformat": 4,
 "nbformat_minor": 5
}
