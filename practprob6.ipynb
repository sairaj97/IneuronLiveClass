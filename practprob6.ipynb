{
 "cells": [
  {
   "cell_type": "code",
   "execution_count": 6,
   "id": "1d18f6e5",
   "metadata": {},
   "outputs": [
    {
     "data": {
      "text/plain": [
       "29"
      ]
     },
     "execution_count": 6,
     "metadata": {},
     "output_type": "execute_result"
    }
   ],
   "source": [
    "s = \"this is the basic python clas\"\n",
    "len(s)"
   ]
  },
  {
   "cell_type": "code",
   "execution_count": 2,
   "id": "3029dfb6",
   "metadata": {
    "scrolled": true
   },
   "outputs": [
    {
     "name": "stdout",
     "output_type": "stream",
     "text": [
      "26\n"
     ]
    }
   ],
   "source": [
    "s = \"this is basic python class\"\n",
    "count = 0\n",
    "for i in s:\n",
    "    count = count+1    \n",
    "    #count+=1\n",
    "print(count)"
   ]
  },
  {
   "cell_type": "code",
   "execution_count": 10,
   "id": "69b01c44",
   "metadata": {},
   "outputs": [
    {
     "name": "stdout",
     "output_type": "stream",
     "text": [
      "ssalc nohtyp cisab si siht"
     ]
    }
   ],
   "source": [
    "for i in range(len(s)-1,-1,-1):\n",
    "    print(s[i], end=\"\")\n",
    "    "
   ]
  },
  {
   "cell_type": "code",
   "execution_count": 16,
   "id": "e2ff8174",
   "metadata": {},
   "outputs": [
    {
     "name": "stdout",
     "output_type": "stream",
     "text": [
      "s s a l c   n o h t y p   c i s a b   s i   s i h t "
     ]
    }
   ],
   "source": [
    "i = len(s)-1\n",
    "while(i>=0):\n",
    "    print(s[i], end=\" \")\n",
    "    i = i - 1"
   ]
  },
  {
   "cell_type": "code",
   "execution_count": 17,
   "id": "8214c1cc",
   "metadata": {},
   "outputs": [
    {
     "name": "stdout",
     "output_type": "stream",
     "text": [
      "vowel i\n",
      "not vowel n\n",
      "vowel e\n",
      "vowel u\n",
      "not vowel r\n",
      "vowel o\n",
      "not vowel n\n"
     ]
    }
   ],
   "source": [
    "s = \"ineuron\"\n",
    "v = \"AEIOUaeiou\"\n",
    "for i in s:\n",
    "    if i in v:\n",
    "        print(\"vowel\", i)\n",
    "    else :\n",
    "        print(\"not vowel\", i)\n"
   ]
  },
  {
   "cell_type": "code",
   "execution_count": 31,
   "id": "8936590c",
   "metadata": {},
   "outputs": [
    {
     "name": "stdout",
     "output_type": "stream",
     "text": [
      "abcba\n",
      "abcba -> string is palindrome\n"
     ]
    }
   ],
   "source": [
    "p = list(input())\n",
    "l = []\n",
    "for i in range(len(p)-1,-1,-1):\n",
    "    l.append(p[i])\n",
    "    print(p[i], end=\"\")\n",
    "if p==l:\n",
    "    print(\" -> string is palindrome\")\n",
    "else:\n",
    "    print(\" -> string is not palindrome\")"
   ]
  },
  {
   "cell_type": "code",
   "execution_count": 32,
   "id": "918cd16e",
   "metadata": {},
   "outputs": [
    {
     "name": "stdout",
     "output_type": "stream",
     "text": [
      "abcba\n",
      " -> string is palindrome\n"
     ]
    }
   ],
   "source": [
    "p = input()\n",
    "q = p[::-1]\n",
    "if p==q:\n",
    "    print(\" -> string is palindrome\")\n",
    "else:\n",
    "    print(\" -> string is not palindrome\")"
   ]
  },
  {
   "cell_type": "code",
   "execution_count": 42,
   "id": "1307ef8f",
   "metadata": {},
   "outputs": [
    {
     "name": "stdout",
     "output_type": "stream",
     "text": [
      "trgrthtr\n",
      "string is not palindrome\n"
     ]
    }
   ],
   "source": [
    "#best for complexity\n",
    "p = input()\n",
    "for i in range(len(p)):\n",
    "    if p[i]!=p[len(p)-1-i]:\n",
    "        print(\"string is not palindrome\")\n",
    "        break\n",
    "else:\n",
    "    print(\"string is palindrome\")\n",
    "        "
   ]
  },
  {
   "cell_type": "code",
   "execution_count": 58,
   "id": "034655a7",
   "metadata": {},
   "outputs": [],
   "source": [
    "d = {\"india\":\"IN\", \"pakistan\":\"PK\", \"china\": \"ch\", \"asia\": \"as\"}"
   ]
  },
  {
   "cell_type": "code",
   "execution_count": 59,
   "id": "3cd57912",
   "metadata": {},
   "outputs": [
    {
     "data": {
      "text/plain": [
       "True"
      ]
     },
     "execution_count": 59,
     "metadata": {},
     "output_type": "execute_result"
    }
   ],
   "source": [
    "\"india\" in d\n"
   ]
  },
  {
   "cell_type": "code",
   "execution_count": 64,
   "id": "234c001a",
   "metadata": {},
   "outputs": [],
   "source": [
    "l_g = []\n",
    "l_s = []\n",
    "for i in d:\n",
    "    if len(i)>=5:\n",
    "        l_g.append(i)\n",
    "    else:\n",
    "        l_s.append(i)\n",
    "    "
   ]
  },
  {
   "cell_type": "code",
   "execution_count": 66,
   "id": "55a1a5fd",
   "metadata": {},
   "outputs": [
    {
     "data": {
      "text/plain": [
       "['india', 'pakistan', 'china']"
      ]
     },
     "execution_count": 66,
     "metadata": {},
     "output_type": "execute_result"
    }
   ],
   "source": [
    "l_g"
   ]
  },
  {
   "cell_type": "code",
   "execution_count": 67,
   "id": "ed51dbe9",
   "metadata": {},
   "outputs": [
    {
     "data": {
      "text/plain": [
       "['asia']"
      ]
     },
     "execution_count": 67,
     "metadata": {},
     "output_type": "execute_result"
    }
   ],
   "source": [
    "l_s"
   ]
  },
  {
   "cell_type": "code",
   "execution_count": 68,
   "id": "c5bad41c",
   "metadata": {},
   "outputs": [
    {
     "name": "stdout",
     "output_type": "stream",
     "text": [
      "12\n",
      "50\n"
     ]
    }
   ],
   "source": [
    "d1 = {\"sai\": {'a':12 , 'b':10, 'c':9},\n",
    "      \"raj\": {'p':50, 'q':23, 'r':25}}\n",
    "for i in d1.values():\n",
    "    print(max(i.values()))\n",
    "    \n",
    "    "
   ]
  },
  {
   "cell_type": "code",
   "execution_count": 69,
   "id": "7a9e5ad7",
   "metadata": {},
   "outputs": [
    {
     "name": "stdout",
     "output_type": "stream",
     "text": [
      "454\n"
     ]
    }
   ],
   "source": [
    " d1 = {\"sai\": {'a':12 , 'b':10, 'c':9},\n",
    "      \"d1raj\": {'p':50, 'q':23, 'r':25}, 'g': 24, 'h': [223,454,34], 'i': (43,5,44), 'k':'sudh'}\n",
    "\n",
    "l = []\n",
    "for i in d1.values():\n",
    "    if type(i) == int:\n",
    "        l.append(i)\n",
    "    elif type(i) == dict:\n",
    "        l.append(max(i.values()))\n",
    "    elif type(i) == (tuple and list):\n",
    "        l.append(max(i))\n",
    "print(max(l))\n",
    "\n",
    "        "
   ]
  }
 ],
 "metadata": {
  "kernelspec": {
   "display_name": "Python 3 (ipykernel)",
   "language": "python",
   "name": "python3"
  },
  "language_info": {
   "codemirror_mode": {
    "name": "ipython",
    "version": 3
   },
   "file_extension": ".py",
   "mimetype": "text/x-python",
   "name": "python",
   "nbconvert_exporter": "python",
   "pygments_lexer": "ipython3",
   "version": "3.9.7"
  }
 },
 "nbformat": 4,
 "nbformat_minor": 5
}
