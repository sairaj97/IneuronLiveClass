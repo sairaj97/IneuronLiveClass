{
 "cells": [
  {
   "cell_type": "code",
   "execution_count": 13,
   "id": "35c54a44",
   "metadata": {},
   "outputs": [],
   "source": [
    "l = [2,45,16,78,\"sai\",4+8j, [1,2,3, \"rtrt\"], \"fdgdfg\" ]"
   ]
  },
  {
   "cell_type": "code",
   "execution_count": 24,
   "id": "56f2fe91",
   "metadata": {},
   "outputs": [
    {
     "name": "stdout",
     "output_type": "stream",
     "text": [
      "0 is the index for an element 2\n",
      "1 is the index for an element 45\n",
      "2 is the index for an element 16\n",
      "3 is the index for an element 78\n",
      "4 is the index for an element sai\n",
      "5 is the index for an element (4+8j)\n",
      "6 is the index for an element [1, 2, 3, 'rtrt']\n",
      "7 is the index for an element fdgdfg\n"
     ]
    }
   ],
   "source": [
    "for i in l:\n",
    "    print(l.index(i),\"is the index for an element\", i)"
   ]
  },
  {
   "cell_type": "code",
   "execution_count": 28,
   "id": "f8866d2b",
   "metadata": {},
   "outputs": [
    {
     "name": "stdout",
     "output_type": "stream",
     "text": [
      "['s', 'a', 'i']\n",
      "['f', 'd', 'g', 'd', 'f', 'g']\n"
     ]
    }
   ],
   "source": [
    "for i in l:\n",
    "    if type(i)==str:\n",
    "        m=[]\n",
    "        for j in i:\n",
    "            m.append(j)\n",
    "        print(m)\n"
   ]
  },
  {
   "cell_type": "code",
   "execution_count": 20,
   "id": "f309de6a",
   "metadata": {},
   "outputs": [
    {
     "name": "stdout",
     "output_type": "stream",
     "text": [
      "[4, 2025, 256, 6084]\n"
     ]
    }
   ],
   "source": [
    "m = []\n",
    "for i in l:\n",
    "    if type(i)==int:\n",
    "        j = i**2\n",
    "        m.append(j)\n",
    "print(m)\n"
   ]
  },
  {
   "cell_type": "code",
   "execution_count": null,
   "id": "058b5a92",
   "metadata": {},
   "outputs": [],
   "source": []
  }
 ],
 "metadata": {
  "kernelspec": {
   "display_name": "Python 3 (ipykernel)",
   "language": "python",
   "name": "python3"
  },
  "language_info": {
   "codemirror_mode": {
    "name": "ipython",
    "version": 3
   },
   "file_extension": ".py",
   "mimetype": "text/x-python",
   "name": "python",
   "nbconvert_exporter": "python",
   "pygments_lexer": "ipython3",
   "version": "3.9.7"
  }
 },
 "nbformat": 4,
 "nbformat_minor": 5
}
