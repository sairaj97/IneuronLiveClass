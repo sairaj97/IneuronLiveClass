{
 "cells": [
  {
   "cell_type": "code",
   "execution_count": 1,
   "id": "8e3e7292",
   "metadata": {},
   "outputs": [],
   "source": [
    "def test(a,b):\n",
    "    return a+b"
   ]
  },
  {
   "cell_type": "code",
   "execution_count": 2,
   "id": "e9146e40",
   "metadata": {},
   "outputs": [
    {
     "data": {
      "text/plain": [
       "7"
      ]
     },
     "execution_count": 2,
     "metadata": {},
     "output_type": "execute_result"
    }
   ],
   "source": [
    "test(3,4)"
   ]
  },
  {
   "cell_type": "code",
   "execution_count": 4,
   "id": "a1be32fe",
   "metadata": {},
   "outputs": [
    {
     "data": {
      "text/plain": [
       "'sairaj'"
      ]
     },
     "execution_count": 4,
     "metadata": {},
     "output_type": "execute_result"
    }
   ],
   "source": [
    "test(\"sai\",\"raj\")   #polymorphism"
   ]
  },
  {
   "cell_type": "code",
   "execution_count": 5,
   "id": "613e4d6c",
   "metadata": {},
   "outputs": [],
   "source": [
    "#polymorphism\n",
    "class insta:\n",
    "    def share_stories(self):\n",
    "        print(\"this will share my insta story\")\n",
    "        \n",
    "class facebook:\n",
    "    def share_stories(self):\n",
    "        print(\"this will share my facebook story\")"
   ]
  },
  {
   "cell_type": "code",
   "execution_count": 9,
   "id": "4ac9494e",
   "metadata": {},
   "outputs": [],
   "source": [
    "def share_stories(app):\n",
    "    app.share_stories()"
   ]
  },
  {
   "cell_type": "code",
   "execution_count": 10,
   "id": "6d8cb922",
   "metadata": {},
   "outputs": [],
   "source": [
    "i = insta()\n",
    "f = facebook()"
   ]
  },
  {
   "cell_type": "code",
   "execution_count": 13,
   "id": "814cc913",
   "metadata": {},
   "outputs": [
    {
     "name": "stdout",
     "output_type": "stream",
     "text": [
      "this will share my insta story\n"
     ]
    }
   ],
   "source": [
    "share_stories(i)"
   ]
  },
  {
   "cell_type": "code",
   "execution_count": 14,
   "id": "cdeaecf1",
   "metadata": {},
   "outputs": [
    {
     "name": "stdout",
     "output_type": "stream",
     "text": [
      "this will share my facebook story\n"
     ]
    }
   ],
   "source": [
    "share_stories(f)"
   ]
  },
  {
   "cell_type": "code",
   "execution_count": 18,
   "id": "61051612",
   "metadata": {},
   "outputs": [
    {
     "ename": "AttributeError",
     "evalue": "'int' object has no attribute 'share_stories'",
     "output_type": "error",
     "traceback": [
      "\u001b[0;31m---------------------------------------------------------------------------\u001b[0m",
      "\u001b[0;31mAttributeError\u001b[0m                            Traceback (most recent call last)",
      "\u001b[0;32m/var/folders/3q/67zhfv792zl9x8lxwtq3yym80000gp/T/ipykernel_2192/1763855448.py\u001b[0m in \u001b[0;36m<module>\u001b[0;34m\u001b[0m\n\u001b[0;32m----> 1\u001b[0;31m \u001b[0mshare_stories\u001b[0m\u001b[0;34m(\u001b[0m\u001b[0;36m1\u001b[0m\u001b[0;34m)\u001b[0m\u001b[0;34m\u001b[0m\u001b[0;34m\u001b[0m\u001b[0m\n\u001b[0m",
      "\u001b[0;32m/var/folders/3q/67zhfv792zl9x8lxwtq3yym80000gp/T/ipykernel_2192/2972720155.py\u001b[0m in \u001b[0;36mshare_stories\u001b[0;34m(app)\u001b[0m\n\u001b[1;32m      1\u001b[0m \u001b[0;32mdef\u001b[0m \u001b[0mshare_stories\u001b[0m\u001b[0;34m(\u001b[0m\u001b[0mapp\u001b[0m\u001b[0;34m)\u001b[0m\u001b[0;34m:\u001b[0m\u001b[0;34m\u001b[0m\u001b[0;34m\u001b[0m\u001b[0m\n\u001b[0;32m----> 2\u001b[0;31m     \u001b[0mapp\u001b[0m\u001b[0;34m.\u001b[0m\u001b[0mshare_stories\u001b[0m\u001b[0;34m(\u001b[0m\u001b[0;34m)\u001b[0m\u001b[0;34m\u001b[0m\u001b[0;34m\u001b[0m\u001b[0m\n\u001b[0m",
      "\u001b[0;31mAttributeError\u001b[0m: 'int' object has no attribute 'share_stories'"
     ]
    }
   ],
   "source": [
    "share_stories(1)"
   ]
  },
  {
   "cell_type": "code",
   "execution_count": 19,
   "id": "7e4127e3",
   "metadata": {},
   "outputs": [],
   "source": [
    "class social_media:\n",
    "    def share_stories(self):\n",
    "        print(\"share a stories\")\n",
    "        \n",
    "    def upload_pic(self):\n",
    "        print(\"this will help you to upload a pic on social media\")\n",
    "        \n",
    "class facebook(social_media):\n",
    "    def share_stories(self):\n",
    "        print(\"this is a function for share a story in facebook\")\n",
    "        \n",
    "class insta(social_media):\n",
    "    def share_stories(self):\n",
    "        print(\"this is a function for share a story in insta\")\n",
    "    "
   ]
  },
  {
   "cell_type": "code",
   "execution_count": 20,
   "id": "4fd3acb8",
   "metadata": {},
   "outputs": [],
   "source": [
    "f = facebook()\n",
    "i = insta()"
   ]
  },
  {
   "cell_type": "code",
   "execution_count": 21,
   "id": "6da11852",
   "metadata": {},
   "outputs": [
    {
     "name": "stdout",
     "output_type": "stream",
     "text": [
      "this is a function for share a story in facebook\n"
     ]
    }
   ],
   "source": [
    "f.share_stories()"
   ]
  },
  {
   "cell_type": "code",
   "execution_count": 22,
   "id": "080f6f69",
   "metadata": {},
   "outputs": [
    {
     "name": "stdout",
     "output_type": "stream",
     "text": [
      "this is a function for share a story in insta\n"
     ]
    }
   ],
   "source": [
    "i.share_stories()"
   ]
  },
  {
   "cell_type": "code",
   "execution_count": 2,
   "id": "87aee5f4",
   "metadata": {},
   "outputs": [],
   "source": [
    "class test(Exception):\n",
    "    def __init__(self, msg, a):\n",
    "        self.msg = msg\n",
    "        self.a = a"
   ]
  },
  {
   "cell_type": "code",
   "execution_count": 3,
   "id": "17d3c679",
   "metadata": {},
   "outputs": [
    {
     "name": "stdout",
     "output_type": "stream",
     "text": [
      "10\n"
     ]
    }
   ],
   "source": [
    "try:\n",
    "    raise(test(\"this is my own exception class\",1))\n",
    "except test as t:\n",
    "    print(10)"
   ]
  },
  {
   "cell_type": "code",
   "execution_count": 1,
   "id": "64fb38f4",
   "metadata": {},
   "outputs": [
    {
     "ename": "NameError",
     "evalue": "name 'test' is not defined",
     "output_type": "error",
     "traceback": [
      "\u001b[0;31m---------------------------------------------------------------------------\u001b[0m",
      "\u001b[0;31mNameError\u001b[0m                                 Traceback (most recent call last)",
      "\u001b[0;32m/var/folders/3q/67zhfv792zl9x8lxwtq3yym80000gp/T/ipykernel_883/3506208782.py\u001b[0m in \u001b[0;36m<module>\u001b[0;34m\u001b[0m\n\u001b[1;32m      1\u001b[0m \u001b[0;32mtry\u001b[0m\u001b[0;34m:\u001b[0m\u001b[0;34m\u001b[0m\u001b[0;34m\u001b[0m\u001b[0m\n\u001b[0;32m----> 2\u001b[0;31m     \u001b[0;32mraise\u001b[0m\u001b[0;34m(\u001b[0m\u001b[0mtest\u001b[0m\u001b[0;34m(\u001b[0m\u001b[0;34m\"this is my own exception class\"\u001b[0m\u001b[0;34m,\u001b[0m\u001b[0;36m1\u001b[0m\u001b[0;34m)\u001b[0m\u001b[0;34m)\u001b[0m\u001b[0;34m\u001b[0m\u001b[0;34m\u001b[0m\u001b[0m\n\u001b[0m\u001b[1;32m      3\u001b[0m \u001b[0;32mexcept\u001b[0m \u001b[0mtest\u001b[0m \u001b[0;32mas\u001b[0m \u001b[0mt\u001b[0m\u001b[0;34m:\u001b[0m\u001b[0;34m\u001b[0m\u001b[0;34m\u001b[0m\u001b[0m\n",
      "\u001b[0;31mNameError\u001b[0m: name 'test' is not defined",
      "\nDuring handling of the above exception, another exception occurred:\n",
      "\u001b[0;31mNameError\u001b[0m                                 Traceback (most recent call last)",
      "\u001b[0;32m/var/folders/3q/67zhfv792zl9x8lxwtq3yym80000gp/T/ipykernel_883/3506208782.py\u001b[0m in \u001b[0;36m<module>\u001b[0;34m\u001b[0m\n\u001b[1;32m      1\u001b[0m \u001b[0;32mtry\u001b[0m\u001b[0;34m:\u001b[0m\u001b[0;34m\u001b[0m\u001b[0;34m\u001b[0m\u001b[0m\n\u001b[1;32m      2\u001b[0m     \u001b[0;32mraise\u001b[0m\u001b[0;34m(\u001b[0m\u001b[0mtest\u001b[0m\u001b[0;34m(\u001b[0m\u001b[0;34m\"this is my own exception class\"\u001b[0m\u001b[0;34m,\u001b[0m\u001b[0;36m1\u001b[0m\u001b[0;34m)\u001b[0m\u001b[0;34m)\u001b[0m\u001b[0;34m\u001b[0m\u001b[0;34m\u001b[0m\u001b[0m\n\u001b[0;32m----> 3\u001b[0;31m \u001b[0;32mexcept\u001b[0m \u001b[0mtest\u001b[0m \u001b[0;32mas\u001b[0m \u001b[0mt\u001b[0m\u001b[0;34m:\u001b[0m\u001b[0;34m\u001b[0m\u001b[0;34m\u001b[0m\u001b[0m\n\u001b[0m\u001b[1;32m      4\u001b[0m     \u001b[0mprint\u001b[0m\u001b[0;34m(\u001b[0m\u001b[0mt\u001b[0m\u001b[0;34m)\u001b[0m\u001b[0;34m\u001b[0m\u001b[0;34m\u001b[0m\u001b[0m\n",
      "\u001b[0;31mNameError\u001b[0m: name 'test' is not defined"
     ]
    }
   ],
   "source": [
    "try:\n",
    "    raise(test(\"this is my own exception class\",1))\n",
    "except test as t:\n",
    "    print(t)"
   ]
  },
  {
   "cell_type": "code",
   "execution_count": 40,
   "id": "f27dc45d",
   "metadata": {},
   "outputs": [],
   "source": [
    "\"\"\"Multiple inheritence\"\"\"\n",
    "\n",
    "class father:\n",
    "    def __init__(self, write , courage):\n",
    "        self.write = write\n",
    "        self.courage = courage\n",
    "        \n",
    "    def winnig(self):\n",
    "        print(\"winner\")\n",
    "        \n",
    "class mother:\n",
    "    def __init__(self, write, love):\n",
    "        self.write = write\n",
    "        self.love = love\n",
    "        \n",
    "    def charity(self):\n",
    "        print(\"social\")\n",
    "        \n",
    "    def winnig(self):\n",
    "        print(\"win\")\n",
    "        \n",
    "class child1(father, mother):\n",
    "    def __init__(self, *args, **kwargs):\n",
    "        father.__init__(self, *args)\n",
    "        mother.__init__(self, **kwargs)\n",
    "\n",
    "class child2(mother, father):\n",
    "    def __init__(self, *args, **kwargs):\n",
    "        father.__init__(self, *args)\n",
    "        mother.__init__(self, **kwargs)"
   ]
  },
  {
   "cell_type": "code",
   "execution_count": 41,
   "id": "dc188260",
   "metadata": {},
   "outputs": [],
   "source": [
    "c = child1(90,100,write = 99, love = 101)"
   ]
  },
  {
   "cell_type": "code",
   "execution_count": 42,
   "id": "04d42ffb",
   "metadata": {},
   "outputs": [
    {
     "data": {
      "text/plain": [
       "99"
      ]
     },
     "execution_count": 42,
     "metadata": {},
     "output_type": "execute_result"
    }
   ],
   "source": [
    "c.write"
   ]
  },
  {
   "cell_type": "code",
   "execution_count": 44,
   "id": "dd08f207",
   "metadata": {},
   "outputs": [
    {
     "name": "stdout",
     "output_type": "stream",
     "text": [
      "winner\n"
     ]
    }
   ],
   "source": [
    "c.winnig()"
   ]
  },
  {
   "cell_type": "code",
   "execution_count": 45,
   "id": "d510ec2e",
   "metadata": {},
   "outputs": [
    {
     "data": {
      "text/plain": [
       "100"
      ]
     },
     "execution_count": 45,
     "metadata": {},
     "output_type": "execute_result"
    }
   ],
   "source": [
    "c.courage"
   ]
  },
  {
   "cell_type": "code",
   "execution_count": 46,
   "id": "bc05225d",
   "metadata": {},
   "outputs": [
    {
     "data": {
      "text/plain": [
       "101"
      ]
     },
     "execution_count": 46,
     "metadata": {},
     "output_type": "execute_result"
    }
   ],
   "source": [
    "c.love"
   ]
  },
  {
   "cell_type": "code",
   "execution_count": 48,
   "id": "8bb886d7",
   "metadata": {},
   "outputs": [
    {
     "name": "stdout",
     "output_type": "stream",
     "text": [
      "social\n"
     ]
    }
   ],
   "source": [
    "c.charity()"
   ]
  },
  {
   "cell_type": "code",
   "execution_count": 49,
   "id": "8b987f17",
   "metadata": {},
   "outputs": [],
   "source": [
    "d = child2(90,100,write = 99, love = 101)"
   ]
  },
  {
   "cell_type": "code",
   "execution_count": 52,
   "id": "d94b36c0",
   "metadata": {},
   "outputs": [
    {
     "data": {
      "text/plain": [
       "99"
      ]
     },
     "execution_count": 52,
     "metadata": {},
     "output_type": "execute_result"
    }
   ],
   "source": [
    "d.write"
   ]
  },
  {
   "cell_type": "code",
   "execution_count": 53,
   "id": "40a7bcb1",
   "metadata": {},
   "outputs": [
    {
     "name": "stdout",
     "output_type": "stream",
     "text": [
      "win\n"
     ]
    }
   ],
   "source": [
    "d.winnig()"
   ]
  },
  {
   "cell_type": "code",
   "execution_count": 54,
   "id": "d2d5832b",
   "metadata": {},
   "outputs": [
    {
     "data": {
      "text/plain": [
       "100"
      ]
     },
     "execution_count": 54,
     "metadata": {},
     "output_type": "execute_result"
    }
   ],
   "source": [
    "d.courage"
   ]
  },
  {
   "cell_type": "code",
   "execution_count": 55,
   "id": "9184dea3",
   "metadata": {},
   "outputs": [
    {
     "data": {
      "text/plain": [
       "101"
      ]
     },
     "execution_count": 55,
     "metadata": {},
     "output_type": "execute_result"
    }
   ],
   "source": [
    "d.love"
   ]
  },
  {
   "cell_type": "code",
   "execution_count": 56,
   "id": "e9f572f2",
   "metadata": {},
   "outputs": [
    {
     "name": "stdout",
     "output_type": "stream",
     "text": [
      "social\n"
     ]
    }
   ],
   "source": [
    "d.charity()"
   ]
  },
  {
   "cell_type": "code",
   "execution_count": 61,
   "id": "a1fdc9f7",
   "metadata": {},
   "outputs": [],
   "source": [
    "\"\"\"Multilevel inheritance\"\"\"\n",
    "\n",
    "class grandfather:\n",
    "    static = \"sawant\"\n",
    "    def __init__(self, clever, money, ego):\n",
    "        self.clever = clever\n",
    "        self.money = money\n",
    "        self.ego = ego\n",
    "        \n",
    "    def breavery(self):\n",
    "        print(\"very breave\", self.static)\n",
    "        \n",
    "    def punctual(self):\n",
    "        print(\"very punctual\")\n",
    "        \n",
    "    @staticmethod\n",
    "    def statmethod():\n",
    "        print(\"this is static method which is directly accesible through class\")\n",
    "        \n",
    "class father(grandfather):\n",
    "    def __init__(self, write , courage):\n",
    "        self.write = write\n",
    "        self.courage = courage\n",
    "        \n",
    "    def winnig(self):\n",
    "        print(\"winner\")\n",
    "        \n",
    "    def breavery(self):\n",
    "        print(\"breave\")\n",
    "        \n",
    "class son(father):\n",
    "    def __init__(self, *args, **kwargs):\n",
    "        father.__init__(self, *args)\n",
    "        grandfather.__init__(self, **kwargs)\n",
    "        self.write = 90\n",
    "    \n",
    "    def charity(self):\n",
    "        print(\"social\")\n",
    "        \n",
    "    def winnig(self):\n",
    "        \"\"\"method overloading\"\"\"\n",
    "        print(\"win\")\n",
    "        \n",
    "    def punctual(self):\n",
    "        print(\"not a punctual\")"
   ]
  },
  {
   "cell_type": "code",
   "execution_count": 51,
   "id": "9986f13b",
   "metadata": {},
   "outputs": [],
   "source": [
    "a = son(99,100, clever = 101, money = 200, ego = 300)"
   ]
  },
  {
   "cell_type": "code",
   "execution_count": 52,
   "id": "11cd06ae",
   "metadata": {},
   "outputs": [
    {
     "data": {
      "text/plain": [
       "'sawant'"
      ]
     },
     "execution_count": 52,
     "metadata": {},
     "output_type": "execute_result"
    }
   ],
   "source": [
    "a.static"
   ]
  },
  {
   "cell_type": "code",
   "execution_count": 43,
   "id": "4a64e759",
   "metadata": {},
   "outputs": [],
   "source": [
    "a.static = 'rane'"
   ]
  },
  {
   "cell_type": "code",
   "execution_count": 44,
   "id": "6a41af99",
   "metadata": {},
   "outputs": [
    {
     "data": {
      "text/plain": [
       "'rane'"
      ]
     },
     "execution_count": 44,
     "metadata": {},
     "output_type": "execute_result"
    }
   ],
   "source": [
    "a.static"
   ]
  },
  {
   "cell_type": "code",
   "execution_count": 45,
   "id": "27e6dc3e",
   "metadata": {},
   "outputs": [
    {
     "data": {
      "text/plain": [
       "'sawant'"
      ]
     },
     "execution_count": 45,
     "metadata": {},
     "output_type": "execute_result"
    }
   ],
   "source": [
    "son.static"
   ]
  },
  {
   "cell_type": "code",
   "execution_count": 46,
   "id": "31f00149",
   "metadata": {},
   "outputs": [],
   "source": [
    "son.static = 'parab'"
   ]
  },
  {
   "cell_type": "code",
   "execution_count": 47,
   "id": "d325ebfe",
   "metadata": {},
   "outputs": [
    {
     "data": {
      "text/plain": [
       "'rane'"
      ]
     },
     "execution_count": 47,
     "metadata": {},
     "output_type": "execute_result"
    }
   ],
   "source": [
    "a.static"
   ]
  },
  {
   "cell_type": "code",
   "execution_count": 48,
   "id": "056f51e9",
   "metadata": {},
   "outputs": [
    {
     "data": {
      "text/plain": [
       "'sawant'"
      ]
     },
     "execution_count": 48,
     "metadata": {},
     "output_type": "execute_result"
    }
   ],
   "source": [
    "father.static"
   ]
  },
  {
   "cell_type": "code",
   "execution_count": 58,
   "id": "476e0d2a",
   "metadata": {},
   "outputs": [
    {
     "ename": "TypeError",
     "evalue": "breavery() missing 1 required positional argument: 'self'",
     "output_type": "error",
     "traceback": [
      "\u001b[0;31m---------------------------------------------------------------------------\u001b[0m",
      "\u001b[0;31mTypeError\u001b[0m                                 Traceback (most recent call last)",
      "\u001b[0;32m/var/folders/3q/67zhfv792zl9x8lxwtq3yym80000gp/T/ipykernel_2650/1609334534.py\u001b[0m in \u001b[0;36m<module>\u001b[0;34m\u001b[0m\n\u001b[0;32m----> 1\u001b[0;31m \u001b[0mgrandfather\u001b[0m\u001b[0;34m.\u001b[0m\u001b[0mbreavery\u001b[0m\u001b[0;34m(\u001b[0m\u001b[0;34m)\u001b[0m \u001b[0;31m#this is instance method of object\u001b[0m\u001b[0;34m\u001b[0m\u001b[0;34m\u001b[0m\u001b[0m\n\u001b[0m",
      "\u001b[0;31mTypeError\u001b[0m: breavery() missing 1 required positional argument: 'self'"
     ]
    }
   ],
   "source": [
    "grandfather.breavery() #this is instance method of object"
   ]
  },
  {
   "cell_type": "code",
   "execution_count": 59,
   "id": "02eabf79",
   "metadata": {},
   "outputs": [
    {
     "name": "stdout",
     "output_type": "stream",
     "text": [
      "this is static method which is directly accesible through class\n"
     ]
    }
   ],
   "source": [
    "grandfather.statmethod()"
   ]
  },
  {
   "cell_type": "code",
   "execution_count": 60,
   "id": "a36d231a",
   "metadata": {},
   "outputs": [
    {
     "name": "stdout",
     "output_type": "stream",
     "text": [
      "this is static method which is directly accesible thorough class\n"
     ]
    }
   ],
   "source": [
    "a.statmethod()"
   ]
  },
  {
   "cell_type": "code",
   "execution_count": 90,
   "id": "afa87037",
   "metadata": {},
   "outputs": [
    {
     "name": "stdout",
     "output_type": "stream",
     "text": [
      "breave\n"
     ]
    }
   ],
   "source": [
    "a.breavery()"
   ]
  },
  {
   "cell_type": "code",
   "execution_count": 91,
   "id": "b754ea47",
   "metadata": {},
   "outputs": [
    {
     "name": "stdout",
     "output_type": "stream",
     "text": [
      "social\n"
     ]
    }
   ],
   "source": [
    "a.charity()"
   ]
  },
  {
   "cell_type": "code",
   "execution_count": 92,
   "id": "2eae201a",
   "metadata": {},
   "outputs": [
    {
     "data": {
      "text/plain": [
       "101"
      ]
     },
     "execution_count": 92,
     "metadata": {},
     "output_type": "execute_result"
    }
   ],
   "source": [
    "a.clever"
   ]
  },
  {
   "cell_type": "code",
   "execution_count": 93,
   "id": "b3e8a837",
   "metadata": {},
   "outputs": [
    {
     "data": {
      "text/plain": [
       "100"
      ]
     },
     "execution_count": 93,
     "metadata": {},
     "output_type": "execute_result"
    }
   ],
   "source": [
    "a.courage"
   ]
  },
  {
   "cell_type": "code",
   "execution_count": 94,
   "id": "90b9ca6b",
   "metadata": {},
   "outputs": [
    {
     "data": {
      "text/plain": [
       "300"
      ]
     },
     "execution_count": 94,
     "metadata": {},
     "output_type": "execute_result"
    }
   ],
   "source": [
    "a.ego"
   ]
  },
  {
   "cell_type": "code",
   "execution_count": 95,
   "id": "d52b212c",
   "metadata": {},
   "outputs": [
    {
     "data": {
      "text/plain": [
       "200"
      ]
     },
     "execution_count": 95,
     "metadata": {},
     "output_type": "execute_result"
    }
   ],
   "source": [
    "a.money"
   ]
  },
  {
   "cell_type": "code",
   "execution_count": 96,
   "id": "16e249d6",
   "metadata": {},
   "outputs": [
    {
     "name": "stdout",
     "output_type": "stream",
     "text": [
      "not a punctual\n"
     ]
    }
   ],
   "source": [
    "a.punctual()"
   ]
  },
  {
   "cell_type": "code",
   "execution_count": 97,
   "id": "f71035a5",
   "metadata": {},
   "outputs": [
    {
     "name": "stdout",
     "output_type": "stream",
     "text": [
      "win\n"
     ]
    }
   ],
   "source": [
    "a.winnig()"
   ]
  },
  {
   "cell_type": "code",
   "execution_count": 98,
   "id": "36e6f0f4",
   "metadata": {},
   "outputs": [
    {
     "data": {
      "text/plain": [
       "90"
      ]
     },
     "execution_count": 98,
     "metadata": {},
     "output_type": "execute_result"
    }
   ],
   "source": [
    "a.write"
   ]
  },
  {
   "cell_type": "code",
   "execution_count": 7,
   "id": "b6e2cbff",
   "metadata": {},
   "outputs": [],
   "source": [
    "\"\"\"polymorphism\"\"\"\n",
    "\n",
    "class numbers:\n",
    "    def multiplication(self, a, b):\n",
    "        return a*b\n",
    "    \n",
    "class stringmultiple:\n",
    "    def multiplication(self, a, b):\n",
    "        return a*b\n",
    "    \n",
    "def multiplication(a,b):\n",
    "    return a*b    "
   ]
  },
  {
   "cell_type": "code",
   "execution_count": 8,
   "id": "e1e8dd4b",
   "metadata": {},
   "outputs": [],
   "source": [
    "n = numbers()"
   ]
  },
  {
   "cell_type": "code",
   "execution_count": 13,
   "id": "f2b99392",
   "metadata": {},
   "outputs": [
    {
     "data": {
      "text/plain": [
       "19.0"
      ]
     },
     "execution_count": 13,
     "metadata": {},
     "output_type": "execute_result"
    }
   ],
   "source": [
    "multiplication(5,3.8)"
   ]
  },
  {
   "cell_type": "code",
   "execution_count": 14,
   "id": "15f56e8d",
   "metadata": {},
   "outputs": [
    {
     "data": {
      "text/plain": [
       "24"
      ]
     },
     "execution_count": 14,
     "metadata": {},
     "output_type": "execute_result"
    }
   ],
   "source": [
    "n.multiplication(4,6)"
   ]
  },
  {
   "cell_type": "code",
   "execution_count": 15,
   "id": "eefd9b81",
   "metadata": {},
   "outputs": [],
   "source": [
    "s = stringmultiple()"
   ]
  },
  {
   "cell_type": "code",
   "execution_count": 16,
   "id": "9ace69bf",
   "metadata": {},
   "outputs": [
    {
     "data": {
      "text/plain": [
       "'saisaisaisaisaisaisaisai'"
      ]
     },
     "execution_count": 16,
     "metadata": {},
     "output_type": "execute_result"
    }
   ],
   "source": [
    "s.multiplication(\"sai\", 8)"
   ]
  },
  {
   "cell_type": "code",
   "execution_count": null,
   "id": "5113992c",
   "metadata": {},
   "outputs": [],
   "source": [
    "\"\"\"My own class for custom exception\"\"\"\n",
    "\n",
    "class excep(Exception):\n",
    "    def __init__(self, msg):\n",
    "        self.msg = msg\n",
    "    \n",
    "    def notdiv0(self):\n",
    "        if self.msg == \n",
    "\n",
    "    "
   ]
  },
  {
   "cell_type": "code",
   "execution_count": 20,
   "id": "cbee879e",
   "metadata": {},
   "outputs": [],
   "source": [
    "\"\"\"Encapsulation - public , __private, _protected\"\"\"\n",
    "class encapsulation:\n",
    "    def __init__(self,name,user,phoneno,mail):\n",
    "        self.name = name\n",
    "        self.user = user\n",
    "        self._phoneno = phoneno\n",
    "        self.__mail = mail\n",
    "        \n",
    "    def getmail(self):\n",
    "        if self.user == \"user\":\n",
    "            return self.__mail\n",
    "        elif self.user == \"admin\":\n",
    "            return self.__mail\n",
    "        else:\n",
    "            return \"You are not allowed\"            "
   ]
  },
  {
   "cell_type": "code",
   "execution_count": 21,
   "id": "ccbf604e",
   "metadata": {},
   "outputs": [],
   "source": [
    "u = encapsulation(\"sai\",\"admin\",46767878,\"gfhhg@gmail.com\")"
   ]
  },
  {
   "cell_type": "code",
   "execution_count": 22,
   "id": "bfbaf3e2",
   "metadata": {},
   "outputs": [
    {
     "data": {
      "text/plain": [
       "'gfhhg@gmail.com'"
      ]
     },
     "execution_count": 22,
     "metadata": {},
     "output_type": "execute_result"
    }
   ],
   "source": [
    "u.getmail()"
   ]
  },
  {
   "cell_type": "code",
   "execution_count": 23,
   "id": "e28726ad",
   "metadata": {},
   "outputs": [
    {
     "data": {
      "text/plain": [
       "'sai'"
      ]
     },
     "execution_count": 23,
     "metadata": {},
     "output_type": "execute_result"
    }
   ],
   "source": [
    "u.name"
   ]
  },
  {
   "cell_type": "code",
   "execution_count": 24,
   "id": "b7467d79",
   "metadata": {},
   "outputs": [
    {
     "data": {
      "text/plain": [
       "'admin'"
      ]
     },
     "execution_count": 24,
     "metadata": {},
     "output_type": "execute_result"
    }
   ],
   "source": [
    "u.user"
   ]
  },
  {
   "cell_type": "code",
   "execution_count": 25,
   "id": "e6ddf185",
   "metadata": {},
   "outputs": [
    {
     "data": {
      "text/plain": [
       "46767878"
      ]
     },
     "execution_count": 25,
     "metadata": {},
     "output_type": "execute_result"
    }
   ],
   "source": [
    "u._phoneno"
   ]
  },
  {
   "cell_type": "code",
   "execution_count": 27,
   "id": "6ff7ae00",
   "metadata": {},
   "outputs": [
    {
     "ename": "AttributeError",
     "evalue": "'encapsulation' object has no attribute '___mail'",
     "output_type": "error",
     "traceback": [
      "\u001b[0;31m---------------------------------------------------------------------------\u001b[0m",
      "\u001b[0;31mAttributeError\u001b[0m                            Traceback (most recent call last)",
      "\u001b[0;32m/var/folders/3q/67zhfv792zl9x8lxwtq3yym80000gp/T/ipykernel_2650/475293527.py\u001b[0m in \u001b[0;36m<module>\u001b[0;34m\u001b[0m\n\u001b[0;32m----> 1\u001b[0;31m \u001b[0mu\u001b[0m\u001b[0;34m.\u001b[0m\u001b[0m___mail\u001b[0m\u001b[0;34m\u001b[0m\u001b[0;34m\u001b[0m\u001b[0m\n\u001b[0m",
      "\u001b[0;31mAttributeError\u001b[0m: 'encapsulation' object has no attribute '___mail'"
     ]
    }
   ],
   "source": [
    "u.___mail"
   ]
  },
  {
   "cell_type": "code",
   "execution_count": 28,
   "id": "a372f5ee",
   "metadata": {},
   "outputs": [
    {
     "data": {
      "text/plain": [
       "'gfhhg@gmail.com'"
      ]
     },
     "execution_count": 28,
     "metadata": {},
     "output_type": "execute_result"
    }
   ],
   "source": [
    "u._encapsulation__mail"
   ]
  },
  {
   "cell_type": "code",
   "execution_count": 29,
   "id": "8e30a83d",
   "metadata": {},
   "outputs": [],
   "source": [
    "v = encapsulation(\"sid\", \"guest\", 12345, \"t5gr@gmail\")"
   ]
  },
  {
   "cell_type": "code",
   "execution_count": 30,
   "id": "8e15b1c2",
   "metadata": {},
   "outputs": [
    {
     "data": {
      "text/plain": [
       "'You are not allowed'"
      ]
     },
     "execution_count": 30,
     "metadata": {},
     "output_type": "execute_result"
    }
   ],
   "source": [
    "v.getmail()"
   ]
  },
  {
   "cell_type": "code",
   "execution_count": 31,
   "id": "d6268ed1",
   "metadata": {},
   "outputs": [
    {
     "data": {
      "text/plain": [
       "'sid'"
      ]
     },
     "execution_count": 31,
     "metadata": {},
     "output_type": "execute_result"
    }
   ],
   "source": [
    "v.name"
   ]
  },
  {
   "cell_type": "code",
   "execution_count": 32,
   "id": "61d6aea8",
   "metadata": {},
   "outputs": [
    {
     "data": {
      "text/plain": [
       "'guest'"
      ]
     },
     "execution_count": 32,
     "metadata": {},
     "output_type": "execute_result"
    }
   ],
   "source": [
    "v.user"
   ]
  },
  {
   "cell_type": "code",
   "execution_count": 33,
   "id": "7ac96b38",
   "metadata": {},
   "outputs": [
    {
     "data": {
      "text/plain": [
       "12345"
      ]
     },
     "execution_count": 33,
     "metadata": {},
     "output_type": "execute_result"
    }
   ],
   "source": [
    "v._phoneno"
   ]
  },
  {
   "cell_type": "code",
   "execution_count": 35,
   "id": "e96ca325",
   "metadata": {},
   "outputs": [
    {
     "ename": "AttributeError",
     "evalue": "'encapsulation' object has no attribute 'mail'",
     "output_type": "error",
     "traceback": [
      "\u001b[0;31m---------------------------------------------------------------------------\u001b[0m",
      "\u001b[0;31mAttributeError\u001b[0m                            Traceback (most recent call last)",
      "\u001b[0;32m/var/folders/3q/67zhfv792zl9x8lxwtq3yym80000gp/T/ipykernel_2650/2936049501.py\u001b[0m in \u001b[0;36m<module>\u001b[0;34m\u001b[0m\n\u001b[0;32m----> 1\u001b[0;31m \u001b[0mv\u001b[0m\u001b[0;34m.\u001b[0m\u001b[0mmail\u001b[0m\u001b[0;34m\u001b[0m\u001b[0;34m\u001b[0m\u001b[0m\n\u001b[0m",
      "\u001b[0;31mAttributeError\u001b[0m: 'encapsulation' object has no attribute 'mail'"
     ]
    }
   ],
   "source": [
    "v.mail"
   ]
  },
  {
   "cell_type": "code",
   "execution_count": 36,
   "id": "d5d898bd",
   "metadata": {},
   "outputs": [
    {
     "ename": "AttributeError",
     "evalue": "'encapsulation' object has no attribute '__mail'",
     "output_type": "error",
     "traceback": [
      "\u001b[0;31m---------------------------------------------------------------------------\u001b[0m",
      "\u001b[0;31mAttributeError\u001b[0m                            Traceback (most recent call last)",
      "\u001b[0;32m/var/folders/3q/67zhfv792zl9x8lxwtq3yym80000gp/T/ipykernel_2650/1004914500.py\u001b[0m in \u001b[0;36m<module>\u001b[0;34m\u001b[0m\n\u001b[0;32m----> 1\u001b[0;31m \u001b[0mv\u001b[0m\u001b[0;34m.\u001b[0m\u001b[0m__mail\u001b[0m\u001b[0;34m\u001b[0m\u001b[0;34m\u001b[0m\u001b[0m\n\u001b[0m",
      "\u001b[0;31mAttributeError\u001b[0m: 'encapsulation' object has no attribute '__mail'"
     ]
    }
   ],
   "source": [
    "v.__mail"
   ]
  },
  {
   "cell_type": "code",
   "execution_count": 34,
   "id": "388b9788",
   "metadata": {},
   "outputs": [
    {
     "data": {
      "text/plain": [
       "'t5gr@gmail'"
      ]
     },
     "execution_count": 34,
     "metadata": {},
     "output_type": "execute_result"
    }
   ],
   "source": [
    "v._encapsulation__mail"
   ]
  },
  {
   "cell_type": "code",
   "execution_count": 4,
   "id": "313abdc6",
   "metadata": {},
   "outputs": [
    {
     "name": "stdout",
     "output_type": "stream",
     "text": [
      "35\n",
      "input is not a even number\n"
     ]
    }
   ],
   "source": [
    "\"\"\"my own class for custom exception\"\"\"\n",
    "\n",
    "class noteven(Exception):\n",
    "    def __init__(self, msg):\n",
    "        self.msg = msg\n",
    "\n",
    "try:\n",
    "    a = int(input())\n",
    "    1/a\n",
    "    if a%2 != 0:\n",
    "        raise(noteven(\"input is not a even number\"))\n",
    "except ZeroDivisionError as msg:\n",
    "    print(msg)\n",
    "except noteven as msg:\n",
    "    print(msg) \n",
    "    \n",
    "else:\n",
    "    print(a)\n",
    "    "
   ]
  },
  {
   "cell_type": "code",
   "execution_count": 10,
   "id": "56d520e2",
   "metadata": {},
   "outputs": [],
   "source": [
    "from abc import abstractmethod\n",
    "class data_project :\n",
    "    \"\"\"abstract class - blueprint for project\"\"\"\n",
    "    @abstractmethod\n",
    "    def read_file(self) :\n",
    "        pass\n",
    "    \n",
    "    def validate_file_name(slef) :\n",
    "        pass\n",
    "    \n",
    "    def validate_datatype(self) :\n",
    "        pass\n",
    "    \n",
    "    def validate_db_connn(self) :\n",
    "        pass\n",
    "    \n",
    "    def create_connn(self) :\n",
    "        pass\n",
    "    \n",
    "    def insert_data(self) :\n",
    "        pass\n",
    "    \n",
    "    def delete_data(self):\n",
    "        pass\n",
    "    \n",
    "    def update_data(self) :\n",
    "        pass\n",
    "    \n",
    "    def perform_stats(self) :\n",
    "        pass\n",
    "    \n",
    "    def perform_eda(self) :\n",
    "        pass"
   ]
  },
  {
   "cell_type": "code",
   "execution_count": 6,
   "id": "55835881",
   "metadata": {},
   "outputs": [
    {
     "ename": "IndentationError",
     "evalue": "expected an indented block (1897843641.py, line 1)",
     "output_type": "error",
     "traceback": [
      "\u001b[0;36m  File \u001b[0;32m\"/var/folders/3q/67zhfv792zl9x8lxwtq3yym80000gp/T/ipykernel_915/1897843641.py\"\u001b[0;36m, line \u001b[0;32m1\u001b[0m\n\u001b[0;31m    class db_ops(data_project):\u001b[0m\n\u001b[0m                               ^\u001b[0m\n\u001b[0;31mIndentationError\u001b[0m\u001b[0;31m:\u001b[0m expected an indented block\n"
     ]
    }
   ],
   "source": [
    "class db_ops(data_project):"
   ]
  },
  {
   "cell_type": "code",
   "execution_count": 14,
   "id": "9c09dc58",
   "metadata": {},
   "outputs": [],
   "source": [
    "class test:\n",
    "    \"\"\"method overloading by __str__\"\"\"\n",
    "    def fun(self) :\n",
    "        print(\"this is my sample class \")"
   ]
  },
  {
   "cell_type": "code",
   "execution_count": 15,
   "id": "a6b53653",
   "metadata": {},
   "outputs": [],
   "source": [
    "t = test()"
   ]
  },
  {
   "cell_type": "code",
   "execution_count": 16,
   "id": "9fba6847",
   "metadata": {},
   "outputs": [
    {
     "name": "stdout",
     "output_type": "stream",
     "text": [
      "<__main__.test object at 0x10f5ba550>\n"
     ]
    }
   ],
   "source": [
    "print(t)"
   ]
  },
  {
   "cell_type": "code",
   "execution_count": 22,
   "id": "4d3f9a3e",
   "metadata": {},
   "outputs": [],
   "source": [
    "class test:\n",
    "    \"\"\"method overloading by __str__\"\"\"\n",
    "    def fun(self) :\n",
    "        print(\"this is my sample class \")\n",
    "        \n",
    "    def __str__(self):\n",
    "        return str(\"this is overload method\")"
   ]
  },
  {
   "cell_type": "code",
   "execution_count": 23,
   "id": "9be9d683",
   "metadata": {},
   "outputs": [],
   "source": [
    "t = test()"
   ]
  },
  {
   "cell_type": "code",
   "execution_count": 24,
   "id": "fe7b1716",
   "metadata": {},
   "outputs": [
    {
     "name": "stdout",
     "output_type": "stream",
     "text": [
      "this is overload method\n"
     ]
    }
   ],
   "source": [
    "print(t)"
   ]
  },
  {
   "cell_type": "code",
   "execution_count": null,
   "id": "2fc4e9ea",
   "metadata": {},
   "outputs": [],
   "source": []
  }
 ],
 "metadata": {
  "kernelspec": {
   "display_name": "Python 3 (ipykernel)",
   "language": "python",
   "name": "python3"
  },
  "language_info": {
   "codemirror_mode": {
    "name": "ipython",
    "version": 3
   },
   "file_extension": ".py",
   "mimetype": "text/x-python",
   "name": "python",
   "nbconvert_exporter": "python",
   "pygments_lexer": "ipython3",
   "version": "3.9.7"
  }
 },
 "nbformat": 4,
 "nbformat_minor": 5
}
