{
 "cells": [
  {
   "cell_type": "code",
   "execution_count": 1,
   "id": "448875e7",
   "metadata": {},
   "outputs": [],
   "source": [
    "import oops"
   ]
  },
  {
   "cell_type": "code",
   "execution_count": 2,
   "id": "437226f9",
   "metadata": {},
   "outputs": [],
   "source": [
    "a = oops.dict_parser({1:\"sai\", 2:'sid', 3:\"hi\", 4:\"om\"})"
   ]
  },
  {
   "cell_type": "code",
   "execution_count": 4,
   "id": "634ee103",
   "metadata": {},
   "outputs": [
    {
     "name": "stdout",
     "output_type": "stream",
     "text": [
      "input is dictonary\n"
     ]
    }
   ],
   "source": [
    "a.check()"
   ]
  },
  {
   "cell_type": "code",
   "execution_count": 5,
   "id": "68b8cbbc",
   "metadata": {},
   "outputs": [
    {
     "data": {
      "text/plain": [
       "dict_keys([1, 2, 3, 4])"
      ]
     },
     "execution_count": 5,
     "metadata": {},
     "output_type": "execute_result"
    }
   ],
   "source": [
    "a.keys()"
   ]
  },
  {
   "cell_type": "code",
   "execution_count": 6,
   "id": "0a3ebb36",
   "metadata": {},
   "outputs": [
    {
     "data": {
      "text/plain": [
       "dict_values(['sai', 'sid', 'hi', 'om'])"
      ]
     },
     "execution_count": 6,
     "metadata": {},
     "output_type": "execute_result"
    }
   ],
   "source": [
    "a.values()"
   ]
  },
  {
   "cell_type": "code",
   "execution_count": 7,
   "id": "7aba5ee3",
   "metadata": {},
   "outputs": [
    {
     "data": {
      "text/plain": [
       "dict_keys([1, 2, 3, 4])"
      ]
     },
     "execution_count": 7,
     "metadata": {},
     "output_type": "execute_result"
    }
   ],
   "source": [
    "a.keys()"
   ]
  },
  {
   "cell_type": "code",
   "execution_count": 8,
   "id": "529bbf0d",
   "metadata": {},
   "outputs": [],
   "source": [
    "a.insert(a=1,b=2,c=3)"
   ]
  },
  {
   "cell_type": "code",
   "execution_count": 10,
   "id": "283145d6",
   "metadata": {},
   "outputs": [
    {
     "data": {
      "text/plain": [
       "{1: 'sai', 2: 'sid', 3: 'hi', 4: 'om', 'a': 1, 'b': 2, 'c': 3}"
      ]
     },
     "execution_count": 10,
     "metadata": {},
     "output_type": "execute_result"
    }
   ],
   "source": [
    "a.a"
   ]
  },
  {
   "cell_type": "code",
   "execution_count": 11,
   "id": "e6c5b3e1",
   "metadata": {},
   "outputs": [
    {
     "name": "stdout",
     "output_type": "stream",
     "text": [
      "dict_keys([1, 2])\n",
      "dict_values(['sid', 'sid'])\n"
     ]
    }
   ],
   "source": [
    "a.dic({1:\"sid\", 2:\"sid\"})"
   ]
  },
  {
   "cell_type": "code",
   "execution_count": null,
   "id": "372b8514",
   "metadata": {},
   "outputs": [],
   "source": []
  }
 ],
 "metadata": {
  "kernelspec": {
   "display_name": "Python 3 (ipykernel)",
   "language": "python",
   "name": "python3"
  },
  "language_info": {
   "codemirror_mode": {
    "name": "ipython",
    "version": 3
   },
   "file_extension": ".py",
   "mimetype": "text/x-python",
   "name": "python",
   "nbconvert_exporter": "python",
   "pygments_lexer": "ipython3",
   "version": "3.9.7"
  }
 },
 "nbformat": 4,
 "nbformat_minor": 5
}
