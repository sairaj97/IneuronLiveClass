{
 "cells": [
  {
   "cell_type": "code",
   "execution_count": 2,
   "id": "3283f942",
   "metadata": {},
   "outputs": [],
   "source": [
    "def test():\n",
    "    pass"
   ]
  },
  {
   "cell_type": "code",
   "execution_count": 3,
   "id": "0fbdd7c6",
   "metadata": {},
   "outputs": [],
   "source": [
    "def test1():\n",
    "    print('this is my 1st function')\n",
    "    "
   ]
  },
  {
   "cell_type": "code",
   "execution_count": 4,
   "id": "dbf12d10",
   "metadata": {},
   "outputs": [
    {
     "name": "stdout",
     "output_type": "stream",
     "text": [
      "this is my 1st function\n"
     ]
    }
   ],
   "source": [
    "test1()"
   ]
  },
  {
   "cell_type": "code",
   "execution_count": 12,
   "id": "b7acc158",
   "metadata": {},
   "outputs": [
    {
     "name": "stdout",
     "output_type": "stream",
     "text": [
      "this is my 1st function\n"
     ]
    }
   ],
   "source": [
    " a= test1()   "
   ]
  },
  {
   "cell_type": "code",
   "execution_count": 13,
   "id": "5257a509",
   "metadata": {},
   "outputs": [],
   "source": [
    "a"
   ]
  },
  {
   "cell_type": "code",
   "execution_count": 6,
   "id": "7c5bb7cc",
   "metadata": {},
   "outputs": [
    {
     "ename": "TypeError",
     "evalue": "unsupported operand type(s) for +: 'NoneType' and 'str'",
     "output_type": "error",
     "traceback": [
      "\u001b[0;31m---------------------------------------------------------------------------\u001b[0m",
      "\u001b[0;31mTypeError\u001b[0m                                 Traceback (most recent call last)",
      "\u001b[0;32m/var/folders/3q/67zhfv792zl9x8lxwtq3yym80000gp/T/ipykernel_1988/4138155131.py\u001b[0m in \u001b[0;36m<module>\u001b[0;34m\u001b[0m\n\u001b[0;32m----> 1\u001b[0;31m \u001b[0ma\u001b[0m\u001b[0;34m+\u001b[0m \u001b[0;34m'sudh'\u001b[0m\u001b[0;34m\u001b[0m\u001b[0;34m\u001b[0m\u001b[0m\n\u001b[0m",
      "\u001b[0;31mTypeError\u001b[0m: unsupported operand type(s) for +: 'NoneType' and 'str'"
     ]
    }
   ],
   "source": [
    "a+ 'sudh'"
   ]
  },
  {
   "cell_type": "code",
   "execution_count": 7,
   "id": "a90a8db5",
   "metadata": {},
   "outputs": [
    {
     "name": "stdout",
     "output_type": "stream",
     "text": [
      "this is my 1st function\n"
     ]
    },
    {
     "data": {
      "text/plain": [
       "NoneType"
      ]
     },
     "execution_count": 7,
     "metadata": {},
     "output_type": "execute_result"
    }
   ],
   "source": [
    "type(test1())"
   ]
  },
  {
   "cell_type": "code",
   "execution_count": 14,
   "id": "e44bec50",
   "metadata": {},
   "outputs": [
    {
     "data": {
      "text/plain": [
       "'None'"
      ]
     },
     "execution_count": 14,
     "metadata": {},
     "output_type": "execute_result"
    }
   ],
   "source": [
    "str(a)"
   ]
  },
  {
   "cell_type": "code",
   "execution_count": 25,
   "id": "af1647c5",
   "metadata": {},
   "outputs": [],
   "source": [
    "def test2():\n",
    "    return \"this my 1st function\"  #here it is working because previously print has none type "
   ]
  },
  {
   "cell_type": "code",
   "execution_count": 27,
   "id": "56cf19e2",
   "metadata": {},
   "outputs": [
    {
     "data": {
      "text/plain": [
       "str"
      ]
     },
     "execution_count": 27,
     "metadata": {},
     "output_type": "execute_result"
    }
   ],
   "source": [
    "type(test2())"
   ]
  },
  {
   "cell_type": "code",
   "execution_count": 28,
   "id": "eebd234a",
   "metadata": {},
   "outputs": [
    {
     "data": {
      "text/plain": [
       "'this my 1st function sudh'"
      ]
     },
     "execution_count": 28,
     "metadata": {},
     "output_type": "execute_result"
    }
   ],
   "source": [
    "test2()+ ' sudh'"
   ]
  },
  {
   "cell_type": "code",
   "execution_count": 30,
   "id": "c4aaca8f",
   "metadata": {},
   "outputs": [],
   "source": [
    "def test3():\n",
    "    return 23423"
   ]
  },
  {
   "cell_type": "code",
   "execution_count": 31,
   "id": "28d5dcab",
   "metadata": {},
   "outputs": [
    {
     "data": {
      "text/plain": [
       "int"
      ]
     },
     "execution_count": 31,
     "metadata": {},
     "output_type": "execute_result"
    }
   ],
   "source": [
    "type(test3())"
   ]
  },
  {
   "cell_type": "code",
   "execution_count": 17,
   "id": "d4b562ec",
   "metadata": {},
   "outputs": [],
   "source": [
    "def test4():\n",
    "    print( 4 , 3 ,'454', [34,'fgft'])"
   ]
  },
  {
   "cell_type": "code",
   "execution_count": 18,
   "id": "e3bc1448",
   "metadata": {},
   "outputs": [
    {
     "name": "stdout",
     "output_type": "stream",
     "text": [
      "4 3 454 [34, 'fgft']\n"
     ]
    }
   ],
   "source": [
    "b = test4()"
   ]
  },
  {
   "cell_type": "code",
   "execution_count": 20,
   "id": "5d9d82c5",
   "metadata": {},
   "outputs": [],
   "source": [
    "def test4():\n",
    "    return  4 , 3 ,'454', [34,'fgft']"
   ]
  },
  {
   "cell_type": "code",
   "execution_count": 21,
   "id": "ea08eeea",
   "metadata": {},
   "outputs": [],
   "source": [
    "b = test4()"
   ]
  },
  {
   "cell_type": "code",
   "execution_count": 22,
   "id": "1e20fda4",
   "metadata": {},
   "outputs": [
    {
     "data": {
      "text/plain": [
       "(4, 3, '454', [34, 'fgft'])"
      ]
     },
     "execution_count": 22,
     "metadata": {},
     "output_type": "execute_result"
    }
   ],
   "source": [
    "b"
   ]
  },
  {
   "cell_type": "code",
   "execution_count": 23,
   "id": "0976cb7a",
   "metadata": {},
   "outputs": [
    {
     "data": {
      "text/plain": [
       "3"
      ]
     },
     "execution_count": 23,
     "metadata": {},
     "output_type": "execute_result"
    }
   ],
   "source": [
    "b[1]"
   ]
  },
  {
   "cell_type": "code",
   "execution_count": 24,
   "id": "ba165f80",
   "metadata": {},
   "outputs": [],
   "source": [
    "a,b,c,d = 12,'dfd',34,[4,55]"
   ]
  },
  {
   "cell_type": "code",
   "execution_count": 25,
   "id": "5d95ba33",
   "metadata": {},
   "outputs": [
    {
     "data": {
      "text/plain": [
       "'dfd'"
      ]
     },
     "execution_count": 25,
     "metadata": {},
     "output_type": "execute_result"
    }
   ],
   "source": [
    "b"
   ]
  },
  {
   "cell_type": "code",
   "execution_count": 26,
   "id": "f47509b2",
   "metadata": {},
   "outputs": [],
   "source": [
    "x,y,u,v = test4()"
   ]
  },
  {
   "cell_type": "code",
   "execution_count": 59,
   "id": "b0180a4c",
   "metadata": {},
   "outputs": [
    {
     "data": {
      "text/plain": [
       "3"
      ]
     },
     "execution_count": 59,
     "metadata": {},
     "output_type": "execute_result"
    }
   ],
   "source": [
    "y"
   ]
  },
  {
   "cell_type": "code",
   "execution_count": 60,
   "id": "70c3ae8c",
   "metadata": {},
   "outputs": [
    {
     "data": {
      "text/plain": [
       "[34, 'fgft']"
      ]
     },
     "execution_count": 60,
     "metadata": {},
     "output_type": "execute_result"
    }
   ],
   "source": [
    "v"
   ]
  },
  {
   "cell_type": "code",
   "execution_count": 27,
   "id": "be15374d",
   "metadata": {},
   "outputs": [],
   "source": [
    "def test5():\n",
    "    a = 6*7/6\n",
    "    return a"
   ]
  },
  {
   "cell_type": "code",
   "execution_count": 28,
   "id": "3699ba35",
   "metadata": {},
   "outputs": [
    {
     "data": {
      "text/plain": [
       "12"
      ]
     },
     "execution_count": 28,
     "metadata": {},
     "output_type": "execute_result"
    }
   ],
   "source": [
    "a"
   ]
  },
  {
   "cell_type": "code",
   "execution_count": 29,
   "id": "b2d7d96e",
   "metadata": {},
   "outputs": [
    {
     "data": {
      "text/plain": [
       "7.0"
      ]
     },
     "execution_count": 29,
     "metadata": {},
     "output_type": "execute_result"
    }
   ],
   "source": [
    "test5()"
   ]
  },
  {
   "cell_type": "code",
   "execution_count": 30,
   "id": "650fd480",
   "metadata": {},
   "outputs": [],
   "source": [
    "l = [3,4,54, \"sudh\", [1,2,3,4]]\n",
    "\n",
    "    "
   ]
  },
  {
   "cell_type": "code",
   "execution_count": 31,
   "id": "8bc52aa8",
   "metadata": {},
   "outputs": [],
   "source": [
    "def test6(a):\n",
    "    n=[]\n",
    "    if type(a) == list:\n",
    "        for i in a:\n",
    "            if type(i)== int:\n",
    "                n.append(i)\n",
    "    return n\n",
    "    "
   ]
  },
  {
   "cell_type": "code",
   "execution_count": 32,
   "id": "e3dfddd7",
   "metadata": {},
   "outputs": [
    {
     "data": {
      "text/plain": [
       "[3, 4, 54]"
      ]
     },
     "execution_count": 32,
     "metadata": {},
     "output_type": "execute_result"
    }
   ],
   "source": [
    "test6(l)"
   ]
  },
  {
   "cell_type": "code",
   "execution_count": 37,
   "id": "73c3c837",
   "metadata": {},
   "outputs": [],
   "source": [
    "def test7(c):\n",
    "    if type(c)==dict:\n",
    "        return c.keys()\n",
    "    else :\n",
    "        return \"you have not pass dict\""
   ]
  },
  {
   "cell_type": "code",
   "execution_count": 38,
   "id": "9320eb68",
   "metadata": {},
   "outputs": [
    {
     "data": {
      "text/plain": [
       "dict_keys(['a', 'c'])"
      ]
     },
     "execution_count": 38,
     "metadata": {},
     "output_type": "execute_result"
    }
   ],
   "source": [
    "test7({\"a\":\"ddf\", \"c\": \"565656\"})"
   ]
  },
  {
   "cell_type": "code",
   "execution_count": 39,
   "id": "00885e89",
   "metadata": {},
   "outputs": [
    {
     "data": {
      "text/plain": [
       "'you have not pass dict'"
      ]
     },
     "execution_count": 39,
     "metadata": {},
     "output_type": "execute_result"
    }
   ],
   "source": [
    "test7(7)"
   ]
  },
  {
   "cell_type": "code",
   "execution_count": 61,
   "id": "273c7ac1",
   "metadata": {},
   "outputs": [],
   "source": [
    "def test8(a,b):\n",
    "    if type(a)==list and type(b)==list:\n",
    "        a.extend(b)\n",
    "        #a=a+b\n",
    "        return a\n",
    "    else:\n",
    "        return \"Either of data is not list\""
   ]
  },
  {
   "cell_type": "code",
   "execution_count": 62,
   "id": "b4e316bb",
   "metadata": {},
   "outputs": [
    {
     "data": {
      "text/plain": [
       "[5, 5, 6, 4, 5]"
      ]
     },
     "execution_count": 62,
     "metadata": {},
     "output_type": "execute_result"
    }
   ],
   "source": [
    "test8([5,5,6],[4,5])"
   ]
  },
  {
   "cell_type": "code",
   "execution_count": 63,
   "id": "d9eef761",
   "metadata": {},
   "outputs": [],
   "source": [
    "a = [5,5,6]\n",
    "b = [4,5]"
   ]
  },
  {
   "cell_type": "code",
   "execution_count": 64,
   "id": "28b438ef",
   "metadata": {},
   "outputs": [
    {
     "data": {
      "text/plain": [
       "[5, 5, 6, 4, 5]"
      ]
     },
     "execution_count": 64,
     "metadata": {},
     "output_type": "execute_result"
    }
   ],
   "source": [
    "test8(a,b)"
   ]
  },
  {
   "cell_type": "code",
   "execution_count": 65,
   "id": "e0cb23aa",
   "metadata": {},
   "outputs": [
    {
     "data": {
      "text/plain": [
       "'Either of data is not list'"
      ]
     },
     "execution_count": 65,
     "metadata": {},
     "output_type": "execute_result"
    }
   ],
   "source": [
    "test8(5,[5,67])"
   ]
  },
  {
   "cell_type": "code",
   "execution_count": 68,
   "id": "0988c55a",
   "metadata": {},
   "outputs": [],
   "source": [
    "def triangle(p):\n",
    "    \"\"\"this the function which helps you to create triangle with any number of rows\"\"\"\n",
    "    if type(p)==int:\n",
    "        for i in range(p):\n",
    "            print('*'+ '*'*i)\n",
    "    else:\n",
    "        return \"please enter integer\"\n",
    "    "
   ]
  },
  {
   "cell_type": "code",
   "execution_count": 69,
   "id": "56a44fad",
   "metadata": {},
   "outputs": [
    {
     "name": "stdout",
     "output_type": "stream",
     "text": [
      "*\n",
      "**\n",
      "***\n",
      "****\n",
      "*****\n",
      "******\n"
     ]
    }
   ],
   "source": [
    "triangle(6)"
   ]
  },
  {
   "cell_type": "code",
   "execution_count": 83,
   "id": "d0919cd4",
   "metadata": {},
   "outputs": [],
   "source": [
    "def triangle(p):\n",
    "    \"\"\"this the function which helps you to create triangle with any number of rows\"\"\"\n",
    "    for i in range(0,p):\n",
    "        for j in range(0,i+1):\n",
    "            print(\"*\", end=\"\")\n",
    "        print(\"\\r\")"
   ]
  },
  {
   "cell_type": "code",
   "execution_count": 84,
   "id": "3dff50ff",
   "metadata": {},
   "outputs": [
    {
     "name": "stdout",
     "output_type": "stream",
     "text": [
      "*\r\n",
      "**\r\n",
      "***\r\n",
      "****\r\n",
      "*****\r\n"
     ]
    }
   ],
   "source": [
    "triangle(5)"
   ]
  },
  {
   "cell_type": "code",
   "execution_count": 60,
   "id": "b65643d7",
   "metadata": {},
   "outputs": [],
   "source": [
    "def parallelogram(p):\n",
    "    \"\"\"this the function which helps you to create triangle with any number of rows\"\"\"\n",
    "    for i in range(0,p):\n",
    "        for j in range(p,i+1,-1):\n",
    "            print(\" \", end=\"\")\n",
    "        for k in range(1,p+1):\n",
    "            print(\"* \", end=\"\")\n",
    "        print(\"\\r\")"
   ]
  },
  {
   "cell_type": "code",
   "execution_count": 62,
   "id": "1c94f0ad",
   "metadata": {},
   "outputs": [
    {
     "name": "stdout",
     "output_type": "stream",
     "text": [
      "         * * * * * * * * * * \r\n",
      "        * * * * * * * * * * \r\n",
      "       * * * * * * * * * * \r\n",
      "      * * * * * * * * * * \r\n",
      "     * * * * * * * * * * \r\n",
      "    * * * * * * * * * * \r\n",
      "   * * * * * * * * * * \r\n",
      "  * * * * * * * * * * \r\n",
      " * * * * * * * * * * \r\n",
      "* * * * * * * * * * \r\n"
     ]
    }
   ],
   "source": [
    "parallelogram(10)"
   ]
  },
  {
   "cell_type": "code",
   "execution_count": 63,
   "id": "3feebf48",
   "metadata": {},
   "outputs": [],
   "source": [
    "def squares(n):\n",
    "    for i in range(1,n+1):\n",
    "        for j in range(n+1,i,-1):\n",
    "            print(\"  \", end=\"\")\n",
    "            for k in range(1,j):\n",
    "                print(\"* \", end=\"\")\n",
    "        print(\"\\r\")"
   ]
  },
  {
   "cell_type": "code",
   "execution_count": 64,
   "id": "88015331",
   "metadata": {},
   "outputs": [
    {
     "name": "stdout",
     "output_type": "stream",
     "text": [
      "  * * * * * * * * *   * * * * * * * *   * * * * * * *   * * * * * *   * * * * *   * * * *   * * *   * *   * \r\n",
      "  * * * * * * * * *   * * * * * * * *   * * * * * * *   * * * * * *   * * * * *   * * * *   * * *   * * \r\n",
      "  * * * * * * * * *   * * * * * * * *   * * * * * * *   * * * * * *   * * * * *   * * * *   * * * \r\n",
      "  * * * * * * * * *   * * * * * * * *   * * * * * * *   * * * * * *   * * * * *   * * * * \r\n",
      "  * * * * * * * * *   * * * * * * * *   * * * * * * *   * * * * * *   * * * * * \r\n",
      "  * * * * * * * * *   * * * * * * * *   * * * * * * *   * * * * * * \r\n",
      "  * * * * * * * * *   * * * * * * * *   * * * * * * * \r\n",
      "  * * * * * * * * *   * * * * * * * * \r\n",
      "  * * * * * * * * * \r\n"
     ]
    }
   ],
   "source": [
    "squares(9)"
   ]
  },
  {
   "cell_type": "code",
   "execution_count": 65,
   "id": "da3d87da",
   "metadata": {},
   "outputs": [],
   "source": [
    "def triangle(n):\n",
    "    for i in range(1,n+1):\n",
    "        for j in range(n+1,i,-1):\n",
    "            print(\" \", end=\"\")\n",
    "        for k in range(1,j):\n",
    "            print(\"* \", end=\"\")\n",
    "        print(\"\\r\")"
   ]
  },
  {
   "cell_type": "code",
   "execution_count": 66,
   "id": "499ee403",
   "metadata": {},
   "outputs": [
    {
     "name": "stdout",
     "output_type": "stream",
     "text": [
      "         * \r\n",
      "        * * \r\n",
      "       * * * \r\n",
      "      * * * * \r\n",
      "     * * * * * \r\n",
      "    * * * * * * \r\n",
      "   * * * * * * * \r\n",
      "  * * * * * * * * \r\n",
      " * * * * * * * * * \r\n"
     ]
    }
   ],
   "source": [
    "triangle(9)"
   ]
  },
  {
   "cell_type": "code",
   "execution_count": 67,
   "id": "b7390d3e",
   "metadata": {},
   "outputs": [
    {
     "name": "stdout",
     "output_type": "stream",
     "text": [
      "Help on function triangle in module __main__:\n",
      "\n",
      "triangle(n)\n",
      "\n"
     ]
    }
   ],
   "source": [
    "help(triangle)"
   ]
  }
 ],
 "metadata": {
  "kernelspec": {
   "display_name": "Python 3 (ipykernel)",
   "language": "python",
   "name": "python3"
  },
  "language_info": {
   "codemirror_mode": {
    "name": "ipython",
    "version": 3
   },
   "file_extension": ".py",
   "mimetype": "text/x-python",
   "name": "python",
   "nbconvert_exporter": "python",
   "pygments_lexer": "ipython3",
   "version": "3.9.7"
  }
 },
 "nbformat": 4,
 "nbformat_minor": 5
}
