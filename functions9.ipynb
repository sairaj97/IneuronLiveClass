{
 "cells": [
  {
   "cell_type": "code",
   "execution_count": 1,
   "id": "d26e3cf9",
   "metadata": {},
   "outputs": [
    {
     "data": {
      "text/plain": [
       "range(0, 45, 3)"
      ]
     },
     "execution_count": 1,
     "metadata": {},
     "output_type": "execute_result"
    }
   ],
   "source": [
    "range(0,45,3)"
   ]
  },
  {
   "cell_type": "code",
   "execution_count": 2,
   "id": "e8b2c622",
   "metadata": {},
   "outputs": [
    {
     "data": {
      "text/plain": [
       "[0, 3, 6, 9, 12, 15, 18, 21, 24, 27, 30, 33, 36, 39, 42]"
      ]
     },
     "execution_count": 2,
     "metadata": {},
     "output_type": "execute_result"
    }
   ],
   "source": [
    "list(range(0,45,3))"
   ]
  },
  {
   "cell_type": "code",
   "execution_count": 3,
   "id": "e1a9f1be",
   "metadata": {},
   "outputs": [],
   "source": [
    "def gencube(n):\n",
    "    for i in range(1,n+1):\n",
    "        print(i**3)         "
   ]
  },
  {
   "cell_type": "code",
   "execution_count": 4,
   "id": "a26cb30e",
   "metadata": {},
   "outputs": [
    {
     "name": "stdout",
     "output_type": "stream",
     "text": [
      "1\n",
      "8\n",
      "27\n",
      "64\n",
      "125\n",
      "216\n"
     ]
    }
   ],
   "source": [
    "gencube(6)"
   ]
  },
  {
   "cell_type": "code",
   "execution_count": 5,
   "id": "e318c490",
   "metadata": {},
   "outputs": [],
   "source": [
    "def gencube(n):\n",
    "    l=[]\n",
    "    for i in range(1,n+1):\n",
    "        l.append(i**3)\n",
    "    return l"
   ]
  },
  {
   "cell_type": "code",
   "execution_count": 6,
   "id": "b14c59bc",
   "metadata": {},
   "outputs": [
    {
     "data": {
      "text/plain": [
       "[1, 8, 27, 64, 125]"
      ]
     },
     "execution_count": 6,
     "metadata": {},
     "output_type": "execute_result"
    }
   ],
   "source": [
    "gencube(5)"
   ]
  },
  {
   "cell_type": "code",
   "execution_count": 5,
   "id": "d81abacf",
   "metadata": {},
   "outputs": [
    {
     "data": {
      "text/plain": [
       "range(0, 10000000000000)"
      ]
     },
     "execution_count": 5,
     "metadata": {},
     "output_type": "execute_result"
    }
   ],
   "source": [
    "range(10000000000000)"
   ]
  },
  {
   "cell_type": "code",
   "execution_count": 9,
   "id": "924e2410",
   "metadata": {},
   "outputs": [],
   "source": [
    "def gencube(n):\n",
    "    for i in range(1,n+1):\n",
    "        yield i**3   "
   ]
  },
  {
   "cell_type": "code",
   "execution_count": 10,
   "id": "09577992",
   "metadata": {},
   "outputs": [
    {
     "data": {
      "text/plain": [
       "<generator object gencube at 0x106820dd0>"
      ]
     },
     "execution_count": 10,
     "metadata": {},
     "output_type": "execute_result"
    }
   ],
   "source": [
    "gencube(5)"
   ]
  },
  {
   "cell_type": "code",
   "execution_count": 11,
   "id": "03e415f2",
   "metadata": {},
   "outputs": [
    {
     "data": {
      "text/plain": [
       "[1, 8, 27, 64, 125]"
      ]
     },
     "execution_count": 11,
     "metadata": {},
     "output_type": "execute_result"
    }
   ],
   "source": [
    "list(gencube(5))"
   ]
  },
  {
   "cell_type": "code",
   "execution_count": null,
   "id": "ad61a0a6",
   "metadata": {},
   "outputs": [],
   "source": [
    "for i in gencube(500000000):\n",
    "    print(i)"
   ]
  },
  {
   "cell_type": "code",
   "execution_count": 48,
   "id": "ebcdc3a2",
   "metadata": {},
   "outputs": [],
   "source": [
    "def fibonaci(n):\n",
    "    l=[]\n",
    "    for i in range(n):\n",
    "        if i == 0 or i==1:\n",
    "            l.append(i)\n",
    "        else:\n",
    "            l.append(l[i-1]+l[i-2])\n",
    "    return l"
   ]
  },
  {
   "cell_type": "code",
   "execution_count": 49,
   "id": "c0637a51",
   "metadata": {},
   "outputs": [
    {
     "data": {
      "text/plain": [
       "[0, 1, 1, 2, 3, 5, 8, 13, 21, 34]"
      ]
     },
     "execution_count": 49,
     "metadata": {},
     "output_type": "execute_result"
    }
   ],
   "source": [
    "fibonaci(10)"
   ]
  },
  {
   "cell_type": "code",
   "execution_count": 50,
   "id": "42574d5f",
   "metadata": {},
   "outputs": [],
   "source": [
    "def fib(n):\n",
    "    a=0\n",
    "    b=1\n",
    "    for i in range(n):\n",
    "        yield a, i\n",
    "        a,b = b, a+b"
   ]
  },
  {
   "cell_type": "code",
   "execution_count": 51,
   "id": "561552ed",
   "metadata": {},
   "outputs": [
    {
     "name": "stdout",
     "output_type": "stream",
     "text": [
      "(0, 0)\n",
      "(1, 1)\n",
      "(1, 2)\n",
      "(2, 3)\n",
      "(3, 4)\n",
      "(5, 5)\n",
      "(8, 6)\n",
      "(13, 7)\n",
      "(21, 8)\n",
      "(34, 9)\n"
     ]
    }
   ],
   "source": [
    "for i in fib(10):\n",
    "    print(i)"
   ]
  },
  {
   "cell_type": "code",
   "execution_count": 52,
   "id": "5090109d",
   "metadata": {},
   "outputs": [
    {
     "name": "stdout",
     "output_type": "stream",
     "text": [
      "y6yyyt\n"
     ]
    }
   ],
   "source": [
    "print(\"y6yyyt\")"
   ]
  },
  {
   "cell_type": "code",
   "execution_count": 53,
   "id": "6b8ac5e3",
   "metadata": {},
   "outputs": [],
   "source": [
    "f = open(\"text.txt\",\"w\")"
   ]
  },
  {
   "cell_type": "code",
   "execution_count": 57,
   "id": "255ceacc",
   "metadata": {},
   "outputs": [
    {
     "name": "stdout",
     "output_type": "stream",
     "text": [
      "12700116000imagebib_no6010-clipped.png\r\n",
      "12700116000imagebib_no6010-full.png\r\n",
      "12700116000imagebib_no6010-thumb.png\r\n",
      "12700116000marathonrunner_statsbib_no_191-clipped.png\r\n",
      "12700116000marathonrunner_statsbib_no_191-full.png\r\n",
      "12700116000marathonrunner_statsbib_no_191-thumb.png\r\n",
      "364858runner_statisticsbib_no1745-full.png\r\n",
      "\u001b[34mApplications\u001b[m\u001b[m/\r\n",
      "\u001b[34mDesktop\u001b[m\u001b[m/\r\n",
      "\u001b[34mDev\u001b[m\u001b[m/\r\n",
      "\u001b[34mDocuments\u001b[m\u001b[m/\r\n",
      "\u001b[34mDownloads\u001b[m\u001b[m/\r\n",
      "\u001b[34mLibrary\u001b[m\u001b[m/\r\n",
      "\u001b[34mMovies\u001b[m\u001b[m/\r\n",
      "\u001b[34mMusic\u001b[m\u001b[m/\r\n",
      "\u001b[34mPictures\u001b[m\u001b[m/\r\n",
      "\u001b[34mPostman\u001b[m\u001b[m/\r\n",
      "\u001b[34mPublic\u001b[m\u001b[m/\r\n",
      "\u001b[34mPycharmProjects\u001b[m\u001b[m/\r\n",
      "functions7.ipynb\r\n",
      "functions8.ipynb\r\n",
      "functions9.ipynb\r\n",
      "\u001b[34mineuron\u001b[m\u001b[m/\r\n",
      "ineuron_chris_1.ipynb\r\n",
      "ineuron_chris_10.ipynb\r\n",
      "ineuron_chris_11.ipynb\r\n",
      "ineuron_chris_11_a.ipynb\r\n",
      "ineuron_chris_12.ipynb\r\n",
      "ineuron_chris_13.ipynb\r\n",
      "ineuron_chris_14.ipynb\r\n",
      "ineuron_chris_16.ipynb\r\n",
      "ineuron_chris_17.ipynb\r\n",
      "ineuron_chris_2.ipynb\r\n",
      "ineuron_chris_3.ipynb\r\n",
      "ineuron_chris_4.ipynb\r\n",
      "ineuron_chris_5.ipynb\r\n",
      "ineuron_chris_6.ipynb\r\n",
      "ineuron_chris_7.ipynb\r\n",
      "ineuron_chris_8.ipynb\r\n",
      "ineuron_chris_9.ipynb\r\n",
      "ineuron_christmas_assignments.ipynb\r\n",
      "ineuron_chrius_13.ipynb\r\n",
      "java_error_in_pycharm.hprof\r\n",
      "jmeter.log\r\n",
      "\u001b[34mnode_modules\u001b[m\u001b[m/\r\n",
      "package-lock.json\r\n",
      "practprob6.ipynb\r\n",
      "text.txt\r\n"
     ]
    }
   ],
   "source": [
    "ls"
   ]
  },
  {
   "cell_type": "code",
   "execution_count": 55,
   "id": "9ac3e105",
   "metadata": {},
   "outputs": [
    {
     "data": {
      "text/plain": [
       "'/Users/kustarddev'"
      ]
     },
     "execution_count": 55,
     "metadata": {},
     "output_type": "execute_result"
    }
   ],
   "source": [
    "pwd()"
   ]
  },
  {
   "cell_type": "code",
   "execution_count": 62,
   "id": "c5dd08be",
   "metadata": {},
   "outputs": [],
   "source": [
    "f = open(\"text1.txt\", 'w')"
   ]
  },
  {
   "cell_type": "code",
   "execution_count": 63,
   "id": "ef03651f",
   "metadata": {},
   "outputs": [
    {
     "data": {
      "text/plain": [
       "67"
      ]
     },
     "execution_count": 63,
     "metadata": {},
     "output_type": "execute_result"
    }
   ],
   "source": [
    "f.write(\"this my 1st write operation hfghrthththtyhrtfsfegjjtweergjuykykyujt\")"
   ]
  },
  {
   "cell_type": "code",
   "execution_count": 64,
   "id": "1ee74a86",
   "metadata": {},
   "outputs": [],
   "source": [
    "f.close()"
   ]
  },
  {
   "cell_type": "code",
   "execution_count": 65,
   "id": "e4686690",
   "metadata": {},
   "outputs": [
    {
     "name": "stdout",
     "output_type": "stream",
     "text": [
      "Writing text2.txt\n"
     ]
    }
   ],
   "source": [
    "%%writefile text2.txt\n",
    "this is shortcut to open and write in file without closing it"
   ]
  },
  {
   "cell_type": "code",
   "execution_count": 68,
   "id": "09a21466",
   "metadata": {},
   "outputs": [],
   "source": [
    "f = open(\"text1.txt\")"
   ]
  },
  {
   "cell_type": "code",
   "execution_count": 69,
   "id": "ea82bd11",
   "metadata": {},
   "outputs": [
    {
     "data": {
      "text/plain": [
       "'this my 1st write operation hfghrthththtyhrtfsfegjjtweergjuykykyujt'"
      ]
     },
     "execution_count": 69,
     "metadata": {},
     "output_type": "execute_result"
    }
   ],
   "source": [
    "f.read()"
   ]
  },
  {
   "cell_type": "code",
   "execution_count": 70,
   "id": "95746440",
   "metadata": {},
   "outputs": [
    {
     "ename": "UnsupportedOperation",
     "evalue": "not writable",
     "output_type": "error",
     "traceback": [
      "\u001b[0;31m---------------------------------------------------------------------------\u001b[0m",
      "\u001b[0;31mUnsupportedOperation\u001b[0m                      Traceback (most recent call last)",
      "\u001b[0;32m/var/folders/3q/67zhfv792zl9x8lxwtq3yym80000gp/T/ipykernel_991/388906590.py\u001b[0m in \u001b[0;36m<module>\u001b[0;34m\u001b[0m\n\u001b[0;32m----> 1\u001b[0;31m \u001b[0mf\u001b[0m\u001b[0;34m.\u001b[0m\u001b[0mwrite\u001b[0m\u001b[0;34m(\u001b[0m\u001b[0;34m\"hrtht\"\u001b[0m\u001b[0;34m)\u001b[0m\u001b[0;34m\u001b[0m\u001b[0;34m\u001b[0m\u001b[0m\n\u001b[0m",
      "\u001b[0;31mUnsupportedOperation\u001b[0m: not writable"
     ]
    }
   ],
   "source": [
    "f.write(\"hrtht\")"
   ]
  },
  {
   "cell_type": "code",
   "execution_count": 85,
   "id": "a108eb37",
   "metadata": {},
   "outputs": [],
   "source": [
    "f = open(\"text1.txt\",\"w\")"
   ]
  },
  {
   "cell_type": "code",
   "execution_count": 86,
   "id": "de0d1d5d",
   "metadata": {},
   "outputs": [
    {
     "ename": "UnsupportedOperation",
     "evalue": "not readable",
     "output_type": "error",
     "traceback": [
      "\u001b[0;31m---------------------------------------------------------------------------\u001b[0m",
      "\u001b[0;31mUnsupportedOperation\u001b[0m                      Traceback (most recent call last)",
      "\u001b[0;32m/var/folders/3q/67zhfv792zl9x8lxwtq3yym80000gp/T/ipykernel_991/3059900045.py\u001b[0m in \u001b[0;36m<module>\u001b[0;34m\u001b[0m\n\u001b[0;32m----> 1\u001b[0;31m \u001b[0mf\u001b[0m\u001b[0;34m.\u001b[0m\u001b[0mread\u001b[0m\u001b[0;34m(\u001b[0m\u001b[0;34m)\u001b[0m\u001b[0;34m\u001b[0m\u001b[0;34m\u001b[0m\u001b[0m\n\u001b[0m",
      "\u001b[0;31mUnsupportedOperation\u001b[0m: not readable"
     ]
    }
   ],
   "source": [
    "f.read()"
   ]
  },
  {
   "cell_type": "code",
   "execution_count": 87,
   "id": "ece06872",
   "metadata": {},
   "outputs": [
    {
     "data": {
      "text/plain": [
       "14"
      ]
     },
     "execution_count": 87,
     "metadata": {},
     "output_type": "execute_result"
    }
   ],
   "source": [
    "f.write(\"uy6y456y5667ju\")"
   ]
  },
  {
   "cell_type": "code",
   "execution_count": 88,
   "id": "72a33201",
   "metadata": {},
   "outputs": [],
   "source": [
    "f = open(\"text1.txt\")"
   ]
  },
  {
   "cell_type": "code",
   "execution_count": 90,
   "id": "70f09968",
   "metadata": {},
   "outputs": [
    {
     "data": {
      "text/plain": [
       "'uy6y456y5667ju'"
      ]
     },
     "execution_count": 90,
     "metadata": {},
     "output_type": "execute_result"
    }
   ],
   "source": [
    "f.read()"
   ]
  },
  {
   "cell_type": "code",
   "execution_count": 92,
   "id": "dcbfb1a6",
   "metadata": {},
   "outputs": [],
   "source": [
    "f = open(\"text1.txt\",\"w\")"
   ]
  },
  {
   "cell_type": "code",
   "execution_count": 94,
   "id": "105b37b2",
   "metadata": {},
   "outputs": [
    {
     "ename": "TypeError",
     "evalue": "write() argument must be str, not int",
     "output_type": "error",
     "traceback": [
      "\u001b[0;31m---------------------------------------------------------------------------\u001b[0m",
      "\u001b[0;31mTypeError\u001b[0m                                 Traceback (most recent call last)",
      "\u001b[0;32m/var/folders/3q/67zhfv792zl9x8lxwtq3yym80000gp/T/ipykernel_991/2244874686.py\u001b[0m in \u001b[0;36m<module>\u001b[0;34m\u001b[0m\n\u001b[0;32m----> 1\u001b[0;31m \u001b[0mf\u001b[0m\u001b[0;34m.\u001b[0m\u001b[0mwrite\u001b[0m\u001b[0;34m(\u001b[0m\u001b[0;36m1\u001b[0m\u001b[0;34m)\u001b[0m\u001b[0;34m\u001b[0m\u001b[0;34m\u001b[0m\u001b[0m\n\u001b[0m",
      "\u001b[0;31mTypeError\u001b[0m: write() argument must be str, not int"
     ]
    }
   ],
   "source": [
    "f.write(1)"
   ]
  },
  {
   "cell_type": "code",
   "execution_count": 96,
   "id": "97abe335",
   "metadata": {},
   "outputs": [],
   "source": [
    "f = open(\"text1.txt\")"
   ]
  },
  {
   "cell_type": "code",
   "execution_count": 97,
   "id": "efc00618",
   "metadata": {},
   "outputs": [
    {
     "ename": "TypeError",
     "evalue": "TextIOWrapper.write() takes exactly one argument (0 given)",
     "output_type": "error",
     "traceback": [
      "\u001b[0;31m---------------------------------------------------------------------------\u001b[0m",
      "\u001b[0;31mTypeError\u001b[0m                                 Traceback (most recent call last)",
      "\u001b[0;32m/var/folders/3q/67zhfv792zl9x8lxwtq3yym80000gp/T/ipykernel_991/3267976891.py\u001b[0m in \u001b[0;36m<module>\u001b[0;34m\u001b[0m\n\u001b[0;32m----> 1\u001b[0;31m \u001b[0mf\u001b[0m\u001b[0;34m.\u001b[0m\u001b[0mwrite\u001b[0m\u001b[0;34m(\u001b[0m\u001b[0;34m)\u001b[0m\u001b[0;34m\u001b[0m\u001b[0;34m\u001b[0m\u001b[0m\n\u001b[0m",
      "\u001b[0;31mTypeError\u001b[0m: TextIOWrapper.write() takes exactly one argument (0 given)"
     ]
    }
   ],
   "source": [
    "f.write()"
   ]
  },
  {
   "cell_type": "code",
   "execution_count": 98,
   "id": "e148a6a5",
   "metadata": {},
   "outputs": [
    {
     "data": {
      "text/plain": [
       "''"
      ]
     },
     "execution_count": 98,
     "metadata": {},
     "output_type": "execute_result"
    }
   ],
   "source": [
    "f.read()"
   ]
  },
  {
   "cell_type": "code",
   "execution_count": 102,
   "id": "4de537ba",
   "metadata": {},
   "outputs": [
    {
     "data": {
      "text/plain": [
       "0"
      ]
     },
     "execution_count": 102,
     "metadata": {},
     "output_type": "execute_result"
    }
   ],
   "source": [
    "f.seek(0)"
   ]
  },
  {
   "cell_type": "code",
   "execution_count": 103,
   "id": "f2e762f5",
   "metadata": {},
   "outputs": [
    {
     "data": {
      "text/plain": [
       "''"
      ]
     },
     "execution_count": 103,
     "metadata": {},
     "output_type": "execute_result"
    }
   ],
   "source": [
    "f.read()"
   ]
  },
  {
   "cell_type": "code",
   "execution_count": 104,
   "id": "c9d975f2",
   "metadata": {},
   "outputs": [],
   "source": [
    "f = open(\"text1.txt\")"
   ]
  },
  {
   "cell_type": "code",
   "execution_count": 105,
   "id": "86d5ef58",
   "metadata": {},
   "outputs": [
    {
     "data": {
      "text/plain": [
       "5"
      ]
     },
     "execution_count": 105,
     "metadata": {},
     "output_type": "execute_result"
    }
   ],
   "source": [
    "f.seek(5)"
   ]
  },
  {
   "cell_type": "code",
   "execution_count": 107,
   "id": "a67fafbc",
   "metadata": {},
   "outputs": [
    {
     "data": {
      "text/plain": [
       "''"
      ]
     },
     "execution_count": 107,
     "metadata": {},
     "output_type": "execute_result"
    }
   ],
   "source": [
    "f.read()"
   ]
  },
  {
   "cell_type": "code",
   "execution_count": 128,
   "id": "33576437",
   "metadata": {},
   "outputs": [],
   "source": [
    "f = open(\"text1.txt\",\"w\")"
   ]
  },
  {
   "cell_type": "code",
   "execution_count": 137,
   "id": "8f3258b9",
   "metadata": {},
   "outputs": [
    {
     "data": {
      "text/plain": [
       "9"
      ]
     },
     "execution_count": 137,
     "metadata": {},
     "output_type": "execute_result"
    }
   ],
   "source": [
    "f.write(\"123456789\")"
   ]
  },
  {
   "cell_type": "code",
   "execution_count": 110,
   "id": "fcea15b3",
   "metadata": {},
   "outputs": [],
   "source": [
    "f = open(\"text1.txt\")"
   ]
  },
  {
   "cell_type": "code",
   "execution_count": 111,
   "id": "7725d2bb",
   "metadata": {},
   "outputs": [
    {
     "data": {
      "text/plain": [
       "'123456789'"
      ]
     },
     "execution_count": 111,
     "metadata": {},
     "output_type": "execute_result"
    }
   ],
   "source": [
    "f.read()"
   ]
  },
  {
   "cell_type": "code",
   "execution_count": 112,
   "id": "94c5bcc4",
   "metadata": {},
   "outputs": [
    {
     "data": {
      "text/plain": [
       "5"
      ]
     },
     "execution_count": 112,
     "metadata": {},
     "output_type": "execute_result"
    }
   ],
   "source": [
    "f.seek(5)"
   ]
  },
  {
   "cell_type": "code",
   "execution_count": 113,
   "id": "9e5e9587",
   "metadata": {},
   "outputs": [
    {
     "data": {
      "text/plain": [
       "'6789'"
      ]
     },
     "execution_count": 113,
     "metadata": {},
     "output_type": "execute_result"
    }
   ],
   "source": [
    "f.read()"
   ]
  },
  {
   "cell_type": "code",
   "execution_count": 115,
   "id": "1ffc1028",
   "metadata": {},
   "outputs": [
    {
     "data": {
      "text/plain": [
       "9"
      ]
     },
     "execution_count": 115,
     "metadata": {},
     "output_type": "execute_result"
    }
   ],
   "source": [
    "f.tell()"
   ]
  },
  {
   "cell_type": "code",
   "execution_count": 116,
   "id": "79492da5",
   "metadata": {},
   "outputs": [
    {
     "data": {
      "text/plain": [
       "''"
      ]
     },
     "execution_count": 116,
     "metadata": {},
     "output_type": "execute_result"
    }
   ],
   "source": [
    "f.read()"
   ]
  },
  {
   "cell_type": "code",
   "execution_count": 117,
   "id": "a3f44f04",
   "metadata": {},
   "outputs": [
    {
     "data": {
      "text/plain": [
       "4"
      ]
     },
     "execution_count": 117,
     "metadata": {},
     "output_type": "execute_result"
    }
   ],
   "source": [
    "f.seek(4)"
   ]
  },
  {
   "cell_type": "code",
   "execution_count": 118,
   "id": "dba7e613",
   "metadata": {},
   "outputs": [
    {
     "data": {
      "text/plain": [
       "4"
      ]
     },
     "execution_count": 118,
     "metadata": {},
     "output_type": "execute_result"
    }
   ],
   "source": [
    "f.tell()"
   ]
  },
  {
   "cell_type": "code",
   "execution_count": 119,
   "id": "da099c0b",
   "metadata": {},
   "outputs": [
    {
     "data": {
      "text/plain": [
       "'56789'"
      ]
     },
     "execution_count": 119,
     "metadata": {},
     "output_type": "execute_result"
    }
   ],
   "source": [
    "f.read()"
   ]
  },
  {
   "cell_type": "code",
   "execution_count": 147,
   "id": "faf38c3f",
   "metadata": {},
   "outputs": [],
   "source": [
    "f = open(\"text1.txt\", \"r+\")"
   ]
  },
  {
   "cell_type": "code",
   "execution_count": 148,
   "id": "ec05dc7a",
   "metadata": {},
   "outputs": [
    {
     "data": {
      "text/plain": [
       "'123456789. \\ngrbvrtvrttgtbr. \\nt4gtg4gt4gt4gt4gt5rg.\\ntg5gt5rg4tg4.123456789\\nr4frefreferfer\\nRig\\nRtgrtgrtghrth\\nTghtrhgtrhrthtr'"
      ]
     },
     "execution_count": 148,
     "metadata": {},
     "output_type": "execute_result"
    }
   ],
   "source": [
    "f.read()"
   ]
  },
  {
   "cell_type": "code",
   "execution_count": 149,
   "id": "5eef4383",
   "metadata": {},
   "outputs": [
    {
     "data": {
      "text/plain": [
       "''"
      ]
     },
     "execution_count": 149,
     "metadata": {},
     "output_type": "execute_result"
    }
   ],
   "source": [
    "f.readline()"
   ]
  },
  {
   "cell_type": "code",
   "execution_count": 150,
   "id": "916979c3",
   "metadata": {},
   "outputs": [
    {
     "data": {
      "text/plain": [
       "122"
      ]
     },
     "execution_count": 150,
     "metadata": {},
     "output_type": "execute_result"
    }
   ],
   "source": [
    "f.tell()"
   ]
  },
  {
   "cell_type": "code",
   "execution_count": 155,
   "id": "9f8c8608",
   "metadata": {},
   "outputs": [
    {
     "data": {
      "text/plain": [
       "0"
      ]
     },
     "execution_count": 155,
     "metadata": {},
     "output_type": "execute_result"
    }
   ],
   "source": [
    "f.seek(0)"
   ]
  },
  {
   "cell_type": "code",
   "execution_count": 156,
   "id": "505a8ac1",
   "metadata": {},
   "outputs": [
    {
     "data": {
      "text/plain": [
       "'123456789. \\n'"
      ]
     },
     "execution_count": 156,
     "metadata": {},
     "output_type": "execute_result"
    }
   ],
   "source": [
    "f.readline()"
   ]
  },
  {
   "cell_type": "code",
   "execution_count": 157,
   "id": "c2c8a685",
   "metadata": {},
   "outputs": [
    {
     "data": {
      "text/plain": [
       "'grbvrtvrttgtbr. \\n'"
      ]
     },
     "execution_count": 157,
     "metadata": {},
     "output_type": "execute_result"
    }
   ],
   "source": [
    "f.readline()"
   ]
  },
  {
   "cell_type": "code",
   "execution_count": 158,
   "id": "7ddd7edb",
   "metadata": {},
   "outputs": [
    {
     "data": {
      "text/plain": [
       "'t4gtg4gt4gt4gt4gt5rg.\\n'"
      ]
     },
     "execution_count": 158,
     "metadata": {},
     "output_type": "execute_result"
    }
   ],
   "source": [
    "f.readline()"
   ]
  },
  {
   "cell_type": "code",
   "execution_count": 159,
   "id": "9f8c29e0",
   "metadata": {},
   "outputs": [
    {
     "data": {
      "text/plain": [
       "'tg5gt5rg4tg4.123456789\\n'"
      ]
     },
     "execution_count": 159,
     "metadata": {},
     "output_type": "execute_result"
    }
   ],
   "source": [
    "f.readline()"
   ]
  },
  {
   "cell_type": "code",
   "execution_count": 161,
   "id": "6f4e504c",
   "metadata": {},
   "outputs": [],
   "source": [
    "f = open(\"google.txt\",\"w\")"
   ]
  },
  {
   "cell_type": "code",
   "execution_count": 163,
   "id": "5283ddd1",
   "metadata": {},
   "outputs": [
    {
     "data": {
      "text/plain": [
       "1833"
      ]
     },
     "execution_count": 163,
     "metadata": {},
     "output_type": "execute_result"
    }
   ],
   "source": [
    "f.write(\"\"\"Ukraine (Ukrainian: Україна, romanized: Ukraïna, pronounced [ʊkrɐˈjinɐ] (audio speaker iconlisten)) is a country in Eastern Europe. It is the second-largest country by area in Europe after Russia, which it borders to the east and north-east.[a] Ukraine also shares borders with Belarus to the north; Poland, Slovakia, and Hungary to the west; Romania and Moldova to the south; and has a coastline along the Sea of Azov and the Black Sea. It spans an area of 603,628 km2 (233,062 sq mi),[b] with a population of 41.3 million,[c] and is the eighth-most populous country in Europe. The nation's capital and largest city is Kyiv.\n",
    "\n",
    "The territory of modern Ukraine has been inhabited since 32,000 BC. During the Middle Ages, the area was a key centre of East Slavic culture, with the loose tribal federation Kievan Rus' forming the basis of Ukrainian identity. Following its fragmentation into several principalities in the 13th century and the devastation created by the Mongol invasion, the territorial unity collapsed and the area was contested, divided, and ruled by a variety of powers, including the Polish–Lithuanian Commonwealth, Austria-Hungary, the Ottoman Empire, and Tsardom of Russia. A Cossack Hetmanate emerged and prospered during the 17th and 18th centuries, but its territory was eventually split between Poland and the Russian Empire. In the aftermath of the Russian Revolution, a Ukrainian national movement for self-determination emerged, and the internationally recognized Ukrainian People's Republic was declared on 23 June 1917. After World War II, the western part of Ukraine merged into the Ukrainian Soviet Socialist Republic, thus making the whole country (rather than only eastern part of it) a part of the Soviet Union. Ukraine regained its independence in 1991, following the dissolution of the Soviet Union.\"\"\")"
   ]
  },
  {
   "cell_type": "code",
   "execution_count": 164,
   "id": "e7b74124",
   "metadata": {},
   "outputs": [],
   "source": [
    "f.close()"
   ]
  },
  {
   "cell_type": "code",
   "execution_count": 165,
   "id": "4fbfee85",
   "metadata": {},
   "outputs": [],
   "source": [
    "f = open(\"google.txt\")"
   ]
  },
  {
   "cell_type": "code",
   "execution_count": 166,
   "id": "2b2cade4",
   "metadata": {},
   "outputs": [
    {
     "data": {
      "text/plain": [
       "\"Ukraine (Ukrainian: Україна, romanized: Ukraïna, pronounced [ʊkrɐˈjinɐ] (audio speaker iconlisten)) is a country in Eastern Europe. It is the second-largest country by area in Europe after Russia, which it borders to the east and north-east.[a] Ukraine also shares borders with Belarus to the north; Poland, Slovakia, and Hungary to the west; Romania and Moldova to the south; and has a coastline along the Sea of Azov and the Black Sea. It spans an area of 603,628 km2 (233,062 sq mi),[b] with a population of 41.3 million,[c] and is the eighth-most populous country in Europe. The nation's capital and largest city is Kyiv.\\n\\nThe territory of modern Ukraine has been inhabited since 32,000 BC. During the Middle Ages, the area was a key centre of East Slavic culture, with the loose tribal federation Kievan Rus' forming the basis of Ukrainian identity. Following its fragmentation into several principalities in the 13th century and the devastation created by the Mongol invasion, the territorial unity collapsed and the area was contested, divided, and ruled by a variety of powers, including the Polish–Lithuanian Commonwealth, Austria-Hungary, the Ottoman Empire, and Tsardom of Russia. A Cossack Hetmanate emerged and prospered during the 17th and 18th centuries, but its territory was eventually split between Poland and the Russian Empire. In the aftermath of the Russian Revolution, a Ukrainian national movement for self-determination emerged, and the internationally recognized Ukrainian People's Republic was declared on 23 June 1917. After World War II, the western part of Ukraine merged into the Ukrainian Soviet Socialist Republic, thus making the whole country (rather than only eastern part of it) a part of the Soviet Union. Ukraine regained its independence in 1991, following the dissolution of the Soviet Union.\""
      ]
     },
     "execution_count": 166,
     "metadata": {},
     "output_type": "execute_result"
    }
   ],
   "source": [
    "f.read()"
   ]
  },
  {
   "cell_type": "code",
   "execution_count": 167,
   "id": "c645a784",
   "metadata": {},
   "outputs": [],
   "source": [
    "f = open(\"google.txt\", \"r+\")"
   ]
  },
  {
   "cell_type": "code",
   "execution_count": 168,
   "id": "8cd5cdc5",
   "metadata": {},
   "outputs": [
    {
     "data": {
      "text/plain": [
       "\"Ukraine (Ukrainian: Україна, romanized: Ukraïna, pronounced [ʊkrɐˈjinɐ] (audio speaker iconlisten)) is a country in Eastern Europe. It is the second-largest country by area in Europe after Russia, which it borders to the east and north-east.[a] Ukraine also shares borders with Belarus to the north; Poland, Slovakia, and Hungary to the west; Romania and Moldova to the south; and has a coastline along the Sea of Azov and the Black Sea. It spans an area of 603,628 km2 (233,062 sq mi),[b] with a population of 41.3 million,[c] and is the eighth-most populous country in Europe. The nation's capital and largest city is Kyiv.\\n\""
      ]
     },
     "execution_count": 168,
     "metadata": {},
     "output_type": "execute_result"
    }
   ],
   "source": [
    "f.readline()"
   ]
  },
  {
   "cell_type": "code",
   "execution_count": 178,
   "id": "b29882cf",
   "metadata": {},
   "outputs": [
    {
     "name": "stdout",
     "output_type": "stream",
     "text": [
      "Ukraine (Ukrainian: Україна, romanized: Ukraïna, pronounced [ʊkrɐˈjinɐ] (audio speaker iconlisten)) is a country in Eastern Europe. It is the second-largest country by area in Europe after Russia, which it borders to the east and north-east.[a] Ukraine also shares borders with Belarus to the north; Poland, Slovakia, and Hungary to the west; Romania and Moldova to the south; and has a coastline along the Sea of Azov and the Black Sea. It spans an area of 603,628 km2 (233,062 sq mi),[b] with a population of 41.3 million,[c] and is the eighth-most populous country in Europe. The nation's capital and largest city is Kyiv.\n",
      "\n",
      "\n",
      "\n",
      "\n",
      "\n",
      "The territory of modern Ukraine has been inhabited since 32,000 BC. During the Middle Ages, the area was a key centre of East Slavic culture, with the loose tribal federation Kievan Rus' forming the basis of Ukrainian identity. Following its fragmentation into several principalities in the 13th century and the devastation created by the Mongol invasion, the territorial unity collapsed and the area was contested, divided, and ruled by a variety of powers, including the Polish–Lithuanian Commonwealth, Austria-Hungary, the Ottoman Empire, and Tsardom of Russia. A Cossack Hetmanate emerged and prospered during the 17th and 18th centuries, but its territory was eventually split between Poland and the Russian Empire. In the aftermath of the Russian Revolution, a Ukrainian national movement for self-determination emerged, and the internationally recognized Ukrainian People's Republic was declared on 23 June 1917. After World War II, the western part of Ukraine merged into the Ukrainian Soviet Socialist Republic, thus making the whole country (rather than only eastern part of it) a part of the Soviet Union. Ukraine regained its independence in 1991, following the dissolution of the Soviet Union.\n",
      "\n"
     ]
    }
   ],
   "source": [
    "f = open(\"google.txt\", \"r+\")\n",
    "for line in f:\n",
    "    print(line, end=\"\")\n",
    "    print(\"\\n\")"
   ]
  },
  {
   "cell_type": "code",
   "execution_count": 179,
   "id": "1d7f4de2",
   "metadata": {},
   "outputs": [
    {
     "data": {
      "text/plain": [
       "1206"
      ]
     },
     "execution_count": 179,
     "metadata": {},
     "output_type": "execute_result"
    }
   ],
   "source": [
    "f.write(\"The territory of modern Ukraine has been inhabited since 32,000 BC. During the Middle Ages, the area was a key centre of East Slavic culture, with the loose tribal federation Kievan Rus' forming the basis of Ukrainian identity. Following its fragmentation into several principalities in the 13th century and the devastation created by the Mongol invasion, the territorial unity collapsed and the area was contested, divided, and ruled by a variety of powers, including the Polish–Lithuanian Commonwealth, Austria-Hungary, the Ottoman Empire, and Tsardom of Russia. A Cossack Hetmanate emerged and prospered during the 17th and 18th centuries, but its territory was eventually split between Poland and the Russian Empire. In the aftermath of the Russian Revolution, a Ukrainian national movement for self-determination emerged, and the internationally recognized Ukrainian People's Republic was declared on 23 June 1917. After World War II, the western part of Ukraine merged into the Ukrainian Soviet Socialist Republic, thus making the whole country (rather than only eastern part of it) a part of the Soviet Union. Ukraine regained its independence in 1991, following the dissolution of the Soviet Union.\")"
   ]
  },
  {
   "cell_type": "code",
   "execution_count": 180,
   "id": "0d69d4f5",
   "metadata": {},
   "outputs": [],
   "source": [
    "f.close()"
   ]
  },
  {
   "cell_type": "code",
   "execution_count": 185,
   "id": "3b8b4ae7",
   "metadata": {},
   "outputs": [],
   "source": [
    "f = open(\"google.txt\", \"r+\")"
   ]
  },
  {
   "cell_type": "code",
   "execution_count": 186,
   "id": "79d26ba0",
   "metadata": {},
   "outputs": [
    {
     "name": "stdout",
     "output_type": "stream",
     "text": [
      "Ukraine (Ukrainian: Україна, romanized: Ukraïna, pronounced [ʊkrɐˈjinɐ] (audio speaker iconlisten)) is a country in Eastern Europe. It is the second-largest country by area in Europe after Russia, which it borders to the east and north-east.[a] Ukraine also shares borders with Belarus to the north; Poland, Slovakia, and Hungary to the west; Romania and Moldova to the south; and has a coastline along the Sea of Azov and the Black Sea. It spans an area of 603,628 km2 (233,062 sq mi),[b] with a population of 41.3 million,[c] and is the eighth-most populous country in Europe. The nation's capital and largest city is Kyiv.\n",
      "\n",
      "\n",
      "\n",
      "\n",
      "\n",
      "The territory of modern Ukraine has been inhabited since 32,000 BC. During the Middle Ages, the area was a key centre of East Slavic culture, with the loose tribal federation Kievan Rus' forming the basis of Ukrainian identity. Following its fragmentation into several principalities in the 13th century and the devastation created by the Mongol invasion, the territorial unity collapsed and the area was contested, divided, and ruled by a variety of powers, including the Polish–Lithuanian Commonwealth, Austria-Hungary, the Ottoman Empire, and Tsardom of Russia. A Cossack Hetmanate emerged and prospered during the 17th and 18th centuries, but its territory was eventually split between Poland and the Russian Empire. In the aftermath of the Russian Revolution, a Ukrainian national movement for self-determination emerged, and the internationally recognized Ukrainian People's Republic was declared on 23 June 1917. After World War II, the western part of Ukraine merged into the Ukrainian Soviet Socialist Republic, thus making the whole country (rather than only eastern part of it) a part of the Soviet Union. Ukraine regained its independence in 1991, following the dissolution of the Soviet Union.The territory of modern Ukraine has been inhabited since 32,000 BC. During the Middle Ages, the area was a key centre of East Slavic culture, with the loose tribal federation Kievan Rus' forming the basis of Ukrainian identity. Following its fragmentation into several principalities in the 13th century and the devastation created by the Mongol invasion, the territorial unity collapsed and the area was contested, divided, and ruled by a variety of powers, including the Polish–Lithuanian Commonwealth, Austria-Hungary, the Ottoman Empire, and Tsardom of Russia. A Cossack Hetmanate emerged and prospered during the 17th and 18th centuries, but its territory was eventually split between Poland and the Russian Empire. In the aftermath of the Russian Revolution, a Ukrainian national movement for self-determination emerged, and the internationally recognized Ukrainian People's Republic was declared on 23 June 1917. After World War II, the western part of Ukraine merged into the Ukrainian Soviet Socialist Republic, thus making the whole country (rather than only eastern part of it) a part of the Soviet Union. Ukraine regained its independence in 1991, following the dissolution of the Soviet Union.\n",
      "\n"
     ]
    }
   ],
   "source": [
    "for line in f:\n",
    "    print(line, end=\"\")\n",
    "    print(\"\\n\")"
   ]
  },
  {
   "cell_type": "code",
   "execution_count": 187,
   "id": "c555b291",
   "metadata": {},
   "outputs": [],
   "source": [
    "f = open(\"google.txt\", \"r+\")"
   ]
  },
  {
   "cell_type": "code",
   "execution_count": 188,
   "id": "af9e0575",
   "metadata": {},
   "outputs": [
    {
     "data": {
      "text/plain": [
       "0"
      ]
     },
     "execution_count": 188,
     "metadata": {},
     "output_type": "execute_result"
    }
   ],
   "source": [
    "f.seek(0)"
   ]
  },
  {
   "cell_type": "code",
   "execution_count": 190,
   "id": "bc21a217",
   "metadata": {},
   "outputs": [
    {
     "data": {
      "text/plain": [
       "476"
      ]
     },
     "execution_count": 190,
     "metadata": {},
     "output_type": "execute_result"
    }
   ],
   "source": [
    "f.write(\"Modern human settlement in Ukraine and its vicinity dates back to 32,000 BC, with evidence of the Gravettian culture in the Crimean Mountains.[30][31] By 4,500 BC, the Neolithic Cucuteni–Trypillia culture flourished in wide areas of modern Ukraine including Trypillia and the entire Dnieper-Dniester region. During the Iron Age, the land was inhabited by Cimmerians, Scythians, and Sarmatians.[32] Between 700 BC and 200 BC it was part of the Scythian Kingdom, or Scythia.[33]\")"
   ]
  },
  {
   "cell_type": "code",
   "execution_count": 191,
   "id": "ccd00751",
   "metadata": {},
   "outputs": [
    {
     "data": {
      "text/plain": [
       "0"
      ]
     },
     "execution_count": 191,
     "metadata": {},
     "output_type": "execute_result"
    }
   ],
   "source": [
    "f.seek(0)"
   ]
  },
  {
   "cell_type": "code",
   "execution_count": 192,
   "id": "01089a84",
   "metadata": {},
   "outputs": [
    {
     "data": {
      "text/plain": [
       "\"Modern human settlement in Ukraine and its vicinity dates back to 32,000 BC, with evidence of the Gravettian culture in the Crimean Mountains.[30][31] By 4,500 BC, the Neolithic Cucuteni–Trypillia culture flourished in wide areas of modern Ukraine including Trypillia and the entire Dnieper-Dniester region. During the Iron Age, the land was inhabited by Cimmerians, Scythians, and Sarmatians.[32] Between 700 BC and 200 BC it was part of the Scythian Kingdom, or Scythia.[33]km2 (233,062 sq mi),[b] with a population of 41.3 million,[c] and is the eighth-most populous country in Europe. The nation's capital and largest city is Kyiv.\\n\\nThe territory of modern Ukraine has been inhabited since 32,000 BC. During the Middle Ages, the area was a key centre of East Slavic culture, with the loose tribal federation Kievan Rus' forming the basis of Ukrainian identity. Following its fragmentation into several principalities in the 13th century and the devastation created by the Mongol invasion, the territorial unity collapsed and the area was contested, divided, and ruled by a variety of powers, including the Polish–Lithuanian Commonwealth, Austria-Hungary, the Ottoman Empire, and Tsardom of Russia. A Cossack Hetmanate emerged and prospered during the 17th and 18th centuries, but its territory was eventually split between Poland and the Russian Empire. In the aftermath of the Russian Revolution, a Ukrainian national movement for self-determination emerged, and the internationally recognized Ukrainian People's Republic was declared on 23 June 1917. After World War II, the western part of Ukraine merged into the Ukrainian Soviet Socialist Republic, thus making the whole country (rather than only eastern part of it) a part of the Soviet Union. Ukraine regained its independence in 1991, following the dissolution of the Soviet Union.The territory of modern Ukraine has been inhabited since 32,000 BC. During the Middle Ages, the area was a key centre of East Slavic culture, with the loose tribal federation Kievan Rus' forming the basis of Ukrainian identity. Following its fragmentation into several principalities in the 13th century and the devastation created by the Mongol invasion, the territorial unity collapsed and the area was contested, divided, and ruled by a variety of powers, including the Polish–Lithuanian Commonwealth, Austria-Hungary, the Ottoman Empire, and Tsardom of Russia. A Cossack Hetmanate emerged and prospered during the 17th and 18th centuries, but its territory was eventually split between Poland and the Russian Empire. In the aftermath of the Russian Revolution, a Ukrainian national movement for self-determination emerged, and the internationally recognized Ukrainian People's Republic was declared on 23 June 1917. After World War II, the western part of Ukraine merged into the Ukrainian Soviet Socialist Republic, thus making the whole country (rather than only eastern part of it) a part of the Soviet Union. Ukraine regained its independence in 1991, following the dissolution of the Soviet Union.\""
      ]
     },
     "execution_count": 192,
     "metadata": {},
     "output_type": "execute_result"
    }
   ],
   "source": [
    "f.read()"
   ]
  },
  {
   "cell_type": "code",
   "execution_count": 194,
   "id": "8d4347d8",
   "metadata": {},
   "outputs": [],
   "source": [
    "f.close()"
   ]
  },
  {
   "cell_type": "code",
   "execution_count": 196,
   "id": "af47a614",
   "metadata": {},
   "outputs": [
    {
     "data": {
      "text/plain": [
       "[\"Modern human settlement in Ukraine and its vicinity dates back to 32,000 BC, with evidence of the Gravettian culture in the Crimean Mountains.[30][31] By 4,500 BC, the Neolithic Cucuteni–Trypillia culture flourished in wide areas of modern Ukraine including Trypillia and the entire Dnieper-Dniester region. During the Iron Age, the land was inhabited by Cimmerians, Scythians, and Sarmatians.[32] Between 700 BC and 200 BC it was part of the Scythian Kingdom, or Scythia.[33]km2 (233,062 sq mi),[b] with a population of 41.3 million,[c] and is the eighth-most populous country in Europe. The nation's capital and largest city is Kyiv.\\n\",\n",
       " '\\n',\n",
       " \"The territory of modern Ukraine has been inhabited since 32,000 BC. During the Middle Ages, the area was a key centre of East Slavic culture, with the loose tribal federation Kievan Rus' forming the basis of Ukrainian identity. Following its fragmentation into several principalities in the 13th century and the devastation created by the Mongol invasion, the territorial unity collapsed and the area was contested, divided, and ruled by a variety of powers, including the Polish–Lithuanian Commonwealth, Austria-Hungary, the Ottoman Empire, and Tsardom of Russia. A Cossack Hetmanate emerged and prospered during the 17th and 18th centuries, but its territory was eventually split between Poland and the Russian Empire. In the aftermath of the Russian Revolution, a Ukrainian national movement for self-determination emerged, and the internationally recognized Ukrainian People's Republic was declared on 23 June 1917. After World War II, the western part of Ukraine merged into the Ukrainian Soviet Socialist Republic, thus making the whole country (rather than only eastern part of it) a part of the Soviet Union. Ukraine regained its independence in 1991, following the dissolution of the Soviet Union.The territory of modern Ukraine has been inhabited since 32,000 BC. During the Middle Ages, the area was a key centre of East Slavic culture, with the loose tribal federation Kievan Rus' forming the basis of Ukrainian identity. Following its fragmentation into several principalities in the 13th century and the devastation created by the Mongol invasion, the territorial unity collapsed and the area was contested, divided, and ruled by a variety of powers, including the Polish–Lithuanian Commonwealth, Austria-Hungary, the Ottoman Empire, and Tsardom of Russia. A Cossack Hetmanate emerged and prospered during the 17th and 18th centuries, but its territory was eventually split between Poland and the Russian Empire. In the aftermath of the Russian Revolution, a Ukrainian national movement for self-determination emerged, and the internationally recognized Ukrainian People's Republic was declared on 23 June 1917. After World War II, the western part of Ukraine merged into the Ukrainian Soviet Socialist Republic, thus making the whole country (rather than only eastern part of it) a part of the Soviet Union. Ukraine regained its independence in 1991, following the dissolution of the Soviet Union.\"]"
      ]
     },
     "execution_count": 196,
     "metadata": {},
     "output_type": "execute_result"
    }
   ],
   "source": [
    "f = open(\"google.txt\", \"r+\")\n",
    "f.readlines()"
   ]
  },
  {
   "cell_type": "code",
   "execution_count": 198,
   "id": "addc12d9",
   "metadata": {},
   "outputs": [
    {
     "data": {
      "text/plain": [
       "0"
      ]
     },
     "execution_count": 198,
     "metadata": {},
     "output_type": "execute_result"
    }
   ],
   "source": [
    "f.seek(0)"
   ]
  },
  {
   "cell_type": "code",
   "execution_count": 199,
   "id": "363105e1",
   "metadata": {},
   "outputs": [
    {
     "data": {
      "text/plain": [
       "3"
      ]
     },
     "execution_count": 199,
     "metadata": {},
     "output_type": "execute_result"
    }
   ],
   "source": [
    "len(f.readlines())"
   ]
  },
  {
   "cell_type": "code",
   "execution_count": 210,
   "id": "65dcea43",
   "metadata": {},
   "outputs": [
    {
     "data": {
      "text/plain": [
       "0"
      ]
     },
     "execution_count": 210,
     "metadata": {},
     "output_type": "execute_result"
    }
   ],
   "source": [
    "f.seek(0)"
   ]
  },
  {
   "cell_type": "code",
   "execution_count": 211,
   "id": "b860a676",
   "metadata": {},
   "outputs": [],
   "source": [
    "l = f.readlines()"
   ]
  },
  {
   "cell_type": "code",
   "execution_count": 212,
   "id": "01f57877",
   "metadata": {},
   "outputs": [
    {
     "data": {
      "text/plain": [
       "[\"Modern human settlement in Ukraine and its vicinity dates back to 32,000 BC, with evidence of the Gravettian culture in the Crimean Mountains.[30][31] By 4,500 BC, the Neolithic Cucuteni–Trypillia culture flourished in wide areas of modern Ukraine including Trypillia and the entire Dnieper-Dniester region. During the Iron Age, the land was inhabited by Cimmerians, Scythians, and Sarmatians.[32] Between 700 BC and 200 BC it was part of the Scythian Kingdom, or Scythia.[33]km2 (233,062 sq mi),[b] with a population of 41.3 million,[c] and is the eighth-most populous country in Europe. The nation's capital and largest city is Kyiv.\\n\",\n",
       " '\\n',\n",
       " \"The territory of modern Ukraine has been inhabited since 32,000 BC. During the Middle Ages, the area was a key centre of East Slavic culture, with the loose tribal federation Kievan Rus' forming the basis of Ukrainian identity. Following its fragmentation into several principalities in the 13th century and the devastation created by the Mongol invasion, the territorial unity collapsed and the area was contested, divided, and ruled by a variety of powers, including the Polish–Lithuanian Commonwealth, Austria-Hungary, the Ottoman Empire, and Tsardom of Russia. A Cossack Hetmanate emerged and prospered during the 17th and 18th centuries, but its territory was eventually split between Poland and the Russian Empire. In the aftermath of the Russian Revolution, a Ukrainian national movement for self-determination emerged, and the internationally recognized Ukrainian People's Republic was declared on 23 June 1917. After World War II, the western part of Ukraine merged into the Ukrainian Soviet Socialist Republic, thus making the whole country (rather than only eastern part of it) a part of the Soviet Union. Ukraine regained its independence in 1991, following the dissolution of the Soviet Union.The territory of modern Ukraine has been inhabited since 32,000 BC. During the Middle Ages, the area was a key centre of East Slavic culture, with the loose tribal federation Kievan Rus' forming the basis of Ukrainian identity. Following its fragmentation into several principalities in the 13th century and the devastation created by the Mongol invasion, the territorial unity collapsed and the area was contested, divided, and ruled by a variety of powers, including the Polish–Lithuanian Commonwealth, Austria-Hungary, the Ottoman Empire, and Tsardom of Russia. A Cossack Hetmanate emerged and prospered during the 17th and 18th centuries, but its territory was eventually split between Poland and the Russian Empire. In the aftermath of the Russian Revolution, a Ukrainian national movement for self-determination emerged, and the internationally recognized Ukrainian People's Republic was declared on 23 June 1917. After World War II, the western part of Ukraine merged into the Ukrainian Soviet Socialist Republic, thus making the whole country (rather than only eastern part of it) a part of the Soviet Union. Ukraine regained its independence in 1991, following the dissolution of the Soviet Union.\"]"
      ]
     },
     "execution_count": 212,
     "metadata": {},
     "output_type": "execute_result"
    }
   ],
   "source": [
    "l"
   ]
  },
  {
   "cell_type": "code",
   "execution_count": 213,
   "id": "0f4f81b8",
   "metadata": {},
   "outputs": [
    {
     "data": {
      "text/plain": [
       "\"Modern human settlement in Ukraine and its vicinity dates back to 32,000 BC, with evidence of the Gravettian culture in the Crimean Mountains.[30][31] By 4,500 BC, the Neolithic Cucuteni–Trypillia culture flourished in wide areas of modern Ukraine including Trypillia and the entire Dnieper-Dniester region. During the Iron Age, the land was inhabited by Cimmerians, Scythians, and Sarmatians.[32] Between 700 BC and 200 BC it was part of the Scythian Kingdom, or Scythia.[33]km2 (233,062 sq mi),[b] with a population of 41.3 million,[c] and is the eighth-most populous country in Europe. The nation's capital and largest city is Kyiv.\\n\""
      ]
     },
     "execution_count": 213,
     "metadata": {},
     "output_type": "execute_result"
    }
   ],
   "source": [
    "l[0]"
   ]
  },
  {
   "cell_type": "code",
   "execution_count": 214,
   "id": "f6cc874e",
   "metadata": {},
   "outputs": [
    {
     "data": {
      "text/plain": [
       "['Modern',\n",
       " 'human',\n",
       " 'settlement',\n",
       " 'in',\n",
       " 'Ukraine',\n",
       " 'and',\n",
       " 'its',\n",
       " 'vicinity',\n",
       " 'dates',\n",
       " 'back',\n",
       " 'to',\n",
       " '32,000',\n",
       " 'BC,',\n",
       " 'with',\n",
       " 'evidence',\n",
       " 'of',\n",
       " 'the',\n",
       " 'Gravettian',\n",
       " 'culture',\n",
       " 'in',\n",
       " 'the',\n",
       " 'Crimean',\n",
       " 'Mountains.[30][31]',\n",
       " 'By',\n",
       " '4,500',\n",
       " 'BC,',\n",
       " 'the',\n",
       " 'Neolithic',\n",
       " 'Cucuteni–Trypillia',\n",
       " 'culture',\n",
       " 'flourished',\n",
       " 'in',\n",
       " 'wide',\n",
       " 'areas',\n",
       " 'of',\n",
       " 'modern',\n",
       " 'Ukraine',\n",
       " 'including',\n",
       " 'Trypillia',\n",
       " 'and',\n",
       " 'the',\n",
       " 'entire',\n",
       " 'Dnieper-Dniester',\n",
       " 'region.',\n",
       " 'During',\n",
       " 'the',\n",
       " 'Iron',\n",
       " 'Age,',\n",
       " 'the',\n",
       " 'land',\n",
       " 'was',\n",
       " 'inhabited',\n",
       " 'by',\n",
       " 'Cimmerians,',\n",
       " 'Scythians,',\n",
       " 'and',\n",
       " 'Sarmatians.[32]',\n",
       " 'Between',\n",
       " '700',\n",
       " 'BC',\n",
       " 'and',\n",
       " '200',\n",
       " 'BC',\n",
       " 'it',\n",
       " 'was',\n",
       " 'part',\n",
       " 'of',\n",
       " 'the',\n",
       " 'Scythian',\n",
       " 'Kingdom,',\n",
       " 'or',\n",
       " 'Scythia.[33]km2',\n",
       " '(233,062',\n",
       " 'sq',\n",
       " 'mi),[b]',\n",
       " 'with',\n",
       " 'a',\n",
       " 'population',\n",
       " 'of',\n",
       " '41.3',\n",
       " 'million,[c]',\n",
       " 'and',\n",
       " 'is',\n",
       " 'the',\n",
       " 'eighth-most',\n",
       " 'populous',\n",
       " 'country',\n",
       " 'in',\n",
       " 'Europe.',\n",
       " 'The',\n",
       " \"nation's\",\n",
       " 'capital',\n",
       " 'and',\n",
       " 'largest',\n",
       " 'city',\n",
       " 'is',\n",
       " 'Kyiv.']"
      ]
     },
     "execution_count": 214,
     "metadata": {},
     "output_type": "execute_result"
    }
   ],
   "source": [
    "l[0].split()"
   ]
  },
  {
   "cell_type": "code",
   "execution_count": 218,
   "id": "f7f19617",
   "metadata": {},
   "outputs": [],
   "source": [
    "l1 = []\n",
    "for i in l[0].split():\n",
    "    l1.append(i[0])"
   ]
  },
  {
   "cell_type": "code",
   "execution_count": 219,
   "id": "35253084",
   "metadata": {},
   "outputs": [
    {
     "data": {
      "text/plain": [
       "['M',\n",
       " 'h',\n",
       " 's',\n",
       " 'i',\n",
       " 'U',\n",
       " 'a',\n",
       " 'i',\n",
       " 'v',\n",
       " 'd',\n",
       " 'b',\n",
       " 't',\n",
       " '3',\n",
       " 'B',\n",
       " 'w',\n",
       " 'e',\n",
       " 'o',\n",
       " 't',\n",
       " 'G',\n",
       " 'c',\n",
       " 'i',\n",
       " 't',\n",
       " 'C',\n",
       " 'M',\n",
       " 'B',\n",
       " '4',\n",
       " 'B',\n",
       " 't',\n",
       " 'N',\n",
       " 'C',\n",
       " 'c',\n",
       " 'f',\n",
       " 'i',\n",
       " 'w',\n",
       " 'a',\n",
       " 'o',\n",
       " 'm',\n",
       " 'U',\n",
       " 'i',\n",
       " 'T',\n",
       " 'a',\n",
       " 't',\n",
       " 'e',\n",
       " 'D',\n",
       " 'r',\n",
       " 'D',\n",
       " 't',\n",
       " 'I',\n",
       " 'A',\n",
       " 't',\n",
       " 'l',\n",
       " 'w',\n",
       " 'i',\n",
       " 'b',\n",
       " 'C',\n",
       " 'S',\n",
       " 'a',\n",
       " 'S',\n",
       " 'B',\n",
       " '7',\n",
       " 'B',\n",
       " 'a',\n",
       " '2',\n",
       " 'B',\n",
       " 'i',\n",
       " 'w',\n",
       " 'p',\n",
       " 'o',\n",
       " 't',\n",
       " 'S',\n",
       " 'K',\n",
       " 'o',\n",
       " 'S',\n",
       " '(',\n",
       " 's',\n",
       " 'm',\n",
       " 'w',\n",
       " 'a',\n",
       " 'p',\n",
       " 'o',\n",
       " '4',\n",
       " 'm',\n",
       " 'a',\n",
       " 'i',\n",
       " 't',\n",
       " 'e',\n",
       " 'p',\n",
       " 'c',\n",
       " 'i',\n",
       " 'E',\n",
       " 'T',\n",
       " 'n',\n",
       " 'c',\n",
       " 'a',\n",
       " 'l',\n",
       " 'c',\n",
       " 'i',\n",
       " 'K']"
      ]
     },
     "execution_count": 219,
     "metadata": {},
     "output_type": "execute_result"
    }
   ],
   "source": [
    "l1"
   ]
  },
  {
   "cell_type": "code",
   "execution_count": 1,
   "id": "f4817fc5",
   "metadata": {},
   "outputs": [],
   "source": [
    "f = open(\"google.txt\",\"r+\")"
   ]
  },
  {
   "cell_type": "code",
   "execution_count": 3,
   "id": "0a956ea1",
   "metadata": {},
   "outputs": [
    {
     "data": {
      "text/plain": [
       "'google.txt'"
      ]
     },
     "execution_count": 3,
     "metadata": {},
     "output_type": "execute_result"
    }
   ],
   "source": [
    "f.name"
   ]
  },
  {
   "cell_type": "code",
   "execution_count": 4,
   "id": "c71f9ce1",
   "metadata": {},
   "outputs": [],
   "source": [
    "l = [\"line1\", \"line2\", \"line3\", \"line4\"]"
   ]
  },
  {
   "cell_type": "code",
   "execution_count": 5,
   "id": "5a64d5d0",
   "metadata": {},
   "outputs": [
    {
     "data": {
      "text/plain": [
       "\"Modern human settlement in Ukraine and its vicinity dates back to 32,000 BC, with evidence of the Gravettian culture in the Crimean Mountains.[30][31] By 4,500 BC, the Neolithic Cucuteni–Trypillia culture flourished in wide areas of modern Ukraine including Trypillia and the entire Dnieper-Dniester region. During the Iron Age, the land was inhabited by Cimmerians, Scythians, and Sarmatians.[32] Between 700 BC and 200 BC it was part of the Scythian Kingdom, or Scythia.[33]km2 (233,062 sq mi),[b] with a population of 41.3 million,[c] and is the eighth-most populous country in Europe. The nation's capital and largest city is Kyiv.\\n\\nThe territory of modern Ukraine has been inhabited since 32,000 BC. During the Middle Ages, the area was a key centre of East Slavic culture, with the loose tribal federation Kievan Rus' forming the basis of Ukrainian identity. Following its fragmentation into several principalities in the 13th century and the devastation created by the Mongol invasion, the territorial unity collapsed and the area was contested, divided, and ruled by a variety of powers, including the Polish–Lithuanian Commonwealth, Austria-Hungary, the Ottoman Empire, and Tsardom of Russia. A Cossack Hetmanate emerged and prospered during the 17th and 18th centuries, but its territory was eventually split between Poland and the Russian Empire. In the aftermath of the Russian Revolution, a Ukrainian national movement for self-determination emerged, and the internationally recognized Ukrainian People's Republic was declared on 23 June 1917. After World War II, the western part of Ukraine merged into the Ukrainian Soviet Socialist Republic, thus making the whole country (rather than only eastern part of it) a part of the Soviet Union. Ukraine regained its independence in 1991, following the dissolution of the Soviet Union.The territory of modern Ukraine has been inhabited since 32,000 BC. During the Middle Ages, the area was a key centre of East Slavic culture, with the loose tribal federation Kievan Rus' forming the basis of Ukrainian identity. Following its fragmentation into several principalities in the 13th century and the devastation created by the Mongol invasion, the territorial unity collapsed and the area was contested, divided, and ruled by a variety of powers, including the Polish–Lithuanian Commonwealth, Austria-Hungary, the Ottoman Empire, and Tsardom of Russia. A Cossack Hetmanate emerged and prospered during the 17th and 18th centuries, but its territory was eventually split between Poland and the Russian Empire. In the aftermath of the Russian Revolution, a Ukrainian national movement for self-determination emerged, and the internationally recognized Ukrainian People's Republic was declared on 23 June 1917. After World War II, the western part of Ukraine merged into the Ukrainian Soviet Socialist Republic, thus making the whole country (rather than only eastern part of it) a part of the Soviet Union. Ukraine regained its independence in 1991, following the dissolution of the Soviet Union.\""
      ]
     },
     "execution_count": 5,
     "metadata": {},
     "output_type": "execute_result"
    }
   ],
   "source": [
    "f.read()"
   ]
  },
  {
   "cell_type": "code",
   "execution_count": 6,
   "id": "025ab7b8",
   "metadata": {},
   "outputs": [],
   "source": [
    "f.writelines(l)"
   ]
  },
  {
   "cell_type": "code",
   "execution_count": 7,
   "id": "18e83973",
   "metadata": {},
   "outputs": [],
   "source": [
    "f.close()"
   ]
  },
  {
   "cell_type": "code",
   "execution_count": 8,
   "id": "870ec1cd",
   "metadata": {},
   "outputs": [],
   "source": [
    "f = open(\"google.txt\",\"r+\")"
   ]
  },
  {
   "cell_type": "code",
   "execution_count": 9,
   "id": "8e50f6ba",
   "metadata": {},
   "outputs": [
    {
     "data": {
      "text/plain": [
       "\"Modern human settlement in Ukraine and its vicinity dates back to 32,000 BC, with evidence of the Gravettian culture in the Crimean Mountains.[30][31] By 4,500 BC, the Neolithic Cucuteni–Trypillia culture flourished in wide areas of modern Ukraine including Trypillia and the entire Dnieper-Dniester region. During the Iron Age, the land was inhabited by Cimmerians, Scythians, and Sarmatians.[32] Between 700 BC and 200 BC it was part of the Scythian Kingdom, or Scythia.[33]km2 (233,062 sq mi),[b] with a population of 41.3 million,[c] and is the eighth-most populous country in Europe. The nation's capital and largest city is Kyiv.\\n\\nThe territory of modern Ukraine has been inhabited since 32,000 BC. During the Middle Ages, the area was a key centre of East Slavic culture, with the loose tribal federation Kievan Rus' forming the basis of Ukrainian identity. Following its fragmentation into several principalities in the 13th century and the devastation created by the Mongol invasion, the territorial unity collapsed and the area was contested, divided, and ruled by a variety of powers, including the Polish–Lithuanian Commonwealth, Austria-Hungary, the Ottoman Empire, and Tsardom of Russia. A Cossack Hetmanate emerged and prospered during the 17th and 18th centuries, but its territory was eventually split between Poland and the Russian Empire. In the aftermath of the Russian Revolution, a Ukrainian national movement for self-determination emerged, and the internationally recognized Ukrainian People's Republic was declared on 23 June 1917. After World War II, the western part of Ukraine merged into the Ukrainian Soviet Socialist Republic, thus making the whole country (rather than only eastern part of it) a part of the Soviet Union. Ukraine regained its independence in 1991, following the dissolution of the Soviet Union.The territory of modern Ukraine has been inhabited since 32,000 BC. During the Middle Ages, the area was a key centre of East Slavic culture, with the loose tribal federation Kievan Rus' forming the basis of Ukrainian identity. Following its fragmentation into several principalities in the 13th century and the devastation created by the Mongol invasion, the territorial unity collapsed and the area was contested, divided, and ruled by a variety of powers, including the Polish–Lithuanian Commonwealth, Austria-Hungary, the Ottoman Empire, and Tsardom of Russia. A Cossack Hetmanate emerged and prospered during the 17th and 18th centuries, but its territory was eventually split between Poland and the Russian Empire. In the aftermath of the Russian Revolution, a Ukrainian national movement for self-determination emerged, and the internationally recognized Ukrainian People's Republic was declared on 23 June 1917. After World War II, the western part of Ukraine merged into the Ukrainian Soviet Socialist Republic, thus making the whole country (rather than only eastern part of it) a part of the Soviet Union. Ukraine regained its independence in 1991, following the dissolution of the Soviet Union.line1line2line3line4\""
      ]
     },
     "execution_count": 9,
     "metadata": {},
     "output_type": "execute_result"
    }
   ],
   "source": [
    "f.read()"
   ]
  },
  {
   "cell_type": "code",
   "execution_count": 10,
   "id": "62ed4218",
   "metadata": {},
   "outputs": [
    {
     "data": {
      "text/plain": [
       "73"
      ]
     },
     "execution_count": 10,
     "metadata": {},
     "output_type": "execute_result"
    }
   ],
   "source": [
    "f.fileno()"
   ]
  },
  {
   "cell_type": "code",
   "execution_count": 11,
   "id": "48908c6e",
   "metadata": {},
   "outputs": [
    {
     "name": "stdout",
     "output_type": "stream",
     "text": [
      "12700116000imagebib_no6010-clipped.png\r\n",
      "12700116000imagebib_no6010-full.png\r\n",
      "12700116000imagebib_no6010-thumb.png\r\n",
      "12700116000marathonrunner_statsbib_no_191-clipped.png\r\n",
      "12700116000marathonrunner_statsbib_no_191-full.png\r\n",
      "12700116000marathonrunner_statsbib_no_191-thumb.png\r\n",
      "364858runner_statisticsbib_no1745-full.png\r\n",
      "\u001b[34mApplications\u001b[m\u001b[m/\r\n",
      "\u001b[34mDesktop\u001b[m\u001b[m/\r\n",
      "\u001b[34mDev\u001b[m\u001b[m/\r\n",
      "\u001b[34mDocuments\u001b[m\u001b[m/\r\n",
      "\u001b[34mDownloads\u001b[m\u001b[m/\r\n",
      "\u001b[34mLibrary\u001b[m\u001b[m/\r\n",
      "\u001b[34mMovies\u001b[m\u001b[m/\r\n",
      "\u001b[34mMusic\u001b[m\u001b[m/\r\n",
      "\u001b[34mPictures\u001b[m\u001b[m/\r\n",
      "\u001b[34mPostman\u001b[m\u001b[m/\r\n",
      "\u001b[34mPublic\u001b[m\u001b[m/\r\n",
      "\u001b[34mPycharmProjects\u001b[m\u001b[m/\r\n",
      "functions7.ipynb\r\n",
      "functions8.ipynb\r\n",
      "functions9.ipynb\r\n",
      "google.txt\r\n",
      "\u001b[34mineuron\u001b[m\u001b[m/\r\n",
      "ineuron_chris_1.ipynb\r\n",
      "ineuron_chris_10.ipynb\r\n",
      "ineuron_chris_11.ipynb\r\n",
      "ineuron_chris_11_a.ipynb\r\n",
      "ineuron_chris_12.ipynb\r\n",
      "ineuron_chris_13.ipynb\r\n",
      "ineuron_chris_14.ipynb\r\n",
      "ineuron_chris_16.ipynb\r\n",
      "ineuron_chris_17.ipynb\r\n",
      "ineuron_chris_2.ipynb\r\n",
      "ineuron_chris_3.ipynb\r\n",
      "ineuron_chris_4.ipynb\r\n",
      "ineuron_chris_5.ipynb\r\n",
      "ineuron_chris_6.ipynb\r\n",
      "ineuron_chris_7.ipynb\r\n",
      "ineuron_chris_8.ipynb\r\n",
      "ineuron_chris_9.ipynb\r\n",
      "ineuron_christmas_assignments.ipynb\r\n",
      "ineuron_chrius_13.ipynb\r\n",
      "java_error_in_pycharm.hprof\r\n",
      "jmeter.log\r\n",
      "\u001b[34mnode_modules\u001b[m\u001b[m/\r\n",
      "package-lock.json\r\n",
      "practprob6.ipynb\r\n",
      "text.txt\r\n",
      "text1.txt\r\n",
      "text2.txt\r\n"
     ]
    }
   ],
   "source": [
    "ls"
   ]
  },
  {
   "cell_type": "code",
   "execution_count": 12,
   "id": "a32f841d",
   "metadata": {},
   "outputs": [],
   "source": [
    "import os"
   ]
  },
  {
   "cell_type": "code",
   "execution_count": 13,
   "id": "e38f14cb",
   "metadata": {},
   "outputs": [],
   "source": [
    "os.remove(\"text.txt\")"
   ]
  },
  {
   "cell_type": "code",
   "execution_count": 15,
   "id": "5554feac",
   "metadata": {},
   "outputs": [
    {
     "data": {
      "text/plain": [
       "'/Users/kustarddev'"
      ]
     },
     "execution_count": 15,
     "metadata": {},
     "output_type": "execute_result"
    }
   ],
   "source": [
    "os.getcwd()"
   ]
  },
  {
   "cell_type": "code",
   "execution_count": 16,
   "id": "a8572504",
   "metadata": {},
   "outputs": [
    {
     "data": {
      "text/plain": [
       "'/Users/kustarddev'"
      ]
     },
     "execution_count": 16,
     "metadata": {},
     "output_type": "execute_result"
    }
   ],
   "source": [
    "pwd()"
   ]
  },
  {
   "cell_type": "code",
   "execution_count": 18,
   "id": "fa4fd279",
   "metadata": {},
   "outputs": [
    {
     "data": {
      "text/plain": [
       "['ineuron_chris_11_a.ipynb',\n",
       " '.config',\n",
       " 'Music',\n",
       " '12700116000marathonrunner_statsbib_no_191-thumb.png',\n",
       " 'ineuron_chris_2.ipynb',\n",
       " '12700116000marathonrunner_statsbib_no_191-full.png',\n",
       " 'ineuron_chris_17.ipynb',\n",
       " '.condarc',\n",
       " 'functions8.ipynb',\n",
       " '12700116000imagebib_no6010-thumb.png',\n",
       " '.vim',\n",
       " '.DS_Store',\n",
       " 'jmeter.log',\n",
       " 'ineuron_chris_11.ipynb',\n",
       " 'ineuron_chris_4.ipynb',\n",
       " '.CFUserTextEncoding',\n",
       " 'ineuron_chris_13.ipynb',\n",
       " 'ineuron_chris_6.ipynb',\n",
       " '.xonshrc',\n",
       " 'ineuron_chris_14.ipynb',\n",
       " '.zshrc',\n",
       " 'ineuron_chris_1.ipynb',\n",
       " 'functions9.ipynb',\n",
       " '.local',\n",
       " 'Pictures',\n",
       " '12700116000imagebib_no6010-full.png',\n",
       " '.atom',\n",
       " 'ineuron_chris_16.ipynb',\n",
       " '364858runner_statisticsbib_no1745-full.png',\n",
       " 'ineuron_chris_3.ipynb',\n",
       " 'node_modules',\n",
       " 'ineuron_chris_7.ipynb',\n",
       " 'Postman',\n",
       " 'ineuron_chris_12.ipynb',\n",
       " '.ipython',\n",
       " 'Desktop',\n",
       " 'Library',\n",
       " '.matplotlib',\n",
       " 'ineuron_chris_5.ipynb',\n",
       " 'ineuron',\n",
       " 'ineuron_chris_10.ipynb',\n",
       " '12700116000imagebib_no6010-clipped.png',\n",
       " 'ineuron_chris_9.ipynb',\n",
       " '.android',\n",
       " '.bash_sessions',\n",
       " 'ineuron_christmas_assignments.ipynb',\n",
       " 'google.txt',\n",
       " 'PycharmProjects',\n",
       " 'Public',\n",
       " '12700116000marathonrunner_statsbib_no_191-clipped.png',\n",
       " 'package-lock.json',\n",
       " '.tcshrc',\n",
       " 'ineuron_chrius_13.ipynb',\n",
       " 'text1.txt',\n",
       " 'functions7.ipynb',\n",
       " '.anaconda',\n",
       " '.ssh',\n",
       " 'Movies',\n",
       " 'Applications',\n",
       " 'text2.txt',\n",
       " '.Trash',\n",
       " 'Dev',\n",
       " '.ipynb_checkpoints',\n",
       " 'practprob6.ipynb',\n",
       " '.jupyter',\n",
       " '.npm',\n",
       " 'Documents',\n",
       " '.mysql_history',\n",
       " '.git',\n",
       " '.vscode',\n",
       " 'ineuron_chris_8.ipynb',\n",
       " '.bash_profile',\n",
       " 'Downloads',\n",
       " '.python_history',\n",
       " 'java_error_in_pycharm.hprof',\n",
       " '.continuum',\n",
       " '.cache',\n",
       " '.aws',\n",
       " '.gitconfig',\n",
       " '.v8flags.6.1.534.50.e64c4572b40501a53ae444fe90cda96a.json',\n",
       " '.bash_history',\n",
       " '.viminfo',\n",
       " '.conda']"
      ]
     },
     "execution_count": 18,
     "metadata": {},
     "output_type": "execute_result"
    }
   ],
   "source": [
    "os.listdir()"
   ]
  },
  {
   "cell_type": "code",
   "execution_count": 19,
   "id": "f2dffe43",
   "metadata": {},
   "outputs": [
    {
     "data": {
      "text/plain": [
       "['ineuron_chris_11_a.ipynb',\n",
       " '.config',\n",
       " 'Music',\n",
       " '12700116000marathonrunner_statsbib_no_191-thumb.png',\n",
       " 'ineuron_chris_2.ipynb',\n",
       " '12700116000marathonrunner_statsbib_no_191-full.png',\n",
       " 'ineuron_chris_17.ipynb',\n",
       " '.condarc',\n",
       " 'functions8.ipynb',\n",
       " '12700116000imagebib_no6010-thumb.png',\n",
       " '.vim',\n",
       " '.DS_Store',\n",
       " 'jmeter.log',\n",
       " 'ineuron_chris_11.ipynb',\n",
       " 'ineuron_chris_4.ipynb',\n",
       " '.CFUserTextEncoding',\n",
       " 'ineuron_chris_13.ipynb',\n",
       " 'ineuron_chris_6.ipynb',\n",
       " '.xonshrc',\n",
       " 'ineuron_chris_14.ipynb',\n",
       " '.zshrc',\n",
       " 'ineuron_chris_1.ipynb',\n",
       " 'functions9.ipynb',\n",
       " '.local',\n",
       " 'Pictures',\n",
       " '12700116000imagebib_no6010-full.png',\n",
       " '.atom',\n",
       " 'ineuron_chris_16.ipynb',\n",
       " '364858runner_statisticsbib_no1745-full.png',\n",
       " 'ineuron_chris_3.ipynb',\n",
       " 'node_modules',\n",
       " 'ineuron_chris_7.ipynb',\n",
       " 'Postman',\n",
       " 'ineuron_chris_12.ipynb',\n",
       " '.ipython',\n",
       " 'Desktop',\n",
       " 'Library',\n",
       " '.matplotlib',\n",
       " 'ineuron_chris_5.ipynb',\n",
       " 'ineuron',\n",
       " 'ineuron_chris_10.ipynb',\n",
       " '12700116000imagebib_no6010-clipped.png',\n",
       " 'ineuron_chris_9.ipynb',\n",
       " '.android',\n",
       " '.bash_sessions',\n",
       " 'ineuron_christmas_assignments.ipynb',\n",
       " 'google.txt',\n",
       " 'PycharmProjects',\n",
       " 'Public',\n",
       " '12700116000marathonrunner_statsbib_no_191-clipped.png',\n",
       " 'package-lock.json',\n",
       " '.tcshrc',\n",
       " 'ineuron_chrius_13.ipynb',\n",
       " 'text1.txt',\n",
       " 'functions7.ipynb',\n",
       " '.anaconda',\n",
       " '.ssh',\n",
       " 'Movies',\n",
       " 'Applications',\n",
       " 'text2.txt',\n",
       " '.Trash',\n",
       " 'Dev',\n",
       " '.ipynb_checkpoints',\n",
       " 'practprob6.ipynb',\n",
       " '.jupyter',\n",
       " '.npm',\n",
       " 'Documents',\n",
       " '.mysql_history',\n",
       " '.git',\n",
       " '.vscode',\n",
       " 'ineuron_chris_8.ipynb',\n",
       " '.bash_profile',\n",
       " 'Downloads',\n",
       " '.python_history',\n",
       " 'java_error_in_pycharm.hprof',\n",
       " '.continuum',\n",
       " '.cache',\n",
       " '.aws',\n",
       " '.gitconfig',\n",
       " '.v8flags.6.1.534.50.e64c4572b40501a53ae444fe90cda96a.json',\n",
       " '.bash_history',\n",
       " '.viminfo',\n",
       " '.conda']"
      ]
     },
     "execution_count": 19,
     "metadata": {},
     "output_type": "execute_result"
    }
   ],
   "source": [
    "os.listdir(\"/Users/kustarddev\")"
   ]
  },
  {
   "cell_type": "code",
   "execution_count": 20,
   "id": "9dadf337",
   "metadata": {},
   "outputs": [
    {
     "name": "stdout",
     "output_type": "stream",
     "text": [
      "['google.txt', 'text1.txt', 'text2.txt']\n"
     ]
    }
   ],
   "source": [
    "l=[]\n",
    "for i in os.listdir(\"/Users/kustarddev\"):\n",
    "    if i[-3]==\"t\" and i[-4]==\".\":\n",
    "        l.append(i)\n",
    "print(l)"
   ]
  },
  {
   "cell_type": "code",
   "execution_count": 29,
   "id": "4dec9235",
   "metadata": {},
   "outputs": [
    {
     "name": "stdout",
     "output_type": "stream",
     "text": [
      "Modern human settlement in Ukraine and its vicinity dates back to 32,000 BC, with evidence of the Gravettian culture in the Crimean Mountains.[30][31] By 4,500 BC, the Neolithic Cucuteni–Trypillia culture flourished in wide areas of modern Ukraine including Trypillia and the entire Dnieper-Dniester region. During the Iron Age, the land was inhabited by Cimmerians, Scythians, and Sarmatians.[32] Between 700 BC and 200 BC it was part of the Scythian Kingdom, or Scythia.[33]km2 (233,062 sq mi),[b] with a population of 41.3 million,[c] and is the eighth-most populous country in Europe. The nation's capital and largest city is Kyiv.\n",
      "\n",
      "The territory of modern Ukraine has been inhabited since 32,000 BC. During the Middle Ages, the area was a key centre of East Slavic culture, with the loose tribal federation Kievan Rus' forming the basis of Ukrainian identity. Following its fragmentation into several principalities in the 13th century and the devastation created by the Mongol invasion, the territorial unity collapsed and the area was contested, divided, and ruled by a variety of powers, including the Polish–Lithuanian Commonwealth, Austria-Hungary, the Ottoman Empire, and Tsardom of Russia. A Cossack Hetmanate emerged and prospered during the 17th and 18th centuries, but its territory was eventually split between Poland and the Russian Empire. In the aftermath of the Russian Revolution, a Ukrainian national movement for self-determination emerged, and the internationally recognized Ukrainian People's Republic was declared on 23 June 1917. After World War II, the western part of Ukraine merged into the Ukrainian Soviet Socialist Republic, thus making the whole country (rather than only eastern part of it) a part of the Soviet Union. Ukraine regained its independence in 1991, following the dissolution of the Soviet Union.The territory of modern Ukraine has been inhabited since 32,000 BC. During the Middle Ages, the area was a key centre of East Slavic culture, with the loose tribal federation Kievan Rus' forming the basis of Ukrainian identity. Following its fragmentation into several principalities in the 13th century and the devastation created by the Mongol invasion, the territorial unity collapsed and the area was contested, divided, and ruled by a variety of powers, including the Polish–Lithuanian Commonwealth, Austria-Hungary, the Ottoman Empire, and Tsardom of Russia. A Cossack Hetmanate emerged and prospered during the 17th and 18th centuries, but its territory was eventually split between Poland and the Russian Empire. In the aftermath of the Russian Revolution, a Ukrainian national movement for self-determination emerged, and the internationally recognized Ukrainian People's Republic was declared on 23 June 1917. After World War II, the western part of Ukraine merged into the Ukrainian Soviet Socialist Republic, thus making the whole country (rather than only eastern part of it) a part of the Soviet Union. Ukraine regained its independence in 1991, following the dissolution of the Soviet Union.line1line2line3line4\n",
      "123456789. \n",
      "grbvrtvrttgtbr. \n",
      "t4gtg4gt4gt4gt4gt5rg.\n",
      "tg5gt5rg4tg4.123456789\n",
      "r4frefreferfer\n",
      "Rig\n",
      "Rtgrtgrtghrth\n",
      "Tghtrhgtrhrthtr\n",
      "this is shortcut to open and write in file without closing it\n",
      "\n"
     ]
    }
   ],
   "source": [
    "for i in l:\n",
    "    f = open(i,\"r+\")\n",
    "    f.seek(0)\n",
    "    print(f.read())"
   ]
  },
  {
   "cell_type": "code",
   "execution_count": 48,
   "id": "eefc6cbd",
   "metadata": {},
   "outputs": [],
   "source": [
    "def fuctxtjoin(path):\n",
    "    l=[]\n",
    "    for i in os.listdir(path):\n",
    "        if i[-3]==\"t\" and i[-4]==\".\":\n",
    "            l.append(i)\n",
    "    m=[]\n",
    "    for i in l:\n",
    "        f = open(i,\"r+\")\n",
    "        f.seek(0)\n",
    "        m.append(f.read())\n",
    "    return \"     \".join(m)\n",
    "        "
   ]
  },
  {
   "cell_type": "code",
   "execution_count": 49,
   "id": "85fec196",
   "metadata": {},
   "outputs": [
    {
     "data": {
      "text/plain": [
       "\"Modern human settlement in Ukraine and its vicinity dates back to 32,000 BC, with evidence of the Gravettian culture in the Crimean Mountains.[30][31] By 4,500 BC, the Neolithic Cucuteni–Trypillia culture flourished in wide areas of modern Ukraine including Trypillia and the entire Dnieper-Dniester region. During the Iron Age, the land was inhabited by Cimmerians, Scythians, and Sarmatians.[32] Between 700 BC and 200 BC it was part of the Scythian Kingdom, or Scythia.[33]km2 (233,062 sq mi),[b] with a population of 41.3 million,[c] and is the eighth-most populous country in Europe. The nation's capital and largest city is Kyiv.\\n\\nThe territory of modern Ukraine has been inhabited since 32,000 BC. During the Middle Ages, the area was a key centre of East Slavic culture, with the loose tribal federation Kievan Rus' forming the basis of Ukrainian identity. Following its fragmentation into several principalities in the 13th century and the devastation created by the Mongol invasion, the territorial unity collapsed and the area was contested, divided, and ruled by a variety of powers, including the Polish–Lithuanian Commonwealth, Austria-Hungary, the Ottoman Empire, and Tsardom of Russia. A Cossack Hetmanate emerged and prospered during the 17th and 18th centuries, but its territory was eventually split between Poland and the Russian Empire. In the aftermath of the Russian Revolution, a Ukrainian national movement for self-determination emerged, and the internationally recognized Ukrainian People's Republic was declared on 23 June 1917. After World War II, the western part of Ukraine merged into the Ukrainian Soviet Socialist Republic, thus making the whole country (rather than only eastern part of it) a part of the Soviet Union. Ukraine regained its independence in 1991, following the dissolution of the Soviet Union.The territory of modern Ukraine has been inhabited since 32,000 BC. During the Middle Ages, the area was a key centre of East Slavic culture, with the loose tribal federation Kievan Rus' forming the basis of Ukrainian identity. Following its fragmentation into several principalities in the 13th century and the devastation created by the Mongol invasion, the territorial unity collapsed and the area was contested, divided, and ruled by a variety of powers, including the Polish–Lithuanian Commonwealth, Austria-Hungary, the Ottoman Empire, and Tsardom of Russia. A Cossack Hetmanate emerged and prospered during the 17th and 18th centuries, but its territory was eventually split between Poland and the Russian Empire. In the aftermath of the Russian Revolution, a Ukrainian national movement for self-determination emerged, and the internationally recognized Ukrainian People's Republic was declared on 23 June 1917. After World War II, the western part of Ukraine merged into the Ukrainian Soviet Socialist Republic, thus making the whole country (rather than only eastern part of it) a part of the Soviet Union. Ukraine regained its independence in 1991, following the dissolution of the Soviet Union.line1line2line3line4     123456789. \\ngrbvrtvrttgtbr. \\nt4gtg4gt4gt4gt4gt5rg.\\ntg5gt5rg4tg4.123456789\\nr4frefreferfer\\nRig\\nRtgrtgrtghrth\\nTghtrhgtrhrthtr     this is shortcut to open and write in file without closing it\\n\""
      ]
     },
     "execution_count": 49,
     "metadata": {},
     "output_type": "execute_result"
    }
   ],
   "source": [
    "fuctxtjoin(\"/Users/kustarddev\")"
   ]
  },
  {
   "cell_type": "code",
   "execution_count": null,
   "id": "5264de26",
   "metadata": {},
   "outputs": [],
   "source": []
  }
 ],
 "metadata": {
  "kernelspec": {
   "display_name": "Python 3 (ipykernel)",
   "language": "python",
   "name": "python3"
  },
  "language_info": {
   "codemirror_mode": {
    "name": "ipython",
    "version": 3
   },
   "file_extension": ".py",
   "mimetype": "text/x-python",
   "name": "python",
   "nbconvert_exporter": "python",
   "pygments_lexer": "ipython3",
   "version": "3.9.7"
  }
 },
 "nbformat": 4,
 "nbformat_minor": 5
}
