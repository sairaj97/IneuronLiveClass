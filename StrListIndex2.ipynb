{
 "cells": [
  {
   "cell_type": "code",
   "execution_count": 1,
   "id": "f3786464",
   "metadata": {},
   "outputs": [],
   "source": [
    "s = 'sairaj'"
   ]
  },
  {
   "cell_type": "code",
   "execution_count": 2,
   "id": "17278f2b",
   "metadata": {},
   "outputs": [
    {
     "data": {
      "text/plain": [
       "'i'"
      ]
     },
     "execution_count": 2,
     "metadata": {},
     "output_type": "execute_result"
    }
   ],
   "source": [
    "s[2]"
   ]
  },
  {
   "cell_type": "code",
   "execution_count": 3,
   "id": "68026580",
   "metadata": {},
   "outputs": [
    {
     "data": {
      "text/plain": [
       "'j'"
      ]
     },
     "execution_count": 3,
     "metadata": {},
     "output_type": "execute_result"
    }
   ],
   "source": [
    "s[5]"
   ]
  },
  {
   "cell_type": "code",
   "execution_count": 4,
   "id": "e80b8b6a",
   "metadata": {},
   "outputs": [
    {
     "data": {
      "text/plain": [
       "'j'"
      ]
     },
     "execution_count": 4,
     "metadata": {},
     "output_type": "execute_result"
    }
   ],
   "source": [
    "s[-1]"
   ]
  },
  {
   "cell_type": "code",
   "execution_count": 5,
   "id": "41c2c2af",
   "metadata": {},
   "outputs": [
    {
     "data": {
      "text/plain": [
       "'r'"
      ]
     },
     "execution_count": 5,
     "metadata": {},
     "output_type": "execute_result"
    }
   ],
   "source": [
    "s[-3]"
   ]
  },
  {
   "cell_type": "code",
   "execution_count": 6,
   "id": "acfbfba0",
   "metadata": {},
   "outputs": [
    {
     "data": {
      "text/plain": [
       "'s'"
      ]
     },
     "execution_count": 6,
     "metadata": {},
     "output_type": "execute_result"
    }
   ],
   "source": [
    "s[-6]"
   ]
  },
  {
   "cell_type": "code",
   "execution_count": 7,
   "id": "41218803",
   "metadata": {},
   "outputs": [
    {
     "ename": "IndexError",
     "evalue": "string index out of range",
     "output_type": "error",
     "traceback": [
      "\u001b[0;31m---------------------------------------------------------------------------\u001b[0m",
      "\u001b[0;31mIndexError\u001b[0m                                Traceback (most recent call last)",
      "\u001b[0;32m/var/folders/3q/67zhfv792zl9x8lxwtq3yym80000gp/T/ipykernel_2161/2390001549.py\u001b[0m in \u001b[0;36m<module>\u001b[0;34m\u001b[0m\n\u001b[0;32m----> 1\u001b[0;31m \u001b[0ms\u001b[0m\u001b[0;34m[\u001b[0m\u001b[0;36m100\u001b[0m\u001b[0;34m]\u001b[0m\u001b[0;34m\u001b[0m\u001b[0;34m\u001b[0m\u001b[0m\n\u001b[0m",
      "\u001b[0;31mIndexError\u001b[0m: string index out of range"
     ]
    }
   ],
   "source": [
    "s[100]"
   ]
  },
  {
   "cell_type": "code",
   "execution_count": 9,
   "id": "031c09e2",
   "metadata": {},
   "outputs": [],
   "source": [
    "a = 'my name is sai'"
   ]
  },
  {
   "cell_type": "code",
   "execution_count": 10,
   "id": "4153d525",
   "metadata": {},
   "outputs": [
    {
     "data": {
      "text/plain": [
       "'my name '"
      ]
     },
     "execution_count": 10,
     "metadata": {},
     "output_type": "execute_result"
    }
   ],
   "source": [
    "a[0:8]"
   ]
  },
  {
   "cell_type": "code",
   "execution_count": 11,
   "id": "b1fa6ac1",
   "metadata": {},
   "outputs": [
    {
     "data": {
      "text/plain": [
       "'y name is'"
      ]
     },
     "execution_count": 11,
     "metadata": {},
     "output_type": "execute_result"
    }
   ],
   "source": [
    "a[1:10]"
   ]
  },
  {
   "cell_type": "code",
   "execution_count": 12,
   "id": "cc1a74c6",
   "metadata": {},
   "outputs": [],
   "source": [
    "s = \"sairaj\""
   ]
  },
  {
   "cell_type": "code",
   "execution_count": 13,
   "id": "3a5fab84",
   "metadata": {},
   "outputs": [
    {
     "data": {
      "text/plain": [
       "'sa'"
      ]
     },
     "execution_count": 13,
     "metadata": {},
     "output_type": "execute_result"
    }
   ],
   "source": [
    "s[0:2]"
   ]
  },
  {
   "cell_type": "code",
   "execution_count": 14,
   "id": "03ec594d",
   "metadata": {},
   "outputs": [
    {
     "ename": "IndexError",
     "evalue": "string index out of range",
     "output_type": "error",
     "traceback": [
      "\u001b[0;31m---------------------------------------------------------------------------\u001b[0m",
      "\u001b[0;31mIndexError\u001b[0m                                Traceback (most recent call last)",
      "\u001b[0;32m/var/folders/3q/67zhfv792zl9x8lxwtq3yym80000gp/T/ipykernel_2161/2145222695.py\u001b[0m in \u001b[0;36m<module>\u001b[0;34m\u001b[0m\n\u001b[0;32m----> 1\u001b[0;31m \u001b[0ms\u001b[0m\u001b[0;34m[\u001b[0m\u001b[0;36m200\u001b[0m\u001b[0;34m]\u001b[0m\u001b[0;34m\u001b[0m\u001b[0;34m\u001b[0m\u001b[0m\n\u001b[0m",
      "\u001b[0;31mIndexError\u001b[0m: string index out of range"
     ]
    }
   ],
   "source": [
    "s[200]"
   ]
  },
  {
   "cell_type": "code",
   "execution_count": 15,
   "id": "dfb4cd45",
   "metadata": {},
   "outputs": [
    {
     "data": {
      "text/plain": [
       "'sairaj'"
      ]
     },
     "execution_count": 15,
     "metadata": {},
     "output_type": "execute_result"
    }
   ],
   "source": [
    "s[0:200]"
   ]
  },
  {
   "cell_type": "code",
   "execution_count": 16,
   "id": "df1ecc80",
   "metadata": {},
   "outputs": [
    {
     "data": {
      "text/plain": [
       "''"
      ]
     },
     "execution_count": 16,
     "metadata": {},
     "output_type": "execute_result"
    }
   ],
   "source": [
    "s[-1:-4]"
   ]
  },
  {
   "cell_type": "code",
   "execution_count": 17,
   "id": "aaefcd25",
   "metadata": {},
   "outputs": [
    {
     "data": {
      "text/plain": [
       "'ira'"
      ]
     },
     "execution_count": 17,
     "metadata": {},
     "output_type": "execute_result"
    }
   ],
   "source": [
    "s[-4:-1]"
   ]
  },
  {
   "cell_type": "code",
   "execution_count": 18,
   "id": "b9b4bbc8",
   "metadata": {},
   "outputs": [
    {
     "data": {
      "text/plain": [
       "''"
      ]
     },
     "execution_count": 18,
     "metadata": {},
     "output_type": "execute_result"
    }
   ],
   "source": [
    "s[-4:0]"
   ]
  },
  {
   "cell_type": "code",
   "execution_count": 23,
   "id": "6f4442fd",
   "metadata": {},
   "outputs": [
    {
     "data": {
      "text/plain": [
       "'ia'"
      ]
     },
     "execution_count": 23,
     "metadata": {},
     "output_type": "execute_result"
    }
   ],
   "source": [
    "s[-4:0:-1]"
   ]
  },
  {
   "cell_type": "code",
   "execution_count": 25,
   "id": "a7caf203",
   "metadata": {},
   "outputs": [
    {
     "data": {
      "text/plain": [
       "'sa'"
      ]
     },
     "execution_count": 25,
     "metadata": {},
     "output_type": "execute_result"
    }
   ],
   "source": [
    "s[0:-4:1]"
   ]
  },
  {
   "cell_type": "code",
   "execution_count": 19,
   "id": "9c570ed3",
   "metadata": {},
   "outputs": [
    {
     "data": {
      "text/plain": [
       "'iraj'"
      ]
     },
     "execution_count": 19,
     "metadata": {},
     "output_type": "execute_result"
    }
   ],
   "source": [
    "s[-4:]"
   ]
  },
  {
   "cell_type": "code",
   "execution_count": 20,
   "id": "9031d4b4",
   "metadata": {},
   "outputs": [
    {
     "data": {
      "text/plain": [
       "'sia'"
      ]
     },
     "execution_count": 20,
     "metadata": {},
     "output_type": "execute_result"
    }
   ],
   "source": [
    "s[0:100:2]"
   ]
  },
  {
   "cell_type": "code",
   "execution_count": 21,
   "id": "01f38647",
   "metadata": {},
   "outputs": [
    {
     "data": {
      "text/plain": [
       "''"
      ]
     },
     "execution_count": 21,
     "metadata": {},
     "output_type": "execute_result"
    }
   ],
   "source": [
    "s[-1:-4]"
   ]
  },
  {
   "cell_type": "code",
   "execution_count": 22,
   "id": "4645a45d",
   "metadata": {},
   "outputs": [
    {
     "data": {
      "text/plain": [
       "'jar'"
      ]
     },
     "execution_count": 22,
     "metadata": {},
     "output_type": "execute_result"
    }
   ],
   "source": [
    "s[-1:-4:-1]"
   ]
  },
  {
   "cell_type": "code",
   "execution_count": 26,
   "id": "881c1e4f",
   "metadata": {},
   "outputs": [
    {
     "data": {
      "text/plain": [
       "'sairaj'"
      ]
     },
     "execution_count": 26,
     "metadata": {},
     "output_type": "execute_result"
    }
   ],
   "source": [
    "s[::]"
   ]
  },
  {
   "cell_type": "code",
   "execution_count": 27,
   "id": "b21dbc84",
   "metadata": {},
   "outputs": [
    {
     "data": {
      "text/plain": [
       "'sairaj'"
      ]
     },
     "execution_count": 27,
     "metadata": {},
     "output_type": "execute_result"
    }
   ],
   "source": [
    "s[:9]"
   ]
  },
  {
   "cell_type": "code",
   "execution_count": 28,
   "id": "a66ff178",
   "metadata": {},
   "outputs": [
    {
     "data": {
      "text/plain": [
       "'raj'"
      ]
     },
     "execution_count": 28,
     "metadata": {},
     "output_type": "execute_result"
    }
   ],
   "source": [
    "s[-3:]"
   ]
  },
  {
   "cell_type": "code",
   "execution_count": 29,
   "id": "62922cb1",
   "metadata": {},
   "outputs": [
    {
     "data": {
      "text/plain": [
       "'ra'"
      ]
     },
     "execution_count": 29,
     "metadata": {},
     "output_type": "execute_result"
    }
   ],
   "source": [
    "s[-3:-1]"
   ]
  },
  {
   "cell_type": "code",
   "execution_count": 30,
   "id": "cdb07059",
   "metadata": {},
   "outputs": [
    {
     "data": {
      "text/plain": [
       "'jarias'"
      ]
     },
     "execution_count": 30,
     "metadata": {},
     "output_type": "execute_result"
    }
   ],
   "source": [
    "s[::-1]"
   ]
  },
  {
   "cell_type": "code",
   "execution_count": 31,
   "id": "a0f16fbd",
   "metadata": {},
   "outputs": [
    {
     "data": {
      "text/plain": [
       "'jarias'"
      ]
     },
     "execution_count": 31,
     "metadata": {},
     "output_type": "execute_result"
    }
   ],
   "source": [
    "s[-1::-1]"
   ]
  },
  {
   "cell_type": "code",
   "execution_count": 32,
   "id": "f64a7627",
   "metadata": {},
   "outputs": [
    {
     "data": {
      "text/plain": [
       "'my name is sai'"
      ]
     },
     "execution_count": 32,
     "metadata": {},
     "output_type": "execute_result"
    }
   ],
   "source": [
    "a"
   ]
  },
  {
   "cell_type": "code",
   "execution_count": 34,
   "id": "cf563232",
   "metadata": {},
   "outputs": [
    {
     "data": {
      "text/plain": [
       "'ias si eman ym'"
      ]
     },
     "execution_count": 34,
     "metadata": {},
     "output_type": "execute_result"
    }
   ],
   "source": [
    "a[::-1]"
   ]
  },
  {
   "cell_type": "code",
   "execution_count": 35,
   "id": "5ed00825",
   "metadata": {},
   "outputs": [
    {
     "data": {
      "text/plain": [
       "'sairaj'"
      ]
     },
     "execution_count": 35,
     "metadata": {},
     "output_type": "execute_result"
    }
   ],
   "source": [
    "s"
   ]
  },
  {
   "cell_type": "code",
   "execution_count": 36,
   "id": "ddc64c83",
   "metadata": {},
   "outputs": [
    {
     "data": {
      "text/plain": [
       "'aira'"
      ]
     },
     "execution_count": 36,
     "metadata": {},
     "output_type": "execute_result"
    }
   ],
   "source": [
    "s[-5:5]"
   ]
  },
  {
   "cell_type": "code",
   "execution_count": 40,
   "id": "220c0e25",
   "metadata": {},
   "outputs": [
    {
     "data": {
      "text/plain": [
       "''"
      ]
     },
     "execution_count": 40,
     "metadata": {},
     "output_type": "execute_result"
    }
   ],
   "source": [
    "s[-5:5:-1]"
   ]
  },
  {
   "cell_type": "code",
   "execution_count": 37,
   "id": "8491aa21",
   "metadata": {},
   "outputs": [
    {
     "data": {
      "text/plain": [
       "'my name is sai'"
      ]
     },
     "execution_count": 37,
     "metadata": {},
     "output_type": "execute_result"
    }
   ],
   "source": [
    "a"
   ]
  },
  {
   "cell_type": "code",
   "execution_count": 38,
   "id": "f33e38c0",
   "metadata": {},
   "outputs": [
    {
     "data": {
      "text/plain": [
       "''"
      ]
     },
     "execution_count": 38,
     "metadata": {},
     "output_type": "execute_result"
    }
   ],
   "source": [
    "a[-5:5]"
   ]
  },
  {
   "cell_type": "code",
   "execution_count": 39,
   "id": "ed895b46",
   "metadata": {},
   "outputs": [
    {
     "data": {
      "text/plain": [
       "'si e'"
      ]
     },
     "execution_count": 39,
     "metadata": {},
     "output_type": "execute_result"
    }
   ],
   "source": [
    "a[-5:5:-1]"
   ]
  },
  {
   "cell_type": "code",
   "execution_count": 41,
   "id": "f8609ce4",
   "metadata": {},
   "outputs": [
    {
     "data": {
      "text/plain": [
       "'saisaisaisai'"
      ]
     },
     "execution_count": 41,
     "metadata": {},
     "output_type": "execute_result"
    }
   ],
   "source": [
    "'sai'*4"
   ]
  },
  {
   "cell_type": "code",
   "execution_count": 42,
   "id": "1e947058",
   "metadata": {},
   "outputs": [
    {
     "data": {
      "text/plain": [
       "'sairaj'"
      ]
     },
     "execution_count": 42,
     "metadata": {},
     "output_type": "execute_result"
    }
   ],
   "source": [
    "'sai'+\"raj\""
   ]
  },
  {
   "cell_type": "code",
   "execution_count": 43,
   "id": "d653c706",
   "metadata": {},
   "outputs": [
    {
     "data": {
      "text/plain": [
       "14"
      ]
     },
     "execution_count": 43,
     "metadata": {},
     "output_type": "execute_result"
    }
   ],
   "source": [
    "len(a)"
   ]
  },
  {
   "cell_type": "code",
   "execution_count": 44,
   "id": "1f8a1649",
   "metadata": {},
   "outputs": [
    {
     "data": {
      "text/plain": [
       "'my name is sai'"
      ]
     },
     "execution_count": 44,
     "metadata": {},
     "output_type": "execute_result"
    }
   ],
   "source": [
    "a"
   ]
  },
  {
   "cell_type": "code",
   "execution_count": 45,
   "id": "cafb417b",
   "metadata": {},
   "outputs": [
    {
     "data": {
      "text/plain": [
       "4"
      ]
     },
     "execution_count": 45,
     "metadata": {},
     "output_type": "execute_result"
    }
   ],
   "source": [
    "a.find('a')"
   ]
  },
  {
   "cell_type": "code",
   "execution_count": 46,
   "id": "d58c4110",
   "metadata": {},
   "outputs": [
    {
     "data": {
      "text/plain": [
       "7"
      ]
     },
     "execution_count": 46,
     "metadata": {},
     "output_type": "execute_result"
    }
   ],
   "source": [
    "a.find(' i')"
   ]
  },
  {
   "cell_type": "code",
   "execution_count": 47,
   "id": "866a6122",
   "metadata": {},
   "outputs": [
    {
     "data": {
      "text/plain": [
       "3"
      ]
     },
     "execution_count": 47,
     "metadata": {},
     "output_type": "execute_result"
    }
   ],
   "source": [
    "a.find('name')"
   ]
  },
  {
   "cell_type": "code",
   "execution_count": 48,
   "id": "63bfefa0",
   "metadata": {},
   "outputs": [
    {
     "data": {
      "text/plain": [
       "2"
      ]
     },
     "execution_count": 48,
     "metadata": {},
     "output_type": "execute_result"
    }
   ],
   "source": [
    "a.count('a')"
   ]
  },
  {
   "cell_type": "code",
   "execution_count": 49,
   "id": "2c4b3df0",
   "metadata": {},
   "outputs": [
    {
     "data": {
      "text/plain": [
       "3"
      ]
     },
     "execution_count": 49,
     "metadata": {},
     "output_type": "execute_result"
    }
   ],
   "source": [
    "a.count(' ')"
   ]
  },
  {
   "cell_type": "code",
   "execution_count": 50,
   "id": "9ebc3ebc",
   "metadata": {},
   "outputs": [
    {
     "data": {
      "text/plain": [
       "['my', 'name', 'is', 'sai']"
      ]
     },
     "execution_count": 50,
     "metadata": {},
     "output_type": "execute_result"
    }
   ],
   "source": [
    "a.split()"
   ]
  },
  {
   "cell_type": "code",
   "execution_count": 51,
   "id": "07af4bd4",
   "metadata": {},
   "outputs": [
    {
     "data": {
      "text/plain": [
       "list"
      ]
     },
     "execution_count": 51,
     "metadata": {},
     "output_type": "execute_result"
    }
   ],
   "source": [
    "type(a.split())"
   ]
  },
  {
   "cell_type": "code",
   "execution_count": 52,
   "id": "6e842280",
   "metadata": {},
   "outputs": [],
   "source": [
    "l = a.split()"
   ]
  },
  {
   "cell_type": "code",
   "execution_count": 53,
   "id": "2330d8b0",
   "metadata": {},
   "outputs": [
    {
     "data": {
      "text/plain": [
       "'sai'"
      ]
     },
     "execution_count": 53,
     "metadata": {},
     "output_type": "execute_result"
    }
   ],
   "source": [
    "l[3]"
   ]
  },
  {
   "cell_type": "code",
   "execution_count": 54,
   "id": "6e35aa68",
   "metadata": {},
   "outputs": [
    {
     "data": {
      "text/plain": [
       "['my name ', 's sa', '']"
      ]
     },
     "execution_count": 54,
     "metadata": {},
     "output_type": "execute_result"
    }
   ],
   "source": [
    "a.split('i')"
   ]
  },
  {
   "cell_type": "code",
   "execution_count": 55,
   "id": "f56cf39f",
   "metadata": {},
   "outputs": [
    {
     "data": {
      "text/plain": [
       "'MY NAME IS SAI'"
      ]
     },
     "execution_count": 55,
     "metadata": {},
     "output_type": "execute_result"
    }
   ],
   "source": [
    "a.upper()"
   ]
  },
  {
   "cell_type": "code",
   "execution_count": 58,
   "id": "402eb9b0",
   "metadata": {},
   "outputs": [],
   "source": [
    "s = 'sAiRaj'"
   ]
  },
  {
   "cell_type": "code",
   "execution_count": 59,
   "id": "a5a34237",
   "metadata": {},
   "outputs": [
    {
     "data": {
      "text/plain": [
       "'SaIrAJ'"
      ]
     },
     "execution_count": 59,
     "metadata": {},
     "output_type": "execute_result"
    }
   ],
   "source": [
    "s.swapcase()"
   ]
  },
  {
   "cell_type": "code",
   "execution_count": 61,
   "id": "02b90371",
   "metadata": {},
   "outputs": [
    {
     "data": {
      "text/plain": [
       "'Sairaj'"
      ]
     },
     "execution_count": 61,
     "metadata": {},
     "output_type": "execute_result"
    }
   ],
   "source": [
    "s.title()"
   ]
  },
  {
   "cell_type": "code",
   "execution_count": 62,
   "id": "739becf7",
   "metadata": {},
   "outputs": [
    {
     "data": {
      "text/plain": [
       "'Sairaj'"
      ]
     },
     "execution_count": 62,
     "metadata": {},
     "output_type": "execute_result"
    }
   ],
   "source": [
    "s.capitalize()"
   ]
  },
  {
   "cell_type": "code",
   "execution_count": 63,
   "id": "a4ae4ecf",
   "metadata": {},
   "outputs": [
    {
     "data": {
      "text/plain": [
       "'s A i R a j'"
      ]
     },
     "execution_count": 63,
     "metadata": {},
     "output_type": "execute_result"
    }
   ],
   "source": [
    "\" \".join(s)"
   ]
  },
  {
   "cell_type": "code",
   "execution_count": 64,
   "id": "9b02cd04",
   "metadata": {},
   "outputs": [],
   "source": [
    "b = \"OP\""
   ]
  },
  {
   "cell_type": "code",
   "execution_count": 65,
   "id": "aad8ce4c",
   "metadata": {},
   "outputs": [
    {
     "data": {
      "text/plain": [
       "'sOPAOPiOPROPaOPj'"
      ]
     },
     "execution_count": 65,
     "metadata": {},
     "output_type": "execute_result"
    }
   ],
   "source": [
    "b.join(s)"
   ]
  },
  {
   "cell_type": "code",
   "execution_count": 66,
   "id": "c05354cf",
   "metadata": {},
   "outputs": [
    {
     "data": {
      "text/plain": [
       "<reversed at 0x111cb3400>"
      ]
     },
     "execution_count": 66,
     "metadata": {},
     "output_type": "execute_result"
    }
   ],
   "source": [
    "reversed(s)"
   ]
  },
  {
   "cell_type": "code",
   "execution_count": 67,
   "id": "1010478d",
   "metadata": {},
   "outputs": [
    {
     "name": "stdout",
     "output_type": "stream",
     "text": [
      "j\n",
      "a\n",
      "R\n",
      "i\n",
      "A\n",
      "s\n"
     ]
    }
   ],
   "source": [
    "for i in reversed(s):\n",
    "    print(i)"
   ]
  },
  {
   "cell_type": "code",
   "execution_count": 72,
   "id": "9dcd7ccb",
   "metadata": {},
   "outputs": [],
   "source": [
    "s = \" sairaj \""
   ]
  },
  {
   "cell_type": "code",
   "execution_count": 73,
   "id": "8eef4e06",
   "metadata": {},
   "outputs": [
    {
     "data": {
      "text/plain": [
       "' sairaj'"
      ]
     },
     "execution_count": 73,
     "metadata": {},
     "output_type": "execute_result"
    }
   ],
   "source": [
    "s.rstrip()"
   ]
  },
  {
   "cell_type": "code",
   "execution_count": 74,
   "id": "ae3cf61a",
   "metadata": {},
   "outputs": [
    {
     "data": {
      "text/plain": [
       "'sairaj '"
      ]
     },
     "execution_count": 74,
     "metadata": {},
     "output_type": "execute_result"
    }
   ],
   "source": [
    "s.lstrip()"
   ]
  },
  {
   "cell_type": "code",
   "execution_count": 75,
   "id": "f51ec950",
   "metadata": {},
   "outputs": [
    {
     "data": {
      "text/plain": [
       "'sairaj'"
      ]
     },
     "execution_count": 75,
     "metadata": {},
     "output_type": "execute_result"
    }
   ],
   "source": [
    "s.strip()"
   ]
  },
  {
   "cell_type": "code",
   "execution_count": 76,
   "id": "42441e80",
   "metadata": {},
   "outputs": [
    {
     "data": {
      "text/plain": [
       "' sddirddj '"
      ]
     },
     "execution_count": 76,
     "metadata": {},
     "output_type": "execute_result"
    }
   ],
   "source": [
    "s.replace(\"a\",\"dd\")"
   ]
  },
  {
   "cell_type": "code",
   "execution_count": 77,
   "id": "58b34c92",
   "metadata": {},
   "outputs": [
    {
     "data": {
      "text/plain": [
       "'sai     raj'"
      ]
     },
     "execution_count": 77,
     "metadata": {},
     "output_type": "execute_result"
    }
   ],
   "source": [
    "\"sai\\traj\".expandtabs()"
   ]
  },
  {
   "cell_type": "code",
   "execution_count": 80,
   "id": "5c29fb26",
   "metadata": {},
   "outputs": [
    {
     "data": {
      "text/plain": [
       "'ppp sairaj ppp'"
      ]
     },
     "execution_count": 80,
     "metadata": {},
     "output_type": "execute_result"
    }
   ],
   "source": [
    "s.center(14,'p')"
   ]
  },
  {
   "cell_type": "code",
   "execution_count": 81,
   "id": "2b0900b0",
   "metadata": {},
   "outputs": [
    {
     "ename": "TypeError",
     "evalue": "The fill character must be exactly one character long",
     "output_type": "error",
     "traceback": [
      "\u001b[0;31m---------------------------------------------------------------------------\u001b[0m",
      "\u001b[0;31mTypeError\u001b[0m                                 Traceback (most recent call last)",
      "\u001b[0;32m/var/folders/3q/67zhfv792zl9x8lxwtq3yym80000gp/T/ipykernel_2161/669097844.py\u001b[0m in \u001b[0;36m<module>\u001b[0;34m\u001b[0m\n\u001b[0;32m----> 1\u001b[0;31m \u001b[0ms\u001b[0m\u001b[0;34m.\u001b[0m\u001b[0mcenter\u001b[0m\u001b[0;34m(\u001b[0m\u001b[0;36m14\u001b[0m\u001b[0;34m,\u001b[0m\u001b[0;34m'pqr'\u001b[0m\u001b[0;34m)\u001b[0m\u001b[0;34m\u001b[0m\u001b[0;34m\u001b[0m\u001b[0m\n\u001b[0m",
      "\u001b[0;31mTypeError\u001b[0m: The fill character must be exactly one character long"
     ]
    }
   ],
   "source": [
    "s.center(14,'pqr')"
   ]
  },
  {
   "cell_type": "code",
   "execution_count": 87,
   "id": "d9192eac",
   "metadata": {},
   "outputs": [],
   "source": [
    "s=\"Sairaj\""
   ]
  },
  {
   "cell_type": "code",
   "execution_count": 88,
   "id": "86688c00",
   "metadata": {},
   "outputs": [
    {
     "data": {
      "text/plain": [
       "False"
      ]
     },
     "execution_count": 88,
     "metadata": {},
     "output_type": "execute_result"
    }
   ],
   "source": [
    "s.isupper()"
   ]
  },
  {
   "cell_type": "code",
   "execution_count": 91,
   "id": "cbe5a7d0",
   "metadata": {},
   "outputs": [],
   "source": [
    "s = s.upper()"
   ]
  },
  {
   "cell_type": "code",
   "execution_count": 92,
   "id": "36f7dfc8",
   "metadata": {},
   "outputs": [
    {
     "data": {
      "text/plain": [
       "'SAIRAJ'"
      ]
     },
     "execution_count": 92,
     "metadata": {},
     "output_type": "execute_result"
    }
   ],
   "source": [
    "s"
   ]
  },
  {
   "cell_type": "code",
   "execution_count": 93,
   "id": "7ac50dc9",
   "metadata": {},
   "outputs": [
    {
     "data": {
      "text/plain": [
       "True"
      ]
     },
     "execution_count": 93,
     "metadata": {},
     "output_type": "execute_result"
    }
   ],
   "source": [
    "s.isupper()"
   ]
  },
  {
   "cell_type": "code",
   "execution_count": 94,
   "id": "e8878f16",
   "metadata": {},
   "outputs": [
    {
     "data": {
      "text/plain": [
       "False"
      ]
     },
     "execution_count": 94,
     "metadata": {},
     "output_type": "execute_result"
    }
   ],
   "source": [
    "s.islower()"
   ]
  },
  {
   "cell_type": "code",
   "execution_count": 95,
   "id": "d7374e9f",
   "metadata": {},
   "outputs": [
    {
     "data": {
      "text/plain": [
       "False"
      ]
     },
     "execution_count": 95,
     "metadata": {},
     "output_type": "execute_result"
    }
   ],
   "source": [
    "s.isspace()"
   ]
  },
  {
   "cell_type": "code",
   "execution_count": 100,
   "id": "3f12564f",
   "metadata": {},
   "outputs": [],
   "source": [
    "s = ' saira j'"
   ]
  },
  {
   "cell_type": "code",
   "execution_count": 101,
   "id": "3da10976",
   "metadata": {},
   "outputs": [
    {
     "data": {
      "text/plain": [
       "False"
      ]
     },
     "execution_count": 101,
     "metadata": {},
     "output_type": "execute_result"
    }
   ],
   "source": [
    "s.isspace()"
   ]
  },
  {
   "cell_type": "code",
   "execution_count": 103,
   "id": "6939df94",
   "metadata": {},
   "outputs": [],
   "source": [
    "s = '   '"
   ]
  },
  {
   "cell_type": "code",
   "execution_count": 104,
   "id": "f0be8855",
   "metadata": {},
   "outputs": [
    {
     "data": {
      "text/plain": [
       "True"
      ]
     },
     "execution_count": 104,
     "metadata": {},
     "output_type": "execute_result"
    }
   ],
   "source": [
    "s.isspace()"
   ]
  },
  {
   "cell_type": "code",
   "execution_count": 106,
   "id": "2572b010",
   "metadata": {},
   "outputs": [
    {
     "data": {
      "text/plain": [
       "False"
      ]
     },
     "execution_count": 106,
     "metadata": {},
     "output_type": "execute_result"
    }
   ],
   "source": [
    "s.isdigit()"
   ]
  },
  {
   "cell_type": "code",
   "execution_count": 107,
   "id": "0618cb92",
   "metadata": {},
   "outputs": [],
   "source": [
    "s = \"sairaj\""
   ]
  },
  {
   "cell_type": "code",
   "execution_count": 108,
   "id": "2561f77f",
   "metadata": {},
   "outputs": [
    {
     "data": {
      "text/plain": [
       "True"
      ]
     },
     "execution_count": 108,
     "metadata": {},
     "output_type": "execute_result"
    }
   ],
   "source": [
    "s.endswith('j')"
   ]
  },
  {
   "cell_type": "code",
   "execution_count": 109,
   "id": "5a29501a",
   "metadata": {},
   "outputs": [
    {
     "data": {
      "text/plain": [
       "False"
      ]
     },
     "execution_count": 109,
     "metadata": {},
     "output_type": "execute_result"
    }
   ],
   "source": [
    "s.startswith('a')"
   ]
  },
  {
   "cell_type": "code",
   "execution_count": 110,
   "id": "89c74a5b",
   "metadata": {},
   "outputs": [
    {
     "data": {
      "text/plain": [
       "False"
      ]
     },
     "execution_count": 110,
     "metadata": {},
     "output_type": "execute_result"
    }
   ],
   "source": [
    "s.istitle()"
   ]
  },
  {
   "cell_type": "code",
   "execution_count": 111,
   "id": "d2cea5a0",
   "metadata": {},
   "outputs": [],
   "source": [
    "s = \"Sairaj\""
   ]
  },
  {
   "cell_type": "code",
   "execution_count": 112,
   "id": "6a3911a2",
   "metadata": {},
   "outputs": [
    {
     "data": {
      "text/plain": [
       "True"
      ]
     },
     "execution_count": 112,
     "metadata": {},
     "output_type": "execute_result"
    }
   ],
   "source": [
    "s.istitle()"
   ]
  },
  {
   "cell_type": "code",
   "execution_count": 113,
   "id": "31de30f6",
   "metadata": {},
   "outputs": [
    {
     "data": {
      "text/plain": [
       "b'Sairaj'"
      ]
     },
     "execution_count": 113,
     "metadata": {},
     "output_type": "execute_result"
    }
   ],
   "source": [
    "s.encode()"
   ]
  },
  {
   "cell_type": "code",
   "execution_count": 114,
   "id": "4706901c",
   "metadata": {},
   "outputs": [
    {
     "data": {
      "text/plain": [
       "1223"
      ]
     },
     "execution_count": 114,
     "metadata": {},
     "output_type": "execute_result"
    }
   ],
   "source": [
    "int('1223')"
   ]
  },
  {
   "cell_type": "code",
   "execution_count": 115,
   "id": "85a00649",
   "metadata": {},
   "outputs": [
    {
     "ename": "ValueError",
     "evalue": "invalid literal for int() with base 10: 'vcg'",
     "output_type": "error",
     "traceback": [
      "\u001b[0;31m---------------------------------------------------------------------------\u001b[0m",
      "\u001b[0;31mValueError\u001b[0m                                Traceback (most recent call last)",
      "\u001b[0;32m/var/folders/3q/67zhfv792zl9x8lxwtq3yym80000gp/T/ipykernel_2161/3149040507.py\u001b[0m in \u001b[0;36m<module>\u001b[0;34m\u001b[0m\n\u001b[0;32m----> 1\u001b[0;31m \u001b[0mint\u001b[0m\u001b[0;34m(\u001b[0m\u001b[0;34m'vcg'\u001b[0m\u001b[0;34m)\u001b[0m\u001b[0;34m\u001b[0m\u001b[0;34m\u001b[0m\u001b[0m\n\u001b[0m",
      "\u001b[0;31mValueError\u001b[0m: invalid literal for int() with base 10: 'vcg'"
     ]
    }
   ],
   "source": [
    "int('vcg')"
   ]
  },
  {
   "cell_type": "code",
   "execution_count": 132,
   "id": "26c0bb86",
   "metadata": {},
   "outputs": [],
   "source": [
    "l = [1 ,'we', (3+7j), True, 23.44]"
   ]
  },
  {
   "cell_type": "code",
   "execution_count": 133,
   "id": "4969acfd",
   "metadata": {},
   "outputs": [
    {
     "data": {
      "text/plain": [
       "list"
      ]
     },
     "execution_count": 133,
     "metadata": {},
     "output_type": "execute_result"
    }
   ],
   "source": [
    "type(l)"
   ]
  },
  {
   "cell_type": "code",
   "execution_count": 134,
   "id": "c54474ad",
   "metadata": {},
   "outputs": [
    {
     "data": {
      "text/plain": [
       "[1, 'we', (3+7j), True, 23.44]"
      ]
     },
     "execution_count": 134,
     "metadata": {},
     "output_type": "execute_result"
    }
   ],
   "source": [
    "l"
   ]
  },
  {
   "cell_type": "code",
   "execution_count": 135,
   "id": "d65db707",
   "metadata": {},
   "outputs": [
    {
     "data": {
      "text/plain": [
       "1"
      ]
     },
     "execution_count": 135,
     "metadata": {},
     "output_type": "execute_result"
    }
   ],
   "source": [
    "l[0]"
   ]
  },
  {
   "cell_type": "code",
   "execution_count": 136,
   "id": "dcff4d37",
   "metadata": {},
   "outputs": [
    {
     "data": {
      "text/plain": [
       "23.44"
      ]
     },
     "execution_count": 136,
     "metadata": {},
     "output_type": "execute_result"
    }
   ],
   "source": [
    "l[-1]"
   ]
  },
  {
   "cell_type": "code",
   "execution_count": 137,
   "id": "60265054",
   "metadata": {},
   "outputs": [
    {
     "data": {
      "text/plain": [
       "[1, 'we', (3+7j)]"
      ]
     },
     "execution_count": 137,
     "metadata": {},
     "output_type": "execute_result"
    }
   ],
   "source": [
    "l[0:3]"
   ]
  },
  {
   "cell_type": "code",
   "execution_count": 138,
   "id": "0c6ae631",
   "metadata": {},
   "outputs": [
    {
     "data": {
      "text/plain": [
       "[23.44, True, (3+7j), 'we', 1]"
      ]
     },
     "execution_count": 138,
     "metadata": {},
     "output_type": "execute_result"
    }
   ],
   "source": [
    "l[::-1]"
   ]
  },
  {
   "cell_type": "code",
   "execution_count": 139,
   "id": "c7ecbed9",
   "metadata": {},
   "outputs": [
    {
     "data": {
      "text/plain": [
       "[23.44]"
      ]
     },
     "execution_count": 139,
     "metadata": {},
     "output_type": "execute_result"
    }
   ],
   "source": [
    "l[-1:7]"
   ]
  },
  {
   "cell_type": "code",
   "execution_count": 140,
   "id": "a809b33c",
   "metadata": {},
   "outputs": [
    {
     "name": "stdout",
     "output_type": "stream",
     "text": [
      "e\n"
     ]
    }
   ],
   "source": [
    "if type(l[1])==str:\n",
    "    print(l[1][1])"
   ]
  },
  {
   "cell_type": "code",
   "execution_count": 141,
   "id": "cf4fd260",
   "metadata": {},
   "outputs": [
    {
     "data": {
      "text/plain": [
       "'w'"
      ]
     },
     "execution_count": 141,
     "metadata": {},
     "output_type": "execute_result"
    }
   ],
   "source": [
    "l[1][0]"
   ]
  },
  {
   "cell_type": "code",
   "execution_count": 146,
   "id": "84e55ce2",
   "metadata": {},
   "outputs": [
    {
     "data": {
      "text/plain": [
       "3.0"
      ]
     },
     "execution_count": 146,
     "metadata": {},
     "output_type": "execute_result"
    }
   ],
   "source": [
    "l[2].real"
   ]
  },
  {
   "cell_type": "code",
   "execution_count": 147,
   "id": "93280a67",
   "metadata": {},
   "outputs": [
    {
     "data": {
      "text/plain": [
       "7.0"
      ]
     },
     "execution_count": 147,
     "metadata": {},
     "output_type": "execute_result"
    }
   ],
   "source": [
    "l[2].imag"
   ]
  },
  {
   "cell_type": "code",
   "execution_count": 148,
   "id": "cd5fe642",
   "metadata": {},
   "outputs": [],
   "source": [
    "l1 = [13,3]\n",
    "l2 = [4,6]"
   ]
  },
  {
   "cell_type": "code",
   "execution_count": 149,
   "id": "af0146f9",
   "metadata": {},
   "outputs": [
    {
     "data": {
      "text/plain": [
       "[13, 3, 4, 6]"
      ]
     },
     "execution_count": 149,
     "metadata": {},
     "output_type": "execute_result"
    }
   ],
   "source": [
    "l1 + l2"
   ]
  },
  {
   "cell_type": "code",
   "execution_count": 151,
   "id": "305d3f18",
   "metadata": {},
   "outputs": [
    {
     "data": {
      "text/plain": [
       "[13, 3, 'sai']"
      ]
     },
     "execution_count": 151,
     "metadata": {},
     "output_type": "execute_result"
    }
   ],
   "source": [
    "l1 + ['sai']"
   ]
  },
  {
   "cell_type": "code",
   "execution_count": 152,
   "id": "8d5808b0",
   "metadata": {},
   "outputs": [
    {
     "data": {
      "text/plain": [
       "[13, 3, 13, 3]"
      ]
     },
     "execution_count": 152,
     "metadata": {},
     "output_type": "execute_result"
    }
   ],
   "source": [
    "l1*2"
   ]
  },
  {
   "cell_type": "code",
   "execution_count": 153,
   "id": "ef6e0cd0",
   "metadata": {},
   "outputs": [
    {
     "ename": "AttributeError",
     "evalue": "'list' object has no attribute 'replace'",
     "output_type": "error",
     "traceback": [
      "\u001b[0;31m---------------------------------------------------------------------------\u001b[0m",
      "\u001b[0;31mAttributeError\u001b[0m                            Traceback (most recent call last)",
      "\u001b[0;32m/var/folders/3q/67zhfv792zl9x8lxwtq3yym80000gp/T/ipykernel_2161/2855374456.py\u001b[0m in \u001b[0;36m<module>\u001b[0;34m\u001b[0m\n\u001b[0;32m----> 1\u001b[0;31m \u001b[0ml1\u001b[0m\u001b[0;34m.\u001b[0m\u001b[0mreplace\u001b[0m\u001b[0;34m(\u001b[0m\u001b[0;36m13\u001b[0m\u001b[0;34m,\u001b[0m \u001b[0;36m10\u001b[0m\u001b[0;34m)\u001b[0m\u001b[0;34m\u001b[0m\u001b[0;34m\u001b[0m\u001b[0m\n\u001b[0m",
      "\u001b[0;31mAttributeError\u001b[0m: 'list' object has no attribute 'replace'"
     ]
    }
   ],
   "source": [
    "l1.replace(13, 10)"
   ]
  },
  {
   "cell_type": "code",
   "execution_count": 154,
   "id": "8892d46b",
   "metadata": {},
   "outputs": [],
   "source": [
    "l1[0]=10"
   ]
  },
  {
   "cell_type": "code",
   "execution_count": 155,
   "id": "72c5dba5",
   "metadata": {},
   "outputs": [
    {
     "data": {
      "text/plain": [
       "[10, 3]"
      ]
     },
     "execution_count": 155,
     "metadata": {},
     "output_type": "execute_result"
    }
   ],
   "source": [
    "l1"
   ]
  },
  {
   "cell_type": "code",
   "execution_count": 158,
   "id": "c3ebe854",
   "metadata": {},
   "outputs": [],
   "source": [
    "l3 = ['sai', 'raj', 'saw', 'ant']"
   ]
  },
  {
   "cell_type": "code",
   "execution_count": 159,
   "id": "43651766",
   "metadata": {},
   "outputs": [
    {
     "ename": "TypeError",
     "evalue": "'str' object does not support item assignment",
     "output_type": "error",
     "traceback": [
      "\u001b[0;31m---------------------------------------------------------------------------\u001b[0m",
      "\u001b[0;31mTypeError\u001b[0m                                 Traceback (most recent call last)",
      "\u001b[0;32m/var/folders/3q/67zhfv792zl9x8lxwtq3yym80000gp/T/ipykernel_2161/446815271.py\u001b[0m in \u001b[0;36m<module>\u001b[0;34m\u001b[0m\n\u001b[0;32m----> 1\u001b[0;31m \u001b[0ml3\u001b[0m\u001b[0;34m[\u001b[0m\u001b[0;36m1\u001b[0m\u001b[0;34m]\u001b[0m\u001b[0;34m[\u001b[0m\u001b[0;36m2\u001b[0m\u001b[0;34m]\u001b[0m \u001b[0;34m=\u001b[0m \u001b[0;34m'm'\u001b[0m\u001b[0;34m\u001b[0m\u001b[0;34m\u001b[0m\u001b[0m\n\u001b[0m",
      "\u001b[0;31mTypeError\u001b[0m: 'str' object does not support item assignment"
     ]
    }
   ],
   "source": [
    "l3[1][2] = 'm'"
   ]
  },
  {
   "cell_type": "code",
   "execution_count": 160,
   "id": "238f64c8",
   "metadata": {},
   "outputs": [
    {
     "data": {
      "text/plain": [
       "'ram'"
      ]
     },
     "execution_count": 160,
     "metadata": {},
     "output_type": "execute_result"
    }
   ],
   "source": [
    "l3[1].replace('j','m')"
   ]
  },
  {
   "cell_type": "code",
   "execution_count": 161,
   "id": "73ad0c96",
   "metadata": {},
   "outputs": [
    {
     "data": {
      "text/plain": [
       "['sai', 'raj', 'saw', 'ant']"
      ]
     },
     "execution_count": 161,
     "metadata": {},
     "output_type": "execute_result"
    }
   ],
   "source": [
    "l3"
   ]
  },
  {
   "cell_type": "code",
   "execution_count": 162,
   "id": "bc89d2ec",
   "metadata": {},
   "outputs": [
    {
     "data": {
      "text/plain": [
       "True"
      ]
     },
     "execution_count": 162,
     "metadata": {},
     "output_type": "execute_result"
    }
   ],
   "source": [
    "'raj' in l3"
   ]
  },
  {
   "cell_type": "code",
   "execution_count": 163,
   "id": "febaca24",
   "metadata": {},
   "outputs": [],
   "source": [
    "l3.append('sid')"
   ]
  },
  {
   "cell_type": "code",
   "execution_count": 164,
   "id": "a7b6c629",
   "metadata": {},
   "outputs": [
    {
     "data": {
      "text/plain": [
       "['sai', 'raj', 'saw', 'ant', 'sid']"
      ]
     },
     "execution_count": 164,
     "metadata": {},
     "output_type": "execute_result"
    }
   ],
   "source": [
    "l3"
   ]
  },
  {
   "cell_type": "code",
   "execution_count": 167,
   "id": "37aa2f77",
   "metadata": {},
   "outputs": [
    {
     "data": {
      "text/plain": [
       "'sid'"
      ]
     },
     "execution_count": 167,
     "metadata": {},
     "output_type": "execute_result"
    }
   ],
   "source": [
    "l3.pop()"
   ]
  },
  {
   "cell_type": "code",
   "execution_count": 168,
   "id": "26a09c8b",
   "metadata": {},
   "outputs": [
    {
     "data": {
      "text/plain": [
       "['sai', 'raj', 'saw', 'ant']"
      ]
     },
     "execution_count": 168,
     "metadata": {},
     "output_type": "execute_result"
    }
   ],
   "source": [
    "l3"
   ]
  },
  {
   "cell_type": "code",
   "execution_count": 169,
   "id": "5c2ad5d9",
   "metadata": {},
   "outputs": [
    {
     "data": {
      "text/plain": [
       "'raj'"
      ]
     },
     "execution_count": 169,
     "metadata": {},
     "output_type": "execute_result"
    }
   ],
   "source": [
    "l3.pop(1)"
   ]
  },
  {
   "cell_type": "code",
   "execution_count": 170,
   "id": "3db5751c",
   "metadata": {},
   "outputs": [
    {
     "data": {
      "text/plain": [
       "['sai', 'saw', 'ant']"
      ]
     },
     "execution_count": 170,
     "metadata": {},
     "output_type": "execute_result"
    }
   ],
   "source": [
    "l3"
   ]
  },
  {
   "cell_type": "code",
   "execution_count": 171,
   "id": "5c78216b",
   "metadata": {},
   "outputs": [],
   "source": [
    "l3.insert(1, 'raj')"
   ]
  },
  {
   "cell_type": "code",
   "execution_count": 172,
   "id": "585a36b7",
   "metadata": {},
   "outputs": [
    {
     "data": {
      "text/plain": [
       "['sai', 'raj', 'saw', 'ant']"
      ]
     },
     "execution_count": 172,
     "metadata": {},
     "output_type": "execute_result"
    }
   ],
   "source": [
    "l3"
   ]
  },
  {
   "cell_type": "code",
   "execution_count": 173,
   "id": "e10ed55b",
   "metadata": {},
   "outputs": [
    {
     "data": {
      "text/plain": [
       "['ant', 'saw', 'raj', 'sai']"
      ]
     },
     "execution_count": 173,
     "metadata": {},
     "output_type": "execute_result"
    }
   ],
   "source": [
    "l3[::-1]"
   ]
  },
  {
   "cell_type": "code",
   "execution_count": 174,
   "id": "73a94e5b",
   "metadata": {},
   "outputs": [
    {
     "data": {
      "text/plain": [
       "['sai', 'raj', 'saw', 'ant']"
      ]
     },
     "execution_count": 174,
     "metadata": {},
     "output_type": "execute_result"
    }
   ],
   "source": [
    "l3"
   ]
  },
  {
   "cell_type": "code",
   "execution_count": 175,
   "id": "8fc0f74e",
   "metadata": {},
   "outputs": [],
   "source": [
    "l3.reverse()"
   ]
  },
  {
   "cell_type": "code",
   "execution_count": 176,
   "id": "508cca7f",
   "metadata": {},
   "outputs": [
    {
     "data": {
      "text/plain": [
       "['ant', 'saw', 'raj', 'sai']"
      ]
     },
     "execution_count": 176,
     "metadata": {},
     "output_type": "execute_result"
    }
   ],
   "source": [
    "l3"
   ]
  },
  {
   "cell_type": "code",
   "execution_count": 177,
   "id": "0fe5dc47",
   "metadata": {},
   "outputs": [],
   "source": [
    "l3.append([1,32,4])"
   ]
  },
  {
   "cell_type": "code",
   "execution_count": 178,
   "id": "c3be0677",
   "metadata": {},
   "outputs": [
    {
     "data": {
      "text/plain": [
       "['ant', 'saw', 'raj', 'sai', [1, 32, 4]]"
      ]
     },
     "execution_count": 178,
     "metadata": {},
     "output_type": "execute_result"
    }
   ],
   "source": [
    "l3"
   ]
  },
  {
   "cell_type": "code",
   "execution_count": 181,
   "id": "7b69cc04",
   "metadata": {},
   "outputs": [],
   "source": [
    "l3.extend([23,56,'sid',[1,2,3], 'sai'])"
   ]
  },
  {
   "cell_type": "code",
   "execution_count": 182,
   "id": "15f2c876",
   "metadata": {},
   "outputs": [
    {
     "data": {
      "text/plain": [
       "['ant',\n",
       " 'saw',\n",
       " 'raj',\n",
       " 'sai',\n",
       " [1, 32, 4],\n",
       " 23,\n",
       " 56,\n",
       " 'sid',\n",
       " [1, 2, 3],\n",
       " 23,\n",
       " 56,\n",
       " 'sid',\n",
       " [1, 2, 3],\n",
       " 'sai']"
      ]
     },
     "execution_count": 182,
     "metadata": {},
     "output_type": "execute_result"
    }
   ],
   "source": [
    "l3"
   ]
  },
  {
   "cell_type": "code",
   "execution_count": null,
   "id": "ca0c754c",
   "metadata": {},
   "outputs": [],
   "source": []
  }
 ],
 "metadata": {
  "kernelspec": {
   "display_name": "Python 3 (ipykernel)",
   "language": "python",
   "name": "python3"
  },
  "language_info": {
   "codemirror_mode": {
    "name": "ipython",
    "version": 3
   },
   "file_extension": ".py",
   "mimetype": "text/x-python",
   "name": "python",
   "nbconvert_exporter": "python",
   "pygments_lexer": "ipython3",
   "version": "3.9.7"
  }
 },
 "nbformat": 4,
 "nbformat_minor": 5
}
