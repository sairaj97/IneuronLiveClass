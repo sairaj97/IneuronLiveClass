{
 "cells": [
  {
   "cell_type": "code",
   "execution_count": 1,
   "id": "fd1e42e2",
   "metadata": {},
   "outputs": [],
   "source": [
    "import os"
   ]
  },
  {
   "cell_type": "code",
   "execution_count": 2,
   "id": "6644c983",
   "metadata": {},
   "outputs": [],
   "source": [
    "def test(a,b):\n",
    "    return a+b"
   ]
  },
  {
   "cell_type": "code",
   "execution_count": 3,
   "id": "89a43dba",
   "metadata": {},
   "outputs": [
    {
     "data": {
      "text/plain": [
       "'/Users/kustarddev'"
      ]
     },
     "execution_count": 3,
     "metadata": {},
     "output_type": "execute_result"
    }
   ],
   "source": [
    "pwd()"
   ]
  },
  {
   "cell_type": "code",
   "execution_count": 6,
   "id": "583c6498",
   "metadata": {},
   "outputs": [
    {
     "name": "stdout",
     "output_type": "stream",
     "text": [
      "12700116000imagebib_no6010-clipped.png\r\n",
      "12700116000imagebib_no6010-full.png\r\n",
      "12700116000imagebib_no6010-thumb.png\r\n",
      "12700116000marathonrunner_statsbib_no_191-clipped.png\r\n",
      "12700116000marathonrunner_statsbib_no_191-full.png\r\n",
      "12700116000marathonrunner_statsbib_no_191-thumb.png\r\n",
      "364858runner_statisticsbib_no1745-full.png\r\n",
      "\u001b[34mApplications\u001b[m\u001b[m/\r\n",
      "\u001b[34mDesktop\u001b[m\u001b[m/\r\n",
      "\u001b[34mDev\u001b[m\u001b[m/\r\n",
      "\u001b[34mDocuments\u001b[m\u001b[m/\r\n",
      "\u001b[34mDownloads\u001b[m\u001b[m/\r\n",
      "\u001b[34mLibrary\u001b[m\u001b[m/\r\n",
      "\u001b[34mMovies\u001b[m\u001b[m/\r\n",
      "\u001b[34mMusic\u001b[m\u001b[m/\r\n",
      "\u001b[34mPictures\u001b[m\u001b[m/\r\n",
      "\u001b[34mPostman\u001b[m\u001b[m/\r\n",
      "\u001b[34mPublic\u001b[m\u001b[m/\r\n",
      "\u001b[34mPycharmProjects\u001b[m\u001b[m/\r\n",
      "Untitled.ipynb\r\n",
      "exceptionhandling10.ipynb\r\n",
      "exceptionhandling11.ipynb\r\n",
      "functions7.ipynb\r\n",
      "functions8.ipynb\r\n",
      "functions9.ipynb\r\n",
      "google.txt\r\n",
      "\u001b[34mineuron\u001b[m\u001b[m/\r\n",
      "ineuron_chris_1.ipynb\r\n",
      "ineuron_chris_10.ipynb\r\n",
      "ineuron_chris_11.ipynb\r\n",
      "ineuron_chris_11_a.ipynb\r\n",
      "ineuron_chris_12.ipynb\r\n",
      "ineuron_chris_13.ipynb\r\n",
      "ineuron_chris_14.ipynb\r\n",
      "ineuron_chris_16.ipynb\r\n",
      "ineuron_chris_17.ipynb\r\n",
      "ineuron_chris_2.ipynb\r\n",
      "ineuron_chris_3.ipynb\r\n",
      "ineuron_chris_4.ipynb\r\n",
      "ineuron_chris_5.ipynb\r\n",
      "ineuron_chris_6.ipynb\r\n",
      "ineuron_chris_7.ipynb\r\n",
      "ineuron_chris_8.ipynb\r\n",
      "ineuron_chris_9.ipynb\r\n",
      "ineuron_christmas_assignments.ipynb\r\n",
      "ineuron_chrius_13.ipynb\r\n",
      "java_error_in_pycharm.hprof\r\n",
      "jmeter.log\r\n",
      "logging12.ipynb\r\n",
      "modules13.ipynb\r\n",
      "\u001b[34mnode_modules\u001b[m\u001b[m/\r\n",
      "package-lock.json\r\n",
      "practprob6.ipynb\r\n",
      "tes.txt\r\n",
      "test.log\r\n",
      "test1.log\r\n",
      "test1.py\r\n",
      "test1.txt\r\n",
      "test2.log\r\n",
      "test5.txt\r\n",
      "text1.txt\r\n",
      "text2.txt\r\n"
     ]
    }
   ],
   "source": [
    "ls"
   ]
  },
  {
   "cell_type": "code",
   "execution_count": 1,
   "id": "65a456f2",
   "metadata": {},
   "outputs": [],
   "source": [
    "import test1"
   ]
  },
  {
   "cell_type": "code",
   "execution_count": 2,
   "id": "4dcb5fe0",
   "metadata": {},
   "outputs": [
    {
     "ename": "TypeError",
     "evalue": "'module' object is not callable",
     "output_type": "error",
     "traceback": [
      "\u001b[0;31m---------------------------------------------------------------------------\u001b[0m",
      "\u001b[0;31mTypeError\u001b[0m                                 Traceback (most recent call last)",
      "\u001b[0;32m/var/folders/3q/67zhfv792zl9x8lxwtq3yym80000gp/T/ipykernel_1453/1525164551.py\u001b[0m in \u001b[0;36m<module>\u001b[0;34m\u001b[0m\n\u001b[0;32m----> 1\u001b[0;31m \u001b[0mtest1\u001b[0m\u001b[0;34m(\u001b[0m\u001b[0;36m2\u001b[0m\u001b[0;34m,\u001b[0m\u001b[0;36m3\u001b[0m\u001b[0;34m)\u001b[0m\u001b[0;34m\u001b[0m\u001b[0;34m\u001b[0m\u001b[0m\n\u001b[0m",
      "\u001b[0;31mTypeError\u001b[0m: 'module' object is not callable"
     ]
    }
   ],
   "source": [
    "test1(2,3)"
   ]
  },
  {
   "cell_type": "code",
   "execution_count": 3,
   "id": "4c7554d0",
   "metadata": {},
   "outputs": [
    {
     "data": {
      "text/plain": [
       "5"
      ]
     },
     "execution_count": 3,
     "metadata": {},
     "output_type": "execute_result"
    }
   ],
   "source": [
    "test1.test1(2,3)"
   ]
  },
  {
   "cell_type": "code",
   "execution_count": 4,
   "id": "c6f73600",
   "metadata": {},
   "outputs": [
    {
     "data": {
      "text/plain": [
       "{1: 4, 2: 1, 3: 2, 'TRYRTYRT': 3}"
      ]
     },
     "execution_count": 4,
     "metadata": {},
     "output_type": "execute_result"
    }
   ],
   "source": [
    "test1.ind([1,2,3,\"TRYRTYRT\", True])"
   ]
  },
  {
   "cell_type": "code",
   "execution_count": 5,
   "id": "06312b91",
   "metadata": {},
   "outputs": [
    {
     "data": {
      "text/plain": [
       "[1, 2, 3, 4, 5, 6, 7, 8, 9]"
      ]
     },
     "execution_count": 5,
     "metadata": {},
     "output_type": "execute_result"
    }
   ],
   "source": [
    "test1.mulconcate([1,2,3],[4,5,6],[7,8,9])"
   ]
  },
  {
   "cell_type": "code",
   "execution_count": 1,
   "id": "b0f99be0",
   "metadata": {},
   "outputs": [],
   "source": [
    "from test1 import ind"
   ]
  },
  {
   "cell_type": "code",
   "execution_count": 2,
   "id": "fc9dd70b",
   "metadata": {},
   "outputs": [
    {
     "ename": "NameError",
     "evalue": "name 'test1' is not defined",
     "output_type": "error",
     "traceback": [
      "\u001b[0;31m---------------------------------------------------------------------------\u001b[0m",
      "\u001b[0;31mNameError\u001b[0m                                 Traceback (most recent call last)",
      "\u001b[0;32m/var/folders/3q/67zhfv792zl9x8lxwtq3yym80000gp/T/ipykernel_1489/1525164551.py\u001b[0m in \u001b[0;36m<module>\u001b[0;34m\u001b[0m\n\u001b[0;32m----> 1\u001b[0;31m \u001b[0mtest1\u001b[0m\u001b[0;34m(\u001b[0m\u001b[0;36m2\u001b[0m\u001b[0;34m,\u001b[0m\u001b[0;36m3\u001b[0m\u001b[0;34m)\u001b[0m\u001b[0;34m\u001b[0m\u001b[0;34m\u001b[0m\u001b[0m\n\u001b[0m",
      "\u001b[0;31mNameError\u001b[0m: name 'test1' is not defined"
     ]
    }
   ],
   "source": [
    "test1(2,3)"
   ]
  },
  {
   "cell_type": "code",
   "execution_count": 2,
   "id": "60386f51",
   "metadata": {},
   "outputs": [],
   "source": [
    "from test1 import *"
   ]
  },
  {
   "cell_type": "code",
   "execution_count": 3,
   "id": "aab61dd4",
   "metadata": {},
   "outputs": [
    {
     "data": {
      "text/plain": [
       "5"
      ]
     },
     "execution_count": 3,
     "metadata": {},
     "output_type": "execute_result"
    }
   ],
   "source": [
    "test1(2,3)"
   ]
  },
  {
   "cell_type": "code",
   "execution_count": 4,
   "id": "01f646fa",
   "metadata": {},
   "outputs": [
    {
     "data": {
      "text/plain": [
       "[1, 2, 3, 4, 5, 6, 7, 8, 9]"
      ]
     },
     "execution_count": 4,
     "metadata": {},
     "output_type": "execute_result"
    }
   ],
   "source": [
    "mulconcate([1,2,3],[4,5,6],[7,8,9])"
   ]
  },
  {
   "cell_type": "code",
   "execution_count": 5,
   "id": "c25de1c6",
   "metadata": {},
   "outputs": [
    {
     "data": {
      "text/plain": [
       "{1: 4, 2: 1, 3: 2, 'TRYRTYRT': 3}"
      ]
     },
     "execution_count": 5,
     "metadata": {},
     "output_type": "execute_result"
    }
   ],
   "source": [
    "ind([1,2,3,\"TRYRTYRT\", True])"
   ]
  },
  {
   "cell_type": "code",
   "execution_count": 6,
   "id": "9abe4007",
   "metadata": {},
   "outputs": [
    {
     "data": {
      "text/plain": [
       "['In',\n",
       " 'Out',\n",
       " '_',\n",
       " '_3',\n",
       " '_4',\n",
       " '_5',\n",
       " '__',\n",
       " '___',\n",
       " '__builtin__',\n",
       " '__builtins__',\n",
       " '__doc__',\n",
       " '__loader__',\n",
       " '__name__',\n",
       " '__package__',\n",
       " '__spec__',\n",
       " '_dh',\n",
       " '_i',\n",
       " '_i1',\n",
       " '_i2',\n",
       " '_i3',\n",
       " '_i4',\n",
       " '_i5',\n",
       " '_i6',\n",
       " '_ih',\n",
       " '_ii',\n",
       " '_iii',\n",
       " '_oh',\n",
       " 'exit',\n",
       " 'get_ipython',\n",
       " 'ind',\n",
       " 'mulconcate',\n",
       " 'os',\n",
       " 'quit',\n",
       " 'test1']"
      ]
     },
     "execution_count": 6,
     "metadata": {},
     "output_type": "execute_result"
    }
   ],
   "source": [
    "dir()"
   ]
  },
  {
   "cell_type": "code",
   "execution_count": 7,
   "id": "ea8e3257",
   "metadata": {},
   "outputs": [
    {
     "data": {
      "text/plain": [
       "<_io.TextIOWrapper name='my_module.py' mode='w' encoding='UTF-8'>"
      ]
     },
     "execution_count": 7,
     "metadata": {},
     "output_type": "execute_result"
    }
   ],
   "source": [
    "open(\"my_module.py\",\"w\")"
   ]
  },
  {
   "cell_type": "code",
   "execution_count": 1,
   "id": "418f92d2",
   "metadata": {},
   "outputs": [],
   "source": [
    "import my_module"
   ]
  },
  {
   "cell_type": "code",
   "execution_count": 4,
   "id": "4f124fdc",
   "metadata": {},
   "outputs": [
    {
     "data": {
      "text/plain": [
       "['data science', 'block chain', 'drone', 'robotics']"
      ]
     },
     "execution_count": 4,
     "metadata": {},
     "output_type": "execute_result"
    }
   ],
   "source": [
    "my_module.get_course()"
   ]
  },
  {
   "cell_type": "code",
   "execution_count": 1,
   "id": "2c4bc17f",
   "metadata": {},
   "outputs": [],
   "source": [
    "from my_module import *"
   ]
  },
  {
   "cell_type": "code",
   "execution_count": 2,
   "id": "01575e8e",
   "metadata": {},
   "outputs": [
    {
     "data": {
      "text/plain": [
       "['data science', 'block chain', 'drone', 'robotics']"
      ]
     },
     "execution_count": 2,
     "metadata": {},
     "output_type": "execute_result"
    }
   ],
   "source": [
    "get_course()"
   ]
  },
  {
   "cell_type": "code",
   "execution_count": 3,
   "id": "984a16ef",
   "metadata": {},
   "outputs": [
    {
     "data": {
      "text/plain": [
       "'ineuron'"
      ]
     },
     "execution_count": 3,
     "metadata": {},
     "output_type": "execute_result"
    }
   ],
   "source": [
    "get_name()"
   ]
  },
  {
   "cell_type": "code",
   "execution_count": 4,
   "id": "1819d41f",
   "metadata": {},
   "outputs": [
    {
     "data": {
      "text/plain": [
       "'greetings from ineuron'"
      ]
     },
     "execution_count": 4,
     "metadata": {},
     "output_type": "execute_result"
    }
   ],
   "source": [
    "greetings()"
   ]
  },
  {
   "cell_type": "code",
   "execution_count": 1,
   "id": "85966a49",
   "metadata": {},
   "outputs": [
    {
     "name": "stdout",
     "output_type": "stream",
     "text": [
      "1\n",
      "23\n",
      "33\n"
     ]
    }
   ],
   "source": [
    "l = [1,23,33]\n",
    "for i in l:\n",
    "    print(i)"
   ]
  },
  {
   "cell_type": "code",
   "execution_count": 2,
   "id": "83df7183",
   "metadata": {},
   "outputs": [],
   "source": [
    "l.reverse()"
   ]
  },
  {
   "cell_type": "code",
   "execution_count": 3,
   "id": "7b942cf5",
   "metadata": {},
   "outputs": [
    {
     "data": {
      "text/plain": [
       "[33, 23, 1]"
      ]
     },
     "execution_count": 3,
     "metadata": {},
     "output_type": "execute_result"
    }
   ],
   "source": [
    "l"
   ]
  },
  {
   "cell_type": "code",
   "execution_count": 4,
   "id": "da9b11cb",
   "metadata": {},
   "outputs": [],
   "source": [
    "class car:\n",
    "    pass"
   ]
  },
  {
   "cell_type": "code",
   "execution_count": 19,
   "id": "d2c97af6",
   "metadata": {},
   "outputs": [],
   "source": [
    "class car:\n",
    "    def __init__(self, brand_name, fuel_type, body_type):\n",
    "        self.brand_name = brand_name\n",
    "        self.fuel_type = fuel_type\n",
    "        self.body_type = body_type\n",
    "        \n",
    "    def des_car(self):\n",
    "        print(self.brand_name, self.fuel_type, self.body_type)"
   ]
  },
  {
   "cell_type": "code",
   "execution_count": 20,
   "id": "037368cd",
   "metadata": {},
   "outputs": [
    {
     "ename": "TypeError",
     "evalue": "__init__() missing 3 required positional arguments: 'brand_name', 'fuel_type', and 'body_type'",
     "output_type": "error",
     "traceback": [
      "\u001b[0;31m---------------------------------------------------------------------------\u001b[0m",
      "\u001b[0;31mTypeError\u001b[0m                                 Traceback (most recent call last)",
      "\u001b[0;32m/var/folders/3q/67zhfv792zl9x8lxwtq3yym80000gp/T/ipykernel_1370/2739734105.py\u001b[0m in \u001b[0;36m<module>\u001b[0;34m\u001b[0m\n\u001b[0;32m----> 1\u001b[0;31m \u001b[0minnova\u001b[0m \u001b[0;34m=\u001b[0m \u001b[0mcar\u001b[0m\u001b[0;34m(\u001b[0m\u001b[0;34m)\u001b[0m\u001b[0;34m\u001b[0m\u001b[0;34m\u001b[0m\u001b[0m\n\u001b[0m",
      "\u001b[0;31mTypeError\u001b[0m: __init__() missing 3 required positional arguments: 'brand_name', 'fuel_type', and 'body_type'"
     ]
    }
   ],
   "source": [
    "innova = car()"
   ]
  },
  {
   "cell_type": "code",
   "execution_count": 25,
   "id": "d8f4b5c2",
   "metadata": {},
   "outputs": [],
   "source": [
    "innova = car(\"toyota\", \"petrol\", \"suv\")"
   ]
  },
  {
   "cell_type": "code",
   "execution_count": 22,
   "id": "4ffab5b0",
   "metadata": {},
   "outputs": [
    {
     "name": "stdout",
     "output_type": "stream",
     "text": [
      "<__main__.car object at 0x1078c5550>\n"
     ]
    }
   ],
   "source": [
    "print(innova)"
   ]
  },
  {
   "cell_type": "code",
   "execution_count": 26,
   "id": "db8c8a44",
   "metadata": {},
   "outputs": [
    {
     "name": "stdout",
     "output_type": "stream",
     "text": [
      "toyota petrol suv\n"
     ]
    }
   ],
   "source": [
    "innova.des_car()"
   ]
  },
  {
   "cell_type": "code",
   "execution_count": 27,
   "id": "cd1a1778",
   "metadata": {},
   "outputs": [
    {
     "data": {
      "text/plain": [
       "'toyota'"
      ]
     },
     "execution_count": 27,
     "metadata": {},
     "output_type": "execute_result"
    }
   ],
   "source": [
    "innova.brand_name"
   ]
  },
  {
   "cell_type": "code",
   "execution_count": 28,
   "id": "163e6f96",
   "metadata": {},
   "outputs": [
    {
     "data": {
      "text/plain": [
       "'petrol'"
      ]
     },
     "execution_count": 28,
     "metadata": {},
     "output_type": "execute_result"
    }
   ],
   "source": [
    "innova.fuel_type"
   ]
  },
  {
   "cell_type": "code",
   "execution_count": 29,
   "id": "04121c20",
   "metadata": {},
   "outputs": [],
   "source": [
    "nexon = car(\"tata\",\"electric\",\"suv\")\n",
    "fortuner = car(\"toyota\", \"diesel\", \"suv\")"
   ]
  },
  {
   "cell_type": "code",
   "execution_count": 35,
   "id": "d631ac97",
   "metadata": {},
   "outputs": [
    {
     "name": "stdout",
     "output_type": "stream",
     "text": [
      "tata electric suv\n"
     ]
    }
   ],
   "source": [
    "nexon.des_car()"
   ]
  },
  {
   "cell_type": "code",
   "execution_count": 36,
   "id": "7aec8cbe",
   "metadata": {},
   "outputs": [
    {
     "data": {
      "text/plain": [
       "'tata'"
      ]
     },
     "execution_count": 36,
     "metadata": {},
     "output_type": "execute_result"
    }
   ],
   "source": [
    "nexon.brand_name"
   ]
  },
  {
   "cell_type": "code",
   "execution_count": 37,
   "id": "c256eee1",
   "metadata": {},
   "outputs": [
    {
     "data": {
      "text/plain": [
       "'diesel'"
      ]
     },
     "execution_count": 37,
     "metadata": {},
     "output_type": "execute_result"
    }
   ],
   "source": [
    "fortuner.fuel_type"
   ]
  },
  {
   "cell_type": "code",
   "execution_count": 38,
   "id": "5698b04f",
   "metadata": {},
   "outputs": [
    {
     "data": {
      "text/plain": [
       "<__main__.car at 0x1096d4490>"
      ]
     },
     "execution_count": 38,
     "metadata": {},
     "output_type": "execute_result"
    }
   ],
   "source": [
    "car(\"toyota\", \"diesel\", \"suv\")"
   ]
  },
  {
   "cell_type": "code",
   "execution_count": null,
   "id": "b9710ffd",
   "metadata": {},
   "outputs": [],
   "source": []
  }
 ],
 "metadata": {
  "kernelspec": {
   "display_name": "Python 3 (ipykernel)",
   "language": "python",
   "name": "python3"
  },
  "language_info": {
   "codemirror_mode": {
    "name": "ipython",
    "version": 3
   },
   "file_extension": ".py",
   "mimetype": "text/x-python",
   "name": "python",
   "nbconvert_exporter": "python",
   "pygments_lexer": "ipython3",
   "version": "3.9.7"
  }
 },
 "nbformat": 4,
 "nbformat_minor": 5
}
